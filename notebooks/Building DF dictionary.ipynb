{
 "cells": [
  {
   "cell_type": "code",
   "execution_count": 1,
   "metadata": {},
   "outputs": [
    {
     "name": "stderr",
     "output_type": "stream",
     "text": [
      "C:\\ProgramData\\Anaconda2\\lib\\site-packages\\gensim\\utils.py:865: UserWarning: detected Windows; aliasing chunkize to chunkize_serial\n",
      "  warnings.warn(\"detected Windows; aliasing chunkize to chunkize_serial\")\n",
      "Using TensorFlow backend.\n",
      "C:\\ProgramData\\Anaconda2\\lib\\site-packages\\sklearn\\cross_validation.py:44: DeprecationWarning: This module was deprecated in version 0.18 in favor of the model_selection module into which all the refactored classes and functions are moved. Also note that the interface of the new CV iterators are different from that of this module. This module will be removed in 0.20.\n",
      "  \"This module will be removed in 0.20.\", DeprecationWarning)\n",
      "C:\\ProgramData\\Anaconda2\\lib\\site-packages\\sklearn\\grid_search.py:43: DeprecationWarning: This module was deprecated in version 0.18 in favor of the model_selection module into which all the refactored classes and functions are moved. This module will be removed in 0.20.\n",
      "  DeprecationWarning)\n"
     ]
    }
   ],
   "source": [
    "%matplotlib inline\n",
    "import matplotlib.pyplot as plt\n",
    "import pandas as pd\n",
    "from collections import OrderedDict\n",
    "from operator import itemgetter\n",
    "import matplotlib.pyplot as plt\n",
    "import pandas as pd\n",
    "from time import sleep\n",
    "import sys\n",
    "import gensim\n",
    "from gensim import corpora, models\n",
    "import os\n",
    "import pandas as pd\n",
    "import numpy as np\n",
    "import sys\n",
    "import nltk\n",
    "from nltk.corpus import stopwords\n",
    "import re\n",
    "from nltk.stem.wordnet import WordNetLemmatizer\n",
    "lmtzr = WordNetLemmatizer()\n",
    "import os\n",
    "from sklearn.feature_extraction.text import CountVectorizer\n",
    "from sklearn.feature_extraction.text import  TfidfVectorizer\n",
    "from sklearn.ensemble import RandomForestClassifier\n",
    "import pandas as pd\n",
    "import numpy as np\n",
    "import sys\n",
    "import nltk\n",
    "from nltk.corpus import stopwords\n",
    "import cPickle\n",
    "import sklearn\n",
    "from sklearn.pipeline import Pipeline\n",
    "from sklearn.grid_search import GridSearchCV\n",
    "from sklearn.preprocessing import OneHotEncoder\n",
    "from sklearn.cross_validation import train_test_split\n",
    "from sklearn.ensemble import RandomForestClassifier\n",
    "from sklearn.metrics import accuracy_score,roc_curve,auc,classification_report\n",
    "from sklearn.metrics import precision_recall_curve\n",
    "from sklearn.grid_search import GridSearchCV"
   ]
  },
  {
   "cell_type": "code",
   "execution_count": 2,
   "metadata": {
    "collapsed": true
   },
   "outputs": [],
   "source": [
    "from bs4 import BeautifulSoup   \n",
    "dt=pd.read_csv(\"C:\\\\Users\\\\badeepak\\Documents\\Work\\URL PC\\\\page_titles_aug184\\\\page_titles_aug184.txt\",sep=\"\\t\")\n",
    "dt.columns = ['title']"
   ]
  },
  {
   "cell_type": "code",
   "execution_count": 40,
   "metadata": {
    "collapsed": true
   },
   "outputs": [],
   "source": [
    "def process(raw_review ):\n",
    "    #p1= re.compile('^[0-9]*[0-9]$');\n",
    "    #p2= re.compile('sdl*');\n",
    "    review_text = BeautifulSoup(raw_review).get_text() \n",
    "    # 2. Remove non-letters        \n",
    "    letters_only = re.sub(\"[^a-zA-Z0-9]\", \" \", review_text) \n",
    "    # 3. Convert to lower case, split into individual words\n",
    "    words = letters_only.lower().split()                             \n",
    "    # 4. In Python, searching a set is much faster than searching\n",
    "    #   a list, so convert the stop words to a set\n",
    "    stops = set(stopwords.words(\"english\"))                  \n",
    "    # 5. Remove stop words\n",
    "    #meaningful_words = [w for w in words if not w in stops and not p2.match(w) and not p1.match(w)]   \n",
    "    meaningful_words = [str(lmtzr.lemmatize(w)) for w in words if not w in stops ]   \n",
    "    result = \" \".join(meaningful_words)\n",
    "    return result"
   ]
  },
  {
   "cell_type": "code",
   "execution_count": 80,
   "metadata": {},
   "outputs": [
    {
     "name": "stdout",
     "output_type": "stream",
     "text": [
      "cleaning time(sec) : 0.0\n",
      "counting time(sec) : 73.4230000973\n",
      "vocab size  238300\n",
      "no. of titles considered  5433660\n"
     ]
    }
   ],
   "source": [
    "start = time.time()\n",
    "#cleaned_title = [process(i) for i in dt['title']]\n",
    "#took 106m to clean\n",
    "mid = time.time()\n",
    "vectorizer = CountVectorizer(analyzer = 'word', min_df = 3,tokenizer = None, ngram_range=(1,1), preprocessor=None)\n",
    "X = vectorizer.fit_transform(cleaned_title)\n",
    "end = time.time()\n",
    "print \"cleaning time(sec) :\", mid - start\n",
    "print \"counting time(sec) :\", end - mid\n",
    "print \"vocab size \",len(vectorizer.vocabulary_)\n",
    "print \"no. of titles considered \",len(cleaned_title)"
   ]
  },
  {
   "cell_type": "code",
   "execution_count": 75,
   "metadata": {},
   "outputs": [],
   "source": [
    "freq = np.ravel(X.sum(axis=0))\n",
    "import operator\n",
    "vocab = [v[0] for v in sorted(vectorizer.vocabulary_.items(),key=operator.itemgetter(1))]\n",
    "fdist = dict(zip(vocab,freq))\n",
    "sorted_x = sorted(fdist.items(),key=operator.itemgetter(1),reverse=True)"
   ]
  },
  {
   "cell_type": "code",
   "execution_count": 77,
   "metadata": {
    "collapsed": true
   },
   "outputs": [
    {
     "name": "stdout",
     "output_type": "stream",
     "text": [
      "(40000)(u'357g', 41)\t(40100)(u'prestigio', 41)(40200)(u'contentious', 41)\t(40300)(u'grosgrain', 41)\n",
      "(40001)(u'circumnavigation', 41)\t(40101)(u'surat', 41)(40201)(u'mysterio', 41)\t(40301)(u'infocalipsis', 41)\n",
      "(40002)(u'garate', 41)\t(40102)(u'manteau', 41)(40202)(u'arnaldo', 41)\t(40302)(u'gdm', 41)\n",
      "(40003)(u'gameplaying', 41)\t(40103)(u'carefree', 41)(40203)(u'gennady', 41)\t(40303)(u'dde', 41)\n",
      "(40004)(u'052', 41)\t(40104)(u'suerte', 41)(40204)(u'tecmo', 41)\t(40304)(u'lanzan', 41)\n",
      "(40005)(u'chers', 41)\t(40105)(u'interviewing', 41)(40205)(u'czickness', 41)\t(40305)(u'pilaf', 41)\n",
      "(40006)(u'joakim', 41)\t(40106)(u'w10', 41)(40206)(u'nexgadget', 41)\t(40306)(u'mich', 41)\n",
      "(40007)(u'decant', 41)\t(40107)(u'ironclad', 41)(40207)(u'juega', 41)\t(40307)(u'1118', 41)\n",
      "(40008)(u'fittest', 41)\t(40108)(u'upward', 41)(40208)(u'tarifas', 41)\t(40308)(u'aboriginal', 41)\n",
      "(40009)(u'financially', 41)\t(40109)(u'noni', 41)(40209)(u'ginkgo', 41)\t(40309)(u'sweetness', 41)\n",
      "(40010)(u'8520', 41)\t(40110)(u'e53', 41)(40210)(u'zf', 41)\t(40310)(u'tiziana', 41)\n",
      "(40011)(u'annur', 41)\t(40111)(u'anz', 41)(40211)(u'portugais', 41)\t(40311)(u'd3d12', 41)\n",
      "(40012)(u'henrietta', 41)\t(40112)(u'wbc', 41)(40212)(u'aerol', 41)\t(40312)(u'reus', 41)\n",
      "(40013)(u'relating', 41)\t(40113)(u'geely', 41)(40213)(u'abatido', 41)\t(40313)(u'd630', 41)\n",
      "(40014)(u'ridgely', 41)\t(40114)(u's7262', 41)(40214)(u'farmland', 41)\t(40314)(u'xar', 41)\n",
      "(40015)(u'u8', 41)\t(40115)(u'whatcom', 41)(40215)(u'leksvik', 41)\t(40315)(u'involves', 41)\n",
      "(40016)(u'occidental', 41)\t(40116)(u'squish', 41)(40216)(u'manfaat', 41)\t(40316)(u'officiel', 41)\n",
      "(40017)(u'fibra', 41)\t(40117)(u'wordsworth', 41)(40217)(u'comparable', 41)\t(40317)(u'saveiro', 41)\n",
      "(40018)(u'hibernation', 41)\t(40118)(u'sapporo', 41)(40218)(u'ux303ua', 41)\t(40318)(u'gloucestershire', 41)\n",
      "(40019)(u'ngentot', 41)\t(40119)(u'autoradio', 41)(40219)(u'chobits', 41)\t(40319)(u'manningvsnewton', 41)\n",
      "(40020)(u'aronofsky', 41)\t(40120)(u'dup', 41)(40220)(u'11pcs', 41)\t(40320)(u'crabby', 41)\n",
      "(40021)(u'senso', 41)\t(40121)(u'deepwater', 41)(40221)(u'989', 41)\t(40321)(u'rosamund', 41)\n",
      "(40022)(u'kajal', 41)\t(40122)(u'l89', 41)(40222)(u'nacionales', 41)\t(40322)(u'mixradio', 41)\n",
      "(40023)(u'976', 41)\t(40123)(u'kailua', 41)(40223)(u'courte', 41)\t(40323)(u'demario', 41)\n",
      "(40024)(u'onlinetoolreviews', 41)\t(40124)(u'shizune', 41)(40224)(u'renewcanceltv', 41)\t(40324)(u'parrucchiere', 41)\n",
      "(40025)(u'hrithik', 41)\t(40125)(u'aardvark', 41)(40225)(u'10v', 41)\t(40325)(u'ariza', 41)\n",
      "(40026)(u'160yen', 41)\t(40126)(u'bogen', 41)(40226)(u'hazy', 41)\t(40326)(u'softening', 41)\n",
      "(40027)(u'vitamina', 41)\t(40127)(u'zeke', 41)(40227)(u'dro', 41)\t(40327)(u'dvrs', 41)\n",
      "(40028)(u'ainul', 41)\t(40128)(u'filippo', 41)(40228)(u'joann', 41)\t(40328)(u'a700fd', 41)\n",
      "(40029)(u'scatter', 41)\t(40129)(u'captivating', 41)(40229)(u'24m', 41)\t(40329)(u'const', 41)\n",
      "(40030)(u'nitrile', 41)\t(40130)(u'darkside', 41)(40230)(u'guiding', 41)\t(40330)(u'firas', 41)\n",
      "(40031)(u'6970m', 41)\t(40131)(u'zvv', 41)(40231)(u'sonko', 41)\t(40331)(u'p310', 41)\n",
      "(40032)(u'recreating', 41)\t(40132)(u'pode', 41)(40232)(u'iframe', 41)\t(40332)(u'vibrate', 41)\n",
      "(40033)(u'hawa', 41)\t(40133)(u'friskies', 41)(40233)(u'2730', 41)\t(40333)(u'jatt', 41)\n",
      "(40034)(u'comunidades', 41)\t(40134)(u'hiram', 41)(40234)(u'gl752vw', 41)\t(40334)(u'arsyad', 41)\n",
      "(40035)(u'unflavored', 41)\t(40135)(u'bfgoodrich', 41)(40235)(u'fs7', 41)\t(40335)(u'537', 41)\n",
      "(40036)(u'frasi', 41)\t(40136)(u'dejes', 41)(40236)(u'fancier', 41)\t(40336)(u'hts', 41)\n",
      "(40037)(u'confronting', 41)\t(40137)(u'recomendaciones', 41)(40237)(u'palau', 41)\t(40337)(u'gori', 41)\n",
      "(40038)(u'8156', 41)\t(40138)(u'resigned', 41)(40238)(u'widening', 41)\t(40338)(u'unfit', 41)\n",
      "(40039)(u'bailando', 41)\t(40139)(u'simulates', 41)(40239)(u'maestra', 41)\t(40339)(u'fofos', 41)\n",
      "(40040)(u'zaragoza', 41)\t(40140)(u'1848', 41)(40240)(u'tanda', 41)\t(40340)(u'bottes', 41)\n",
      "(40041)(u'coc', 41)\t(40141)(u'ratcheting', 41)(40241)(u'788', 41)\t(40341)(u'dokkan', 41)\n",
      "(40042)(u'shiplap', 41)\t(40142)(u'exposition', 41)(40242)(u'thoh', 41)\t(40342)(u'towering', 41)\n",
      "(40043)(u'amiibos', 41)\t(40143)(u'fermi', 41)(40243)(u'haro', 41)\t(40343)(u'skagen', 41)\n",
      "(40044)(u'ordnance', 41)\t(40144)(u'egipcia', 41)(40244)(u'menes', 41)\t(40344)(u'aliasing', 41)\n",
      "(40045)(u'ep5', 41)\t(40145)(u'savon', 41)(40245)(u'30x', 41)\t(40345)(u'misterio', 41)\n",
      "(40046)(u'evanston', 41)\t(40146)(u'maelstrom', 41)(40246)(u'pusha', 41)\t(40346)(u'vinjabond', 41)\n",
      "(40047)(u'tigris', 41)\t(40147)(u'isekai', 41)(40247)(u'b16', 41)\t(40347)(u'pawsocute', 41)\n",
      "(40048)(u'outspoken', 41)\t(40148)(u'varvatos', 41)(40248)(u'shs', 41)\t(40348)(u'gradvis', 41)\n",
      "(40049)(u'mectel', 41)\t(40149)(u'3002', 41)(40249)(u'freshness', 41)\t(40349)(u'lockwood', 41)\n",
      "(40050)(u'eeprom', 41)\t(40150)(u'iva', 41)(40250)(u'fluctuation', 41)\t(40350)(u'britto', 41)\n",
      "(40051)(u'nofilter', 41)\t(40151)(u'quadrocopter', 41)(40251)(u'mim', 41)\t(40351)(u'sanam', 41)\n",
      "(40052)(u'characterization', 41)\t(40152)(u'lastdaydeal', 41)(40252)(u'monmouth', 41)\t(40352)(u'tab2', 41)\n",
      "(40053)(u'20am', 41)\t(40153)(u'hcdmag', 41)(40253)(u'astronomical', 41)\t(40353)(u'62x39', 41)\n",
      "(40054)(u'coworkers', 41)\t(40154)(u'verbatim', 41)(40254)(u'wayside', 41)\t(40354)(u'evangelicos', 41)\n",
      "(40055)(u'systemic', 41)\t(40155)(u'kurtzman', 41)(40255)(u'swearing', 41)\t(40355)(u'350w', 41)\n",
      "(40056)(u'melton', 41)\t(40156)(u'desnudas', 41)(40256)(u'valenzuela', 41)\t(40356)(u'vanderpump', 41)\n",
      "(40057)(u'18776402517', 41)\t(40157)(u'tipi', 41)(40257)(u'kawhi', 41)\t(40357)(u'prohibited', 41)\n",
      "(40058)(u'adalah', 41)\t(40158)(u'0ah', 41)(40258)(u'hopeless', 41)\t(40358)(u'updater', 41)\n",
      "(40059)(u'e24', 41)\t(40159)(u'xxxx', 41)(40259)(u'phantasm', 41)\t(40359)(u'canela', 41)\n",
      "(40060)(u'rhd', 41)\t(40160)(u'candlelight', 41)(40260)(u'provocative', 41)\t(40360)(u'deemed', 41)\n",
      "(40061)(u'hummel', 41)\t(40161)(u'generalized', 41)(40261)(u'joon', 41)\t(40361)(u'aikido', 41)\n",
      "(40062)(u'mincer', 41)\t(40162)(u'kontol', 41)(40262)(u'tirane', 41)\t(40362)(u'144hz', 41)\n",
      "(40063)(u'rhythmic', 41)\t(40163)(u'conjunto', 41)(40263)(u'showgirl', 41)\t(40363)(u'undergoing', 41)\n",
      "(40064)(u'liturgical', 41)\t(40164)(u'psl', 41)(40264)(u'justhost', 41)\t(40364)(u'hochbeet', 41)\n",
      "(40065)(u'conejo', 41)\t(40165)(u'weddingdigestnaija', 41)(40265)(u'furn', 41)\t(40365)(u'hoard', 41)\n",
      "(40066)(u'accuser', 41)\t(40166)(u'comparar', 41)(40266)(u'doria', 41)\t(40366)(u'ardennes', 41)\n",
      "(40067)(u'hardwear', 41)\t(40167)(u'poaching', 41)(40267)(u'ilona', 41)\t(40367)(u'16k', 41)\n",
      "(40068)(u'racially', 41)\t(40168)(u'1staab', 41)(40268)(u'clearer', 41)\t(40368)(u'cajones', 41)\n",
      "(40069)(u'dmg', 41)\t(40169)(u'consistently', 41)(40269)(u'workman', 41)\t(40369)(u'famitsu', 41)\n",
      "(40070)(u'flikreport', 41)\t(40170)(u'1401', 41)(40270)(u'tnc', 41)\t(40370)(u'pooping', 41)\n",
      "(40071)(u'janie', 41)\t(40171)(u'lanai', 41)(40271)(u'junta', 41)\t(40371)(u'warmest', 41)\n",
      "(40072)(u'dictadura', 41)\t(40172)(u'schaumburg', 41)(40272)(u'lutikov', 41)\t(40372)(u'grownup', 41)\n",
      "(40073)(u'otus', 41)\t(40173)(u'bluwiki', 41)(40273)(u'1025', 41)\t(40373)(u'arman', 41)\n",
      "(40074)(u'arpeda', 41)\t(40174)(u'linde', 41)(40274)(u'acei', 41)\t(40374)(u'birchbox', 41)\n",
      "(40075)(u'sunpower', 41)\t(40175)(u'competir', 41)(40275)(u'rohov', 41)\t(40375)(u'archeer', 41)\n",
      "(40076)(u'sundar', 41)\t(40176)(u'lunt', 41)(40276)(u'cavallari', 41)\t(40376)(u'beholder', 41)\n",
      "(40077)(u'nikko', 41)\t(40177)(u'greitens', 41)(40277)(u'tobillo', 41)\t(40377)(u'malekzadeh', 41)\n",
      "(40078)(u'filly', 41)\t(40178)(u'pitta', 41)(40278)(u'tofuprod', 41)\t(40378)(u'katla', 41)\n",
      "(40079)(u'922', 41)\t(40179)(u'chek', 41)(40279)(u'everblossom', 41)\t(40379)(u'dialectic', 41)\n",
      "(40080)(u'macfarlane', 41)\t(40180)(u'bharat', 41)(40280)(u'moltmanniac', 41)\t(40380)(u'kiara', 41)\n",
      "(40081)(u'bmo', 41)\t(40181)(u'gatiss', 41)(40281)(u'californication', 41)\t(40381)(u'stkl', 41)\n",
      "(40082)(u'accountable', 41)\t(40182)(u'j111f', 41)(40282)(u'f22', 41)\t(40382)(u'gory', 41)\n",
      "(40083)(u'botvac', 41)\t(40183)(u'topp', 41)(40283)(u'125g', 41)\t(40383)(u'coolidge', 41)\n",
      "(40084)(u'deliberation', 41)\t(40184)(u'huarache', 41)(40284)(u'sfreader', 41)\t(40384)(u'1000ml', 41)\n",
      "(40085)(u'billig', 41)\t(40185)(u'turion', 41)(40285)(u'zowy', 41)\t(40385)(u'chimpanzee', 41)\n",
      "(40086)(u'dey', 41)\t(40186)(u'pinboard', 41)(40286)(u'chignon', 41)\t(40386)(u'hd01', 41)\n",
      "(40087)(u'bedinge', 41)\t(40187)(u'boxcar', 41)(40287)(u'ltc', 41)\t(40387)(u'geared', 41)\n",
      "(40088)(u'naci', 41)\t(40188)(u'shook', 41)(40288)(u'kaise', 41)\t(40388)(u'868', 41)\n",
      "(40089)(u'mchenry', 41)\t(40189)(u'cryptography', 41)(40289)(u'partout', 41)\t(40389)(u'rrs', 41)\n",
      "(40090)(u'pornstar', 41)\t(40190)(u'uhuru', 41)(40290)(u'24ghz', 41)\t(40390)(u'caldelas', 41)\n",
      "(40091)(u'winkler', 41)\t(40191)(u'sidecar', 41)(40291)(u'farid', 41)\t(40391)(u'illya', 41)\n",
      "(40092)(u'micallef', 41)\t(40192)(u'saddam', 41)(40292)(u'12g', 41)\t(40392)(u'asztal', 41)\n",
      "(40093)(u'isbell', 41)\t(40193)(u'afecta', 41)(40293)(u'jarrod', 41)\t(40393)(u'sisson', 41)\n",
      "(40094)(u'arpels', 41)\t(40194)(u'warring', 41)(40294)(u'gt08', 41)\t(40394)(u'tgif', 41)\n",
      "(40095)(u'motwani', 41)\t(40195)(u'perceived', 41)(40295)(u'dodgeball', 41)\t(40395)(u'entra', 41)\n",
      "(40096)(u'8inch', 41)\t(40196)(u'unbirthing', 41)(40296)(u'multithreaded', 41)\t(40396)(u'25252586', 41)\n",
      "(40097)(u'4200mah', 41)\t(40197)(u'9360', 41)(40297)(u'ptero', 41)\t(40397)(u'fuerzas', 41)\n",
      "(40098)(u'icecream', 41)\t(40198)(u'cejas', 41)(40298)(u'truce', 41)\t(40398)(u'annika', 41)\n",
      "(40099)(u'habanero', 41)\t(40199)(u'indecent', 41)(40299)(u'pcm805', 41)\t(40399)(u'lfa', 41)\n"
     ]
    }
   ],
   "source": [
    "for i in range(40000,40100):\n",
    "    print \"(\"+str(i)+\")\"+str(sorted_x[i])+\"\\t\"+\"(\"+str(i+100)+\")\"+str(sorted_x[i+100]) +  \"(\"+str(i+200)+\")\"+str(sorted_x[i+200])+\"\\t\"+\"(\"+str(i+300)+\")\"+str(sorted_x[i+300])"
   ]
  },
  {
   "cell_type": "code",
   "execution_count": 73,
   "metadata": {},
   "outputs": [],
   "source": [
    "#export 5M cleaned titles into pickled object\n",
    "import cPickle as pickle\n",
    "with open(\"C:\\\\Users\\\\badeepak\\Documents\\Work\\URL PC\\\\pickled_objects\\cleaned_title\", 'wb') as fp:\n",
    "  pickle.dump([cleaned_title], fp)\n",
    "fp.close()"
   ]
  },
  {
   "cell_type": "code",
   "execution_count": 79,
   "metadata": {},
   "outputs": [
    {
     "data": {
      "text/plain": [
       "54257"
      ]
     },
     "execution_count": 79,
     "metadata": {},
     "output_type": "execute_result"
    }
   ],
   "source": [
    "len(fdist)"
   ]
  },
  {
   "cell_type": "code",
   "execution_count": null,
   "metadata": {
    "collapsed": true
   },
   "outputs": [],
   "source": []
  }
 ],
 "metadata": {
  "kernelspec": {
   "display_name": "Python 2",
   "language": "python",
   "name": "python2"
  },
  "language_info": {
   "codemirror_mode": {
    "name": "ipython",
    "version": 2
   },
   "file_extension": ".py",
   "mimetype": "text/x-python",
   "name": "python",
   "nbconvert_exporter": "python",
   "pygments_lexer": "ipython2",
   "version": "2.7.13"
  }
 },
 "nbformat": 4,
 "nbformat_minor": 2
}
