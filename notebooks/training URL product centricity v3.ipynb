{
 "cells": [
  {
   "cell_type": "code",
   "execution_count": 16,
   "metadata": {},
   "outputs": [],
   "source": [
    "%matplotlib inline\n",
    "import matplotlib.pyplot as plt\n",
    "import urllib, sys, bs4\n",
    "import pandas as pd\n",
    "from collections import OrderedDict\n",
    "from operator import itemgetter\n",
    "from textblob import TextBlob\n",
    "import requests\n",
    "import justext\n",
    "import operator\n",
    "import os\n",
    "import spacy\n",
    "from multiprocessing import Pool\n",
    "import lxml.html\n",
    "import matplotlib.pyplot as plt\n",
    "import pandas as pd\n",
    "from time import sleep\n",
    "import sys\n",
    "from pyquery import PyQuery as pq\n",
    "from urlparse import urlparse\n",
    "import httplib, sys\n",
    "import gensim\n",
    "from gensim import corpora, models\n",
    "import os\n",
    "import pandas as pd\n",
    "import numpy as np\n",
    "import sys\n",
    "#sys.path.append('/usr/local/lib/python2.7/dist-packages')\n",
    "from bs4 import BeautifulSoup   \n",
    "import nltk\n",
    "from nltk.corpus import stopwords\n",
    "import re\n",
    "from nltk.stem.wordnet import WordNetLemmatizer\n",
    "lmtzr = WordNetLemmatizer()\n",
    "import os\n",
    "from sklearn.feature_extraction.text import CountVectorizer\n",
    "from sklearn.feature_extraction.text import  TfidfVectorizer\n",
    "from sklearn.ensemble import RandomForestClassifier\n",
    "import pandas as pd\n",
    "import numpy as np\n",
    "import sys\n",
    "import nltk\n",
    "from nltk.corpus import stopwords\n",
    "import re\n",
    "from bs4 import BeautifulSoup   \n",
    "import cPickle\n",
    "import sklearn\n",
    "from sklearn.pipeline import Pipeline\n",
    "from sklearn.grid_search import GridSearchCV\t"
   ]
  },
  {
   "cell_type": "code",
   "execution_count": 20,
   "metadata": {},
   "outputs": [],
   "source": [
    "dt=pd.read_csv(\"C:\\\\Users\\\\badeepak\\Documents\\Research\\Product Rel\\\\URLlevel\\\\trainingdata_urlpc.csv\",sep=\",\")\n",
    "#dt=pd.read_csv(\"C:\\\\Users\\\\badeepak\\Documents\\Research\\Product Rel\\\\URLlevel\\\\url_features_1500_PC.csv\",sep=\"\\t\")"
   ]
  },
  {
   "cell_type": "code",
   "execution_count": 21,
   "metadata": {},
   "outputs": [],
   "source": [
    "#dt['max_kscore']\n",
    "#dt['range_top3_kscore']\n",
    "kscore=[];\n",
    "rangee=[];\n",
    "for indx,row in dt.iterrows():\n",
    "    try:\n",
    "        zz= [float(i.strip()) for i in row['top_3_keyword_score'].split(',')]\n",
    "    except:\n",
    "        zz=[-1,-1,-1]       \n",
    "    kscore.append(zz[0])\n",
    "    rangee.append(zz[0] -zz[len(zz)-1])"
   ]
  },
  {
   "cell_type": "code",
   "execution_count": 22,
   "metadata": {},
   "outputs": [],
   "source": [
    "dt['max_kscore'] = kscore\n",
    "dt['range_top3_kscore'] = rangee"
   ]
  },
  {
   "cell_type": "code",
   "execution_count": 23,
   "metadata": {
    "scrolled": true
   },
   "outputs": [
    {
     "data": {
      "text/plain": [
       "Index([u'documentId', u'title', u'p_cnt', u'az_link_cnt', u'other_link_cnt',\n",
       "       u'comments_cnt', u'h1_cnt', u'h2_cnt', u'h3_cnt', u'h4_cnt',\n",
       "       u'h3_cnt.1', u'h4_cnt.1', u'word_count_paragraphs',\n",
       "       u'avg_word_count_paragraph', u'max_depth_dom', u'has_comments',\n",
       "       u'protocol', u'sitename', u'top_levl_domain', u'domain', u'subdomain',\n",
       "       u'ishomepage', u'no_url_params', u'no_url_levels', u'url_length',\n",
       "       u'unique_candidate_keywords', u'kw_cnt_paragraphs', u'kw_cnt_title',\n",
       "       u'kw_cnt_links', u'kw_cnt_az_links', u'kw_cnt_h1', u'kw_cnt_h2',\n",
       "       u'kw_cnt_h3', u'kw_cnt_h4', u'kw_cnt_h5', u'kw_cnt_h6', u'max_kw_freq',\n",
       "       u'mean_ngram_len', u'top_keyword', u'top_ASIN', u'top_GL',\n",
       "       u'unique_keywords_cnt', u'asin_cnt', u'gl_cnt', u'top_3_keyword',\n",
       "       u'top_3_asin', u'top_3_gl', u'top_3_keyword_score', u'top_3_asin_score',\n",
       "       u'top_3_gl_score', u'is_topk_in_title', u'unique_keywords',\n",
       "       u'top_kw_termfreq', u'top_kw_minlinenum', u'aksis_match_rate',\n",
       "       u'IsProd', u'mentionProducts', u'Lang', u'NoContent', u'Comment',\n",
       "       u'Reviewer', u'max_kscore', u'range_top3_kscore'],\n",
       "      dtype='object')"
      ]
     },
     "execution_count": 23,
     "metadata": {},
     "output_type": "execute_result"
    }
   ],
   "source": [
    "dt.columns"
   ]
  },
  {
   "cell_type": "code",
   "execution_count": 24,
   "metadata": {},
   "outputs": [],
   "source": [
    "dt.columns.values[10] = 'h5_cnt'\n",
    "dt.columns.values[11] = 'h6_cnt'"
   ]
  },
  {
   "cell_type": "code",
   "execution_count": 25,
   "metadata": {
    "collapsed": true
   },
   "outputs": [],
   "source": [
    "dt['isHttp']=[1 if i == 'http' else 0 for i in dt['protocol']]"
   ]
  },
  {
   "cell_type": "code",
   "execution_count": 8,
   "metadata": {
    "collapsed": true
   },
   "outputs": [],
   "source": [
    "one_hot = pd.get_dummies(dt['top_GL']);\n",
    "dt_extended=dt.drop('top_GL',axis=1)\n",
    "dt_extended=dt_extended.join(one_hot)"
   ]
  },
  {
   "cell_type": "code",
   "execution_count": 8,
   "metadata": {},
   "outputs": [
    {
     "data": {
      "text/plain": [
       "Index([u'documentId', u'title', u'p_cnt', u'az_link_cnt', u'other_link_cnt',\n",
       "       u'comments_cnt', u'h1_cnt', u'h2_cnt', u'h3_cnt', u'h4_cnt',\n",
       "       ...\n",
       "       u'gl_shoes', u'gl_software', u'gl_sports', u'gl_sports_memorabilia',\n",
       "       u'gl_tools', u'gl_toy', u'gl_video_games', u'gl_watch', u'gl_wireless',\n",
       "       u'null'],\n",
       "      dtype='object', length=115)"
      ]
     },
     "execution_count": 8,
     "metadata": {},
     "output_type": "execute_result"
    }
   ],
   "source": [
    "dt_extended.columns"
   ]
  },
  {
   "cell_type": "code",
   "execution_count": 26,
   "metadata": {},
   "outputs": [
    {
     "ename": "NameError",
     "evalue": "name 'dt_extended' is not defined",
     "output_type": "error",
     "traceback": [
      "\u001b[1;31m---------------------------------------------------------------------------\u001b[0m",
      "\u001b[1;31mNameError\u001b[0m                                 Traceback (most recent call last)",
      "\u001b[1;32m<ipython-input-26-f70abc4f52a5>\u001b[0m in \u001b[0;36m<module>\u001b[1;34m()\u001b[0m\n\u001b[0;32m      2\u001b[0m \u001b[0mdt\u001b[0m\u001b[1;33m[\u001b[0m\u001b[1;34m'top'\u001b[0m\u001b[1;33m]\u001b[0m \u001b[1;33m=\u001b[0m \u001b[1;33m[\u001b[0m\u001b[1;36m1\u001b[0m \u001b[1;32mif\u001b[0m \u001b[1;34m'top'\u001b[0m \u001b[1;32min\u001b[0m \u001b[0mstr\u001b[0m\u001b[1;33m(\u001b[0m\u001b[0mi\u001b[0m\u001b[1;33m)\u001b[0m\u001b[1;33m.\u001b[0m\u001b[0msplit\u001b[0m\u001b[1;33m(\u001b[0m\u001b[1;34m' '\u001b[0m\u001b[1;33m)\u001b[0m \u001b[1;32melse\u001b[0m \u001b[1;36m0\u001b[0m \u001b[1;32mfor\u001b[0m \u001b[0mi\u001b[0m \u001b[1;32min\u001b[0m \u001b[0mdt\u001b[0m\u001b[1;33m[\u001b[0m\u001b[1;34m'title'\u001b[0m\u001b[1;33m]\u001b[0m \u001b[1;33m]\u001b[0m\u001b[1;33m\u001b[0m\u001b[0m\n\u001b[0;32m      3\u001b[0m \u001b[0mdt\u001b[0m\u001b[1;33m[\u001b[0m\u001b[1;34m'review'\u001b[0m\u001b[1;33m]\u001b[0m \u001b[1;33m=\u001b[0m \u001b[1;33m[\u001b[0m\u001b[1;36m1\u001b[0m \u001b[1;32mif\u001b[0m \u001b[1;34m'review'\u001b[0m \u001b[1;32min\u001b[0m \u001b[0mstr\u001b[0m\u001b[1;33m(\u001b[0m\u001b[0mi\u001b[0m\u001b[1;33m)\u001b[0m\u001b[1;33m.\u001b[0m\u001b[0msplit\u001b[0m\u001b[1;33m(\u001b[0m\u001b[1;34m' '\u001b[0m\u001b[1;33m)\u001b[0m \u001b[1;32melse\u001b[0m \u001b[1;36m0\u001b[0m \u001b[1;32mfor\u001b[0m \u001b[0mi\u001b[0m \u001b[1;32min\u001b[0m \u001b[0mdt\u001b[0m\u001b[1;33m[\u001b[0m\u001b[1;34m'title'\u001b[0m\u001b[1;33m]\u001b[0m \u001b[1;33m]\u001b[0m\u001b[1;33m\u001b[0m\u001b[0m\n\u001b[1;32m----> 4\u001b[1;33m \u001b[0mdt_extended\u001b[0m\u001b[1;33m[\u001b[0m\u001b[1;34m'best'\u001b[0m\u001b[1;33m]\u001b[0m \u001b[1;33m=\u001b[0m \u001b[1;33m[\u001b[0m\u001b[1;36m1\u001b[0m \u001b[1;32mif\u001b[0m \u001b[1;34m'best'\u001b[0m \u001b[1;32min\u001b[0m \u001b[0mstr\u001b[0m\u001b[1;33m(\u001b[0m\u001b[0mi\u001b[0m\u001b[1;33m)\u001b[0m\u001b[1;33m.\u001b[0m\u001b[0msplit\u001b[0m\u001b[1;33m(\u001b[0m\u001b[1;34m' '\u001b[0m\u001b[1;33m)\u001b[0m \u001b[1;32melse\u001b[0m \u001b[1;36m0\u001b[0m \u001b[1;32mfor\u001b[0m \u001b[0mi\u001b[0m \u001b[1;32min\u001b[0m \u001b[0mdt_extended\u001b[0m\u001b[1;33m[\u001b[0m\u001b[1;34m'title'\u001b[0m\u001b[1;33m]\u001b[0m \u001b[1;33m]\u001b[0m\u001b[1;33m\u001b[0m\u001b[0m\n\u001b[0m\u001b[0;32m      5\u001b[0m \u001b[0mdt_extended\u001b[0m\u001b[1;33m[\u001b[0m\u001b[1;34m'top'\u001b[0m\u001b[1;33m]\u001b[0m \u001b[1;33m=\u001b[0m \u001b[1;33m[\u001b[0m\u001b[1;36m1\u001b[0m \u001b[1;32mif\u001b[0m \u001b[1;34m'top'\u001b[0m \u001b[1;32min\u001b[0m \u001b[0mstr\u001b[0m\u001b[1;33m(\u001b[0m\u001b[0mi\u001b[0m\u001b[1;33m)\u001b[0m\u001b[1;33m.\u001b[0m\u001b[0msplit\u001b[0m\u001b[1;33m(\u001b[0m\u001b[1;34m' '\u001b[0m\u001b[1;33m)\u001b[0m \u001b[1;32melse\u001b[0m \u001b[1;36m0\u001b[0m \u001b[1;32mfor\u001b[0m \u001b[0mi\u001b[0m \u001b[1;32min\u001b[0m \u001b[0mdt_extended\u001b[0m\u001b[1;33m[\u001b[0m\u001b[1;34m'title'\u001b[0m\u001b[1;33m]\u001b[0m \u001b[1;33m]\u001b[0m\u001b[1;33m\u001b[0m\u001b[0m\n\u001b[0;32m      6\u001b[0m \u001b[0mdt_extended\u001b[0m\u001b[1;33m[\u001b[0m\u001b[1;34m'review'\u001b[0m\u001b[1;33m]\u001b[0m \u001b[1;33m=\u001b[0m \u001b[1;33m[\u001b[0m\u001b[1;36m1\u001b[0m \u001b[1;32mif\u001b[0m \u001b[1;34m'review'\u001b[0m \u001b[1;32min\u001b[0m \u001b[0mstr\u001b[0m\u001b[1;33m(\u001b[0m\u001b[0mi\u001b[0m\u001b[1;33m)\u001b[0m\u001b[1;33m.\u001b[0m\u001b[0msplit\u001b[0m\u001b[1;33m(\u001b[0m\u001b[1;34m' '\u001b[0m\u001b[1;33m)\u001b[0m \u001b[1;32melse\u001b[0m \u001b[1;36m0\u001b[0m \u001b[1;32mfor\u001b[0m \u001b[0mi\u001b[0m \u001b[1;32min\u001b[0m \u001b[0mdt_extended\u001b[0m\u001b[1;33m[\u001b[0m\u001b[1;34m'title'\u001b[0m\u001b[1;33m]\u001b[0m \u001b[1;33m]\u001b[0m\u001b[1;33m\u001b[0m\u001b[0m\n",
      "\u001b[1;31mNameError\u001b[0m: name 'dt_extended' is not defined"
     ]
    }
   ],
   "source": [
    "dt['best'] = [1 if 'best' in str(i).split(' ') else 0 for i in dt['title'] ]\n",
    "dt['top'] = [1 if 'top' in str(i).split(' ') else 0 for i in dt['title'] ]\n",
    "dt['review'] = [1 if 'review' in str(i).split(' ') else 0 for i in dt['title'] ]\n",
    "dt_extended['best'] = [1 if 'best' in str(i).split(' ') else 0 for i in dt_extended['title'] ]\n",
    "dt_extended['top'] = [1 if 'top' in str(i).split(' ') else 0 for i in dt_extended['title'] ]\n",
    "dt_extended['review'] = [1 if 'review' in str(i).split(' ') else 0 for i in dt_extended['title'] ]"
   ]
  },
  {
   "cell_type": "code",
   "execution_count": 27,
   "metadata": {},
   "outputs": [
    {
     "ename": "NameError",
     "evalue": "name 'dt_extended' is not defined",
     "output_type": "error",
     "traceback": [
      "\u001b[1;31m---------------------------------------------------------------------------\u001b[0m",
      "\u001b[1;31mNameError\u001b[0m                                 Traceback (most recent call last)",
      "\u001b[1;32m<ipython-input-27-39bdcc1a6468>\u001b[0m in \u001b[0;36m<module>\u001b[1;34m()\u001b[0m\n\u001b[0;32m      1\u001b[0m \u001b[0mdt\u001b[0m\u001b[1;33m[\u001b[0m\u001b[1;34m'ishomepage'\u001b[0m\u001b[1;33m]\u001b[0m \u001b[1;33m=\u001b[0m \u001b[1;33m[\u001b[0m\u001b[1;36m1\u001b[0m \u001b[1;32mif\u001b[0m \u001b[0mi\u001b[0m \u001b[1;33m==\u001b[0m \u001b[1;34m'Yes'\u001b[0m \u001b[1;32melse\u001b[0m \u001b[1;36m0\u001b[0m \u001b[1;32mfor\u001b[0m \u001b[0mi\u001b[0m \u001b[1;32min\u001b[0m \u001b[0mdt\u001b[0m\u001b[1;33m[\u001b[0m\u001b[1;34m'ishomepage'\u001b[0m\u001b[1;33m]\u001b[0m\u001b[1;33m]\u001b[0m\u001b[1;33m\u001b[0m\u001b[0m\n\u001b[1;32m----> 2\u001b[1;33m \u001b[0mdt_extended\u001b[0m\u001b[1;33m[\u001b[0m\u001b[1;34m'ishomepage'\u001b[0m\u001b[1;33m]\u001b[0m \u001b[1;33m=\u001b[0m \u001b[1;33m[\u001b[0m\u001b[1;36m1\u001b[0m \u001b[1;32mif\u001b[0m \u001b[0mi\u001b[0m \u001b[1;33m==\u001b[0m \u001b[1;34m'Yes'\u001b[0m \u001b[1;32melse\u001b[0m \u001b[1;36m0\u001b[0m \u001b[1;32mfor\u001b[0m \u001b[0mi\u001b[0m \u001b[1;32min\u001b[0m \u001b[0mdt_extended\u001b[0m\u001b[1;33m[\u001b[0m\u001b[1;34m'ishomepage'\u001b[0m\u001b[1;33m]\u001b[0m\u001b[1;33m]\u001b[0m\u001b[1;33m\u001b[0m\u001b[0m\n\u001b[0m",
      "\u001b[1;31mNameError\u001b[0m: name 'dt_extended' is not defined"
     ]
    }
   ],
   "source": [
    "dt['ishomepage'] = [1 if i == 'Yes' else 0 for i in dt['ishomepage']]\n",
    "dt_extended['ishomepage'] = [1 if i == 'Yes' else 0 for i in dt_extended['ishomepage']]"
   ]
  },
  {
   "cell_type": "code",
   "execution_count": 28,
   "metadata": {
    "collapsed": true
   },
   "outputs": [],
   "source": [
    "from sklearn.preprocessing import OneHotEncoder\n",
    "from sklearn.cross_validation import train_test_split\n",
    "from sklearn.ensemble import RandomForestClassifier\n",
    "from sklearn.metrics import accuracy_score,roc_curve,auc,classification_report\n",
    "from sklearn.metrics import precision_recall_curve\n",
    "from sklearn.grid_search import GridSearchCV"
   ]
  },
  {
   "cell_type": "code",
   "execution_count": 29,
   "metadata": {},
   "outputs": [],
   "source": [
    "dt_n = dt[(pd.isnull(dt.IsProd) == False) & (pd.isnull(dt.title) == False) & ( dt.top_GL != 'null')]"
   ]
  },
  {
   "cell_type": "code",
   "execution_count": 105,
   "metadata": {},
   "outputs": [],
   "source": [
    "dt_n = dt_n[['p_cnt', 'az_link_cnt', 'other_link_cnt',\n",
    "       'comments_cnt', 'h1_cnt', 'h2_cnt', 'h3_cnt', 'h4_cnt', 'h5_cnt',\n",
    "       'h6_cnt', 'word_count_paragraphs', 'avg_word_count_paragraph',\n",
    "       'max_depth_dom', 'has_comments','ishomepage',\n",
    "       'no_url_params', 'no_url_levels', 'url_length',\n",
    "       'unique_candidate_keywords', 'kw_cnt_paragraphs', 'kw_cnt_title',\n",
    "       'kw_cnt_links', 'kw_cnt_az_links', 'kw_cnt_h1', 'kw_cnt_h2',\n",
    "       'kw_cnt_h3', 'kw_cnt_h4', 'kw_cnt_h5', 'kw_cnt_h6', 'max_kw_freq',\n",
    "       'mean_ngram_len', 'unique_keywords_cnt', 'asin_cnt', 'gl_cnt',  'is_topk_in_title', 'unique_keywords',\n",
    "       'top_kw_termfreq', 'top_kw_minlinenum', 'aksis_match_rate',\n",
    "       'max_kscore', 'range_top3_kscore', 'isHttp', 'best',\n",
    "       'top', 'review','IsProd']]"
   ]
  },
  {
   "cell_type": "code",
   "execution_count": 15,
   "metadata": {},
   "outputs": [
    {
     "name": "stdout",
     "output_type": "stream",
     "text": [
      "0.758241758242\n"
     ]
    }
   ],
   "source": [
    "train, test = train_test_split(dt_n, test_size = 0.2)\n",
    "train_Y = train['IsProd']\n",
    "train_X = train.drop('IsProd',axis=1)\n",
    "test_Y = test['IsProd']\n",
    "test_X = test.drop('IsProd',axis=1)\n",
    "train_Y = [1 if i == 'Yes' else 0 for i in train_Y]\n",
    "clf = RandomForestClassifier(n_jobs=-1,n_estimators=400)\n",
    "clf.fit(train_X, train_Y)\n",
    "test_Y = [1 if i == 'Yes' else 0 for i in test_Y]\n",
    "#test_Y = [1 if i == 'Yes' else 0 for i in test_Y]\n",
    "pred = clf.predict(test_X)\n",
    "predicted=[1 if i=='Yes' else 0 for i in pred]\n",
    "actual=[1 if i=='Yes' else 0 for i in test_Y]\n",
    "print accuracy_score(test_Y,pred)"
   ]
  },
  {
   "cell_type": "code",
   "execution_count": null,
   "metadata": {
    "collapsed": true
   },
   "outputs": [],
   "source": []
  },
  {
   "cell_type": "raw",
   "metadata": {},
   "source": []
  },
  {
   "cell_type": "code",
   "execution_count": 16,
   "metadata": {
    "scrolled": true
   },
   "outputs": [
    {
     "data": {
      "text/plain": [
       "[('max_kscore', 0.06839346934626335),\n",
       " ('mean_ngram_len', 0.058531712743008175),\n",
       " ('url_length', 0.044529531117940745),\n",
       " ('unique_candidate_keywords', 0.040729546426814742),\n",
       " ('unique_keywords_cnt', 0.040252525733834463),\n",
       " ('max_depth_dom', 0.039508464761676347),\n",
       " ('unique_keywords', 0.039190755971203146),\n",
       " ('kw_cnt_title', 0.037921697535996904),\n",
       " ('kw_cnt_links', 0.037759515367897047),\n",
       " ('other_link_cnt', 0.034176325896221924),\n",
       " ('kw_cnt_h2', 0.033327288817812085),\n",
       " ('aksis_match_rate', 0.032673487065784275),\n",
       " ('range_top3_kscore', 0.030106275790676821),\n",
       " ('kw_cnt_h1', 0.029375276458190533),\n",
       " ('kw_cnt_h3', 0.027878886092859517),\n",
       " ('max_kw_freq', 0.027380239104793879),\n",
       " ('word_count_paragraphs', 0.027345970557919288),\n",
       " ('avg_word_count_paragraph', 0.027202755631150547),\n",
       " ('gl_cnt', 0.026448486574539971),\n",
       " ('p_cnt', 0.026409309022287931),\n",
       " ('h2_cnt', 0.026286134271261787),\n",
       " ('kw_cnt_paragraphs', 0.025793717735705823),\n",
       " ('h3_cnt', 0.022323930605363286),\n",
       " ('az_link_cnt', 0.021622763286716952),\n",
       " ('no_url_levels', 0.020925079412091253),\n",
       " ('asin_cnt', 0.020382894982812268),\n",
       " ('top_kw_minlinenum', 0.020102732218450253),\n",
       " ('top_kw_termfreq', 0.01893091785817981),\n",
       " ('kw_cnt_h4', 0.017193724190930716),\n",
       " ('h4_cnt', 0.015259851422703925),\n",
       " ('h1_cnt', 0.010585042488993413),\n",
       " ('kw_cnt_az_links', 0.0095721280499130642),\n",
       " ('no_url_params', 0.0089680663953722924),\n",
       " ('comments_cnt', 0.0064945464035559329),\n",
       " ('isHttp', 0.0055249661590249842),\n",
       " ('kw_cnt_h5', 0.0050441284005719646),\n",
       " ('is_topk_in_title', 0.0044456728110396047),\n",
       " ('h5_cnt', 0.0041351077422822008),\n",
       " ('kw_cnt_h6', 0.0028268163618626265),\n",
       " ('has_comments', 0.0024742238002193359),\n",
       " ('h6_cnt', 0.0015500909347112332),\n",
       " ('ishomepage', 0.00040267788874164781),\n",
       " ('top', 1.3266562624039261e-05),\n",
       " ('best', 0.0),\n",
       " ('review', 0.0)]"
      ]
     },
     "execution_count": 16,
     "metadata": {},
     "output_type": "execute_result"
    }
   ],
   "source": [
    "import operator;\n",
    "f=train_X.columns\n",
    "i=clf.feature_importances_\n",
    "f_i=dict()\n",
    "for j in range(0,len(f)):\n",
    "    f_i[f[j]]=i[j]\n",
    "sorted(f_i.items(),key=operator.itemgetter(1),reverse=True)    "
   ]
  },
  {
   "cell_type": "code",
   "execution_count": 18,
   "metadata": {},
   "outputs": [
    {
     "name": "stdout",
     "output_type": "stream",
     "text": [
      "0.774725274725\n",
      "0.777478517378\n"
     ]
    }
   ],
   "source": [
    "#lets try logistic regression\n",
    "from sklearn.linear_model import LogisticRegression\n",
    "logistic = LogisticRegression()\n",
    "logistic.fit(train_X, train_Y)\n",
    "#test_Y = [1 if i == 'Yes' else 0 for i in test_Y]\n",
    "#test_Y = [1 if i == 'Yes' else 0 for i in test_Y]\n",
    "pred = logistic.predict(test_X)\n",
    "predicted=[1 if i=='Yes' else 0 for i in pred]\n",
    "actual=[1 if i=='Yes' else 0 for i in test_Y]\n",
    "print accuracy_score(test_Y,pred)\n",
    "pred=logistic.predict_proba(test_X)[:,1]\n",
    "print sklearn.metrics.roc_auc_score(test_Y, pred, average='macro', sample_weight=None)"
   ]
  },
  {
   "cell_type": "code",
   "execution_count": 19,
   "metadata": {},
   "outputs": [
    {
     "name": "stdout",
     "output_type": "stream",
     "text": [
      "0.719298245614\n",
      "0.776\n",
      "0.594202898551\n",
      "0.858407079646\n"
     ]
    }
   ],
   "source": [
    "#precision-recall\n",
    "import sklearn\n",
    "from sklearn.metrics import accuracy_score,roc_curve,auc,classification_report\n",
    "from sklearn.metrics import precision_recall_curve\n",
    "pred = clf.predict(test_X)\n",
    "print sklearn.metrics.precision_score(test_Y,pred,pos_label=1)\n",
    "print sklearn.metrics.precision_score(test_Y,pred,pos_label=0)\n",
    "print sklearn.metrics.recall_score(test_Y,pred,pos_label=1)\n",
    "print sklearn.metrics.recall_score(test_Y,pred,pos_label=0)"
   ]
  },
  {
   "cell_type": "code",
   "execution_count": 20,
   "metadata": {},
   "outputs": [],
   "source": [
    "fpr, tpr, _ = sklearn.metrics.roc_curve(test_Y, clf.predict_proba(test_X)[:,1])"
   ]
  },
  {
   "cell_type": "code",
   "execution_count": 21,
   "metadata": {},
   "outputs": [
    {
     "data": {
      "text/plain": [
       "[<matplotlib.lines.Line2D at 0x132a8eb8>]"
      ]
     },
     "execution_count": 21,
     "metadata": {},
     "output_type": "execute_result"
    },
    {
     "data": {
      "image/png": "[encoded data removed]",
      "text/plain": [
       "<matplotlib.figure.Figure at 0x3931b70>"
      ]
     },
     "metadata": {},
     "output_type": "display_data"
    }
   ],
   "source": [
    "plt.plot(fpr,tpr)"
   ]
  },
  {
   "cell_type": "code",
   "execution_count": 22,
   "metadata": {},
   "outputs": [
    {
     "data": {
      "text/plain": [
       "0.87681159420289856"
      ]
     },
     "execution_count": 22,
     "metadata": {},
     "output_type": "execute_result"
    }
   ],
   "source": [
    "auc(fpr,tpr)"
   ]
  },
  {
   "cell_type": "code",
   "execution_count": 23,
   "metadata": {},
   "outputs": [
    {
     "name": "stdout",
     "output_type": "stream",
     "text": [
      "0.733333333333\n",
      "0.795081967213\n",
      "0.63768115942\n",
      "0.858407079646\n"
     ]
    }
   ],
   "source": [
    "#precision-recall\n",
    "import sklearn\n",
    "from sklearn.metrics import accuracy_score,roc_curve,auc,classification_report\n",
    "from sklearn.metrics import precision_recall_curve\n",
    "pred = logistic.predict(test_X)\n",
    "print sklearn.metrics.precision_score(test_Y,pred,pos_label=1)\n",
    "print sklearn.metrics.precision_score(test_Y,pred,pos_label=0)\n",
    "print sklearn.metrics.recall_score(test_Y,pred,pos_label=1)\n",
    "print sklearn.metrics.recall_score(test_Y,pred,pos_label=0)"
   ]
  },
  {
   "cell_type": "code",
   "execution_count": 24,
   "metadata": {},
   "outputs": [
    {
     "name": "stdout",
     "output_type": "stream",
     "text": [
      "0.777478517378\n"
     ]
    },
    {
     "data": {
      "image/png": "[encoded data removed]",
      "text/plain": [
       "<matplotlib.figure.Figure at 0x12fec400>"
      ]
     },
     "metadata": {},
     "output_type": "display_data"
    }
   ],
   "source": [
    "fpr, tpr, _ = sklearn.metrics.roc_curve(test_Y, logistic.predict_proba(test_X)[:,1])\n",
    "plt.plot(fpr,tpr)\n",
    "print auc(fpr,tpr)"
   ]
  },
  {
   "cell_type": "code",
   "execution_count": 438,
   "metadata": {},
   "outputs": [
    {
     "name": "stdout",
     "output_type": "stream",
     "text": [
      "0.747252747253\n"
     ]
    }
   ],
   "source": [
    "clf = RandomForestClassifier(n_jobs=-1,n_estimators=500,max_depth=10)\n",
    "clf.fit(train_X, train_Y)\n",
    "#test_Y = [1 if i == 'Yes' else 0 for i in test_Y]\n",
    "#test_Y = [1 if i == 'Yes' else 0 for i in test_Y]\n",
    "pred = clf.predict(test_X)\n",
    "predicted=[1 if i=='Yes' else 0 for i in pred]\n",
    "actual=[1 if i=='Yes' else 0 for i in test_Y]\n",
    "print accuracy_score(test_Y,pred)"
   ]
  },
  {
   "cell_type": "code",
   "execution_count": 305,
   "metadata": {},
   "outputs": [],
   "source": [
    "#goes to /home/badeepak\n",
    "import pickle\n",
    "with open('test_train_data', 'wb') as handle:\n",
    "    pickle.dump([train_X,train_Y,test_Y,test_X], handle, protocol=pickle.HIGHEST_PROTOCOL)\n",
    "\n",
    "#with open('filename.pickle', 'rb') as handle:\n",
    "#    b = pickle.load(handle)"
   ]
  },
  {
   "cell_type": "code",
   "execution_count": 357,
   "metadata": {},
   "outputs": [
    {
     "name": "stdout",
     "output_type": "stream",
     "text": [
      "0.829103535354\n"
     ]
    },
    {
     "data": {
      "image/png": "[encoded data removed]",
      "text/plain": [
       "<matplotlib.figure.Figure at 0x1420e5c0>"
      ]
     },
     "metadata": {},
     "output_type": "display_data"
    }
   ],
   "source": [
    "fpr, tpr, _ = sklearn.metrics.roc_curve(test_Y, clf.predict_proba(test_X)[:,1])\n",
    "plt.plot(fpr,tpr)\n",
    "print auc(fpr,tpr)"
   ]
  },
  {
   "cell_type": "code",
   "execution_count": 327,
   "metadata": {},
   "outputs": [
    {
     "data": {
      "text/plain": [
       "45"
      ]
     },
     "execution_count": 327,
     "metadata": {},
     "output_type": "execute_result"
    }
   ],
   "source": [
    "len(train_X.columns)"
   ]
  },
  {
   "cell_type": "code",
   "execution_count": 366,
   "metadata": {},
   "outputs": [
    {
     "name": "stdout",
     "output_type": "stream",
     "text": [
      "0.752747252747\n"
     ]
    }
   ],
   "source": [
    "clf = RandomForestClassifier(n_jobs=-1,n_estimators=400,max_depth=10)\n",
    "clf.fit(train_X, train_Y)\n",
    "#test_Y = [1 if i == 'Yes' else 0 for i in test_Y]\n",
    "#test_Y = [1 if i == 'Yes' else 0 for i in test_Y]\n",
    "pred = clf.predict(test_X)\n",
    "predicted=[1 if i=='Yes' else 0 for i in pred]\n",
    "actual=[1 if i=='Yes' else 0 for i in test_Y]\n",
    "print accuracy_score(test_Y,pred)"
   ]
  },
  {
   "cell_type": "code",
   "execution_count": 367,
   "metadata": {},
   "outputs": [
    {
     "name": "stdout",
     "output_type": "stream",
     "text": [
      "0.813131313131\n"
     ]
    },
    {
     "data": {
      "image/png": "[encoded data removed]",
      "text/plain": [
       "<matplotlib.figure.Figure at 0x147c5d68>"
      ]
     },
     "metadata": {},
     "output_type": "display_data"
    }
   ],
   "source": [
    "fpr, tpr, _ = sklearn.metrics.roc_curve(test_Y, clf.predict_proba(test_X)[:,1])\n",
    "plt.plot(fpr,tpr)\n",
    "print auc(fpr,tpr)"
   ]
  },
  {
   "cell_type": "code",
   "execution_count": 368,
   "metadata": {},
   "outputs": [
    {
     "data": {
      "text/plain": [
       "Index([u'p_cnt', u'az_link_cnt', u'other_link_cnt', u'comments_cnt', u'h1_cnt',\n",
       "       u'h2_cnt', u'h3_cnt', u'h4_cnt', u'h5_cnt', u'h6_cnt',\n",
       "       u'word_count_paragraphs', u'avg_word_count_paragraph', u'max_depth_dom',\n",
       "       u'has_comments', u'ishomepage', u'no_url_params', u'no_url_levels',\n",
       "       u'url_length', u'unique_candidate_keywords', u'kw_cnt_paragraphs',\n",
       "       u'kw_cnt_title', u'kw_cnt_links', u'kw_cnt_az_links', u'kw_cnt_h1',\n",
       "       u'kw_cnt_h2', u'kw_cnt_h3', u'kw_cnt_h4', u'kw_cnt_h5', u'kw_cnt_h6',\n",
       "       u'max_kw_freq', u'mean_ngram_len', u'unique_keywords_cnt', u'asin_cnt',\n",
       "       u'gl_cnt', u'is_topk_in_title', u'unique_keywords', u'top_kw_termfreq',\n",
       "       u'top_kw_minlinenum', u'aksis_match_rate', u'max_kscore',\n",
       "       u'range_top3_kscore', u'isHttp', u'best', u'top', u'review'],\n",
       "      dtype='object')"
      ]
     },
     "execution_count": 368,
     "metadata": {},
     "output_type": "execute_result"
    }
   ],
   "source": [
    "train_X.columns"
   ]
  },
  {
   "cell_type": "code",
   "execution_count": 381,
   "metadata": {
    "collapsed": true
   },
   "outputs": [],
   "source": [
    "# reduce training dataset \n",
    "dt_n1 = dt_n[['p_cnt', 'az_link_cnt', \n",
    "       'comments_cnt', 'h1_cnt', 'h2_cnt', 'h3_cnt', 'h4_cnt', 'h5_cnt',\n",
    "       'h6_cnt', 'word_count_paragraphs', 'avg_word_count_paragraph',\n",
    "       'max_depth_dom', 'unique_candidate_keywords', 'kw_cnt_title',\n",
    "       'kw_cnt_links', 'kw_cnt_az_links', 'kw_cnt_h1', 'kw_cnt_h2',\n",
    "       'kw_cnt_h3', 'kw_cnt_h4', 'kw_cnt_h5', 'kw_cnt_h6', 'max_kw_freq',\n",
    "       'mean_ngram_len', 'unique_keywords_cnt', 'asin_cnt', 'gl_cnt',  'is_topk_in_title', 'unique_keywords',\n",
    "       'top_kw_termfreq', 'top_kw_minlinenum', 'aksis_match_rate',\n",
    "       'max_kscore', 'range_top3_kscore', 'isHttp', 'best',\n",
    "       'top', 'review','IsProd']]\n",
    "train, test = train_test_split(dt_n1, test_size = 0.2)\n",
    "train_Y1 = train['IsProd']\n",
    "train_X1 = train.drop('IsProd',axis=1)\n",
    "test_Y1 = test['IsProd']\n",
    "test_X1 = test.drop('IsProd',axis=1)\n",
    "train_Y1 = [1 if i == 'Yes' else 0 for i in train_Y1]\n",
    "test_Y1 = [1 if i == 'Yes' else 0 for i in test_Y1]"
   ]
  },
  {
   "cell_type": "code",
   "execution_count": 26,
   "metadata": {},
   "outputs": [
    {
     "ename": "NameError",
     "evalue": "name 'train_X1' is not defined",
     "output_type": "error",
     "traceback": [
      "\u001b[1;31m---------------------------------------------------------------------------\u001b[0m",
      "\u001b[1;31mNameError\u001b[0m                                 Traceback (most recent call last)",
      "\u001b[1;32m<ipython-input-26-b1a0feaa8706>\u001b[0m in \u001b[0;36m<module>\u001b[1;34m()\u001b[0m\n\u001b[0;32m      1\u001b[0m \u001b[0mclf\u001b[0m \u001b[1;33m=\u001b[0m \u001b[0mRandomForestClassifier\u001b[0m\u001b[1;33m(\u001b[0m\u001b[0mn_jobs\u001b[0m\u001b[1;33m=\u001b[0m\u001b[1;33m-\u001b[0m\u001b[1;36m1\u001b[0m\u001b[1;33m,\u001b[0m\u001b[0mn_estimators\u001b[0m\u001b[1;33m=\u001b[0m\u001b[1;36m500\u001b[0m\u001b[1;33m,\u001b[0m\u001b[0mmax_depth\u001b[0m\u001b[1;33m=\u001b[0m\u001b[1;36m10\u001b[0m\u001b[1;33m)\u001b[0m\u001b[1;33m\u001b[0m\u001b[0m\n\u001b[1;32m----> 2\u001b[1;33m \u001b[0mclf\u001b[0m\u001b[1;33m.\u001b[0m\u001b[0mfit\u001b[0m\u001b[1;33m(\u001b[0m\u001b[0mtrain_X1\u001b[0m\u001b[1;33m,\u001b[0m \u001b[0mtrain_Y1\u001b[0m\u001b[1;33m)\u001b[0m\u001b[1;33m\u001b[0m\u001b[0m\n\u001b[0m\u001b[0;32m      3\u001b[0m \u001b[0mpred\u001b[0m \u001b[1;33m=\u001b[0m \u001b[0mclf\u001b[0m\u001b[1;33m.\u001b[0m\u001b[0mpredict\u001b[0m\u001b[1;33m(\u001b[0m\u001b[0mtest_X1\u001b[0m\u001b[1;33m)\u001b[0m\u001b[1;33m\u001b[0m\u001b[0m\n\u001b[0;32m      4\u001b[0m \u001b[0mpredicted\u001b[0m\u001b[1;33m=\u001b[0m\u001b[1;33m[\u001b[0m\u001b[1;36m1\u001b[0m \u001b[1;32mif\u001b[0m \u001b[0mi\u001b[0m\u001b[1;33m==\u001b[0m\u001b[1;34m'Yes'\u001b[0m \u001b[1;32melse\u001b[0m \u001b[1;36m0\u001b[0m \u001b[1;32mfor\u001b[0m \u001b[0mi\u001b[0m \u001b[1;32min\u001b[0m \u001b[0mpred\u001b[0m\u001b[1;33m]\u001b[0m\u001b[1;33m\u001b[0m\u001b[0m\n\u001b[0;32m      5\u001b[0m \u001b[0mactual\u001b[0m\u001b[1;33m=\u001b[0m\u001b[1;33m[\u001b[0m\u001b[1;36m1\u001b[0m \u001b[1;32mif\u001b[0m \u001b[0mi\u001b[0m\u001b[1;33m==\u001b[0m\u001b[1;34m'Yes'\u001b[0m \u001b[1;32melse\u001b[0m \u001b[1;36m0\u001b[0m \u001b[1;32mfor\u001b[0m \u001b[0mi\u001b[0m \u001b[1;32min\u001b[0m \u001b[0mtest_Y1\u001b[0m\u001b[1;33m]\u001b[0m\u001b[1;33m\u001b[0m\u001b[0m\n",
      "\u001b[1;31mNameError\u001b[0m: name 'train_X1' is not defined"
     ]
    }
   ],
   "source": [
    "clf = RandomForestClassifier(n_jobs=-1,n_estimators=500,max_depth=10)\n",
    "clf.fit(train_X1, train_Y1)\n",
    "pred = clf.predict(test_X1)\n",
    "predicted=[1 if i=='Yes' else 0 for i in pred]\n",
    "actual=[1 if i=='Yes' else 0 for i in test_Y1]\n",
    "print accuracy_score(test_Y1,pred)\n",
    "fpr, tpr, _ = sklearn.metrics.roc_curve(test_Y1, clf.predict_proba(test_X1)[:,1])\n",
    "plt.plot(fpr,tpr)\n",
    "print auc(fpr,tpr)"
   ]
  },
  {
   "cell_type": "code",
   "execution_count": 400,
   "metadata": {},
   "outputs": [
    {
     "name": "stdout",
     "output_type": "stream",
     "text": [
      "[False False False False False False False False False False False False\n",
      " False False False False False False False False False False False False\n",
      " False False False False False False False False False False False False\n",
      " False False False  True False False False False False]\n",
      "[25 11 42 30 15 26 22 39 13 33 37 28 43  4  5 12  9 17 27 34 35 31 36 16 23\n",
      " 38 32 41 10 19  6 24 14 21 40 29 18 20  2  1  3  7 44  8 45]\n"
     ]
    }
   ],
   "source": [
    "from sklearn.feature_selection import RFE\n",
    "model=LogisticRegression()\n",
    "# create the RFE model and select 3 attributes\n",
    "rfe = RFE(model, 1)\n",
    "rfe = rfe.fit(train_X,train_Y)\n",
    "# summarize the selection of the attributes\n",
    "print(rfe.support_)\n",
    "print(rfe.ranking_)"
   ]
  },
  {
   "cell_type": "code",
   "execution_count": 401,
   "metadata": {},
   "outputs": [
    {
     "name": "stdout",
     "output_type": "stream",
     "text": [
      "[(1.0, 'max_kscore'), (2.0, 'aksis_match_rate'), (3.0, 'range_top3_kscore'), (4.0, 'has_comments'), (5.0, 'ishomepage'), (6.0, 'mean_ngram_len'), (7.0, 'isHttp'), (8.0, 'top'), (9.0, 'no_url_levels'), (10.0, 'kw_cnt_h6'), (11.0, 'az_link_cnt'), (12.0, 'no_url_params'), (13.0, 'h5_cnt'), (14.0, 'asin_cnt'), (15.0, 'h1_cnt'), (16.0, 'kw_cnt_h1'), (17.0, 'url_length'), (18.0, 'top_kw_termfreq'), (19.0, 'max_kw_freq'), (20.0, 'top_kw_minlinenum'), (21.0, 'gl_cnt'), (22.0, 'h3_cnt'), (23.0, 'kw_cnt_h2'), (24.0, 'unique_keywords_cnt'), (25.0, 'p_cnt'), (26.0, 'h2_cnt'), (27.0, 'unique_candidate_keywords'), (28.0, 'avg_word_count_paragraph'), (29.0, 'unique_keywords'), (30.0, 'comments_cnt'), (31.0, 'kw_cnt_links'), (32.0, 'kw_cnt_h4'), (33.0, 'h6_cnt'), (34.0, 'kw_cnt_paragraphs'), (35.0, 'kw_cnt_title'), (36.0, 'kw_cnt_az_links'), (37.0, 'word_count_paragraphs'), (38.0, 'kw_cnt_h3'), (39.0, 'h4_cnt'), (40.0, 'is_topk_in_title'), (41.0, 'kw_cnt_h5'), (42.0, 'other_link_cnt'), (43.0, 'max_depth_dom'), (44.0, 'best'), (45.0, 'review')]\n"
     ]
    }
   ],
   "source": [
    "print sorted(zip(map(lambda x: round(x, 4), rfe.ranking_), train_X.columns))"
   ]
  },
  {
   "cell_type": "code",
   "execution_count": 414,
   "metadata": {},
   "outputs": [
    {
     "name": "stdout",
     "output_type": "stream",
     "text": [
      "{'n_estimators': 500, 'max_depth': 10}\n"
     ]
    }
   ],
   "source": [
    "#cross validation\n",
    "model = RandomForestClassifier(random_state=30)\n",
    "#param_grid = { \"n_estimators\" : [10,50,100,400],\n",
    "#           \"criterion\"         : [\"gini\",\"entropy\"],\n",
    "#           \"max_features\"      : [5,10,15,20,30],\n",
    "#           \"max_depth\"         : [5,10,20],\n",
    "#           \"min_samples_split\" : [2,10,20] ,\n",
    "#           \"bootstrap\": [True,False]}\n",
    "param_grid = { \"n_estimators\" : [300,400,500],\n",
    "           #\"criterion\"         : [\"gini\",\"entropy\"],\n",
    "           #\"max_features\"      : [0,130],\n",
    "           \"max_depth\"         : [10,20,25],\n",
    "           #\"min_samples_split\" : [2,10,20] ,\n",
    "           #\"bootstrap\": [True,False]\n",
    "             }\n",
    "#X=dt_n.drop('',axis=1)\n",
    "X=dt_n.drop('IsProd',axis=1)\n",
    "y=dt_n['IsProd']\n",
    "y = [1 if i == 'Yes' else 0 for i in y]       \n",
    "grid_search = GridSearchCV(clf, param_grid, n_jobs=1, cv=5,scoring='precision')\n",
    "grid_search.fit(X, y)\n",
    "print grid_search.best_params_"
   ]
  },
  {
   "cell_type": "code",
   "execution_count": 421,
   "metadata": {},
   "outputs": [
    {
     "data": {
      "text/plain": [
       "RandomForestClassifier(bootstrap=True, class_weight=None, criterion='gini',\n",
       "            max_depth=20, max_features='auto', max_leaf_nodes=None,\n",
       "            min_samples_leaf=1, min_samples_split=2,\n",
       "            min_weight_fraction_leaf=0.0, n_estimators=400, n_jobs=-1,\n",
       "            oob_score=False, random_state=None, verbose=0,\n",
       "            warm_start=False)"
      ]
     },
     "execution_count": 421,
     "metadata": {},
     "output_type": "execute_result"
    }
   ],
   "source": [
    "grid_search.estimator\n"
   ]
  },
  {
   "cell_type": "code",
   "execution_count": 426,
   "metadata": {},
   "outputs": [
    {
     "ename": "ValueError",
     "evalue": "Found arrays with inconsistent numbers of samples: [182 724]",
     "output_type": "error",
     "traceback": [
      "\u001b[1;31m---------------------------------------------------------------------------\u001b[0m",
      "\u001b[1;31mValueError\u001b[0m                                Traceback (most recent call last)",
      "\u001b[1;32m<ipython-input-426-b752046d111b>\u001b[0m in \u001b[0;36m<module>\u001b[1;34m()\u001b[0m\n\u001b[0;32m      3\u001b[0m \u001b[1;32mfrom\u001b[0m \u001b[0msklearn\u001b[0m\u001b[1;33m.\u001b[0m\u001b[0mmetrics\u001b[0m \u001b[1;32mimport\u001b[0m \u001b[0mprecision_recall_curve\u001b[0m\u001b[1;33m\u001b[0m\u001b[0m\n\u001b[0;32m      4\u001b[0m \u001b[0mpred\u001b[0m \u001b[1;33m=\u001b[0m \u001b[0mgrid_search\u001b[0m\u001b[1;33m.\u001b[0m\u001b[0mpredict\u001b[0m\u001b[1;33m(\u001b[0m\u001b[0mtrain_X\u001b[0m\u001b[1;33m)\u001b[0m\u001b[1;33m\u001b[0m\u001b[0m\n\u001b[1;32m----> 5\u001b[1;33m \u001b[1;32mprint\u001b[0m \u001b[0msklearn\u001b[0m\u001b[1;33m.\u001b[0m\u001b[0mmetrics\u001b[0m\u001b[1;33m.\u001b[0m\u001b[0mprecision_score\u001b[0m\u001b[1;33m(\u001b[0m\u001b[0mtest_Y\u001b[0m\u001b[1;33m,\u001b[0m\u001b[0mpred\u001b[0m\u001b[1;33m,\u001b[0m\u001b[0mpos_label\u001b[0m\u001b[1;33m=\u001b[0m\u001b[1;36m1\u001b[0m\u001b[1;33m)\u001b[0m\u001b[1;33m\u001b[0m\u001b[0m\n\u001b[0m\u001b[0;32m      6\u001b[0m \u001b[1;32mprint\u001b[0m \u001b[0msklearn\u001b[0m\u001b[1;33m.\u001b[0m\u001b[0mmetrics\u001b[0m\u001b[1;33m.\u001b[0m\u001b[0mprecision_score\u001b[0m\u001b[1;33m(\u001b[0m\u001b[0mtest_Y\u001b[0m\u001b[1;33m,\u001b[0m\u001b[0mpred\u001b[0m\u001b[1;33m,\u001b[0m\u001b[0mpos_label\u001b[0m\u001b[1;33m=\u001b[0m\u001b[1;36m0\u001b[0m\u001b[1;33m)\u001b[0m\u001b[1;33m\u001b[0m\u001b[0m\n\u001b[0;32m      7\u001b[0m \u001b[1;32mprint\u001b[0m \u001b[0msklearn\u001b[0m\u001b[1;33m.\u001b[0m\u001b[0mmetrics\u001b[0m\u001b[1;33m.\u001b[0m\u001b[0mrecall_score\u001b[0m\u001b[1;33m(\u001b[0m\u001b[0mtest_Y\u001b[0m\u001b[1;33m,\u001b[0m\u001b[0mpred\u001b[0m\u001b[1;33m,\u001b[0m\u001b[0mpos_label\u001b[0m\u001b[1;33m=\u001b[0m\u001b[1;36m1\u001b[0m\u001b[1;33m)\u001b[0m\u001b[1;33m\u001b[0m\u001b[0m\n",
      "\u001b[1;32mC:\\Anaconda2\\lib\\site-packages\\sklearn\\metrics\\classification.pyc\u001b[0m in \u001b[0;36mprecision_score\u001b[1;34m(y_true, y_pred, labels, pos_label, average, sample_weight)\u001b[0m\n\u001b[0;32m   1201\u001b[0m                                                  \u001b[0maverage\u001b[0m\u001b[1;33m=\u001b[0m\u001b[0maverage\u001b[0m\u001b[1;33m,\u001b[0m\u001b[1;33m\u001b[0m\u001b[0m\n\u001b[0;32m   1202\u001b[0m                                                  \u001b[0mwarn_for\u001b[0m\u001b[1;33m=\u001b[0m\u001b[1;33m(\u001b[0m\u001b[1;34m'precision'\u001b[0m\u001b[1;33m,\u001b[0m\u001b[1;33m)\u001b[0m\u001b[1;33m,\u001b[0m\u001b[1;33m\u001b[0m\u001b[0m\n\u001b[1;32m-> 1203\u001b[1;33m                                                  sample_weight=sample_weight)\n\u001b[0m\u001b[0;32m   1204\u001b[0m     \u001b[1;32mreturn\u001b[0m \u001b[0mp\u001b[0m\u001b[1;33m\u001b[0m\u001b[0m\n\u001b[0;32m   1205\u001b[0m \u001b[1;33m\u001b[0m\u001b[0m\n",
      "\u001b[1;32mC:\\Anaconda2\\lib\\site-packages\\sklearn\\metrics\\classification.pyc\u001b[0m in \u001b[0;36mprecision_recall_fscore_support\u001b[1;34m(y_true, y_pred, beta, labels, pos_label, average, warn_for, sample_weight)\u001b[0m\n\u001b[0;32m    954\u001b[0m         \u001b[1;32mraise\u001b[0m \u001b[0mValueError\u001b[0m\u001b[1;33m(\u001b[0m\u001b[1;34m\"beta should be >0 in the F-beta score\"\u001b[0m\u001b[1;33m)\u001b[0m\u001b[1;33m\u001b[0m\u001b[0m\n\u001b[0;32m    955\u001b[0m \u001b[1;33m\u001b[0m\u001b[0m\n\u001b[1;32m--> 956\u001b[1;33m     \u001b[0my_type\u001b[0m\u001b[1;33m,\u001b[0m \u001b[0my_true\u001b[0m\u001b[1;33m,\u001b[0m \u001b[0my_pred\u001b[0m \u001b[1;33m=\u001b[0m \u001b[0m_check_targets\u001b[0m\u001b[1;33m(\u001b[0m\u001b[0my_true\u001b[0m\u001b[1;33m,\u001b[0m \u001b[0my_pred\u001b[0m\u001b[1;33m)\u001b[0m\u001b[1;33m\u001b[0m\u001b[0m\n\u001b[0m\u001b[0;32m    957\u001b[0m     \u001b[0mpresent_labels\u001b[0m \u001b[1;33m=\u001b[0m \u001b[0munique_labels\u001b[0m\u001b[1;33m(\u001b[0m\u001b[0my_true\u001b[0m\u001b[1;33m,\u001b[0m \u001b[0my_pred\u001b[0m\u001b[1;33m)\u001b[0m\u001b[1;33m\u001b[0m\u001b[0m\n\u001b[0;32m    958\u001b[0m \u001b[1;33m\u001b[0m\u001b[0m\n",
      "\u001b[1;32mC:\\Anaconda2\\lib\\site-packages\\sklearn\\metrics\\classification.pyc\u001b[0m in \u001b[0;36m_check_targets\u001b[1;34m(y_true, y_pred)\u001b[0m\n\u001b[0;32m     70\u001b[0m     \u001b[0my_pred\u001b[0m \u001b[1;33m:\u001b[0m \u001b[0marray\u001b[0m \u001b[1;32mor\u001b[0m \u001b[0mindicator\u001b[0m \u001b[0mmatrix\u001b[0m\u001b[1;33m\u001b[0m\u001b[0m\n\u001b[0;32m     71\u001b[0m     \"\"\"\n\u001b[1;32m---> 72\u001b[1;33m     \u001b[0mcheck_consistent_length\u001b[0m\u001b[1;33m(\u001b[0m\u001b[0my_true\u001b[0m\u001b[1;33m,\u001b[0m \u001b[0my_pred\u001b[0m\u001b[1;33m)\u001b[0m\u001b[1;33m\u001b[0m\u001b[0m\n\u001b[0m\u001b[0;32m     73\u001b[0m     \u001b[0mtype_true\u001b[0m \u001b[1;33m=\u001b[0m \u001b[0mtype_of_target\u001b[0m\u001b[1;33m(\u001b[0m\u001b[0my_true\u001b[0m\u001b[1;33m)\u001b[0m\u001b[1;33m\u001b[0m\u001b[0m\n\u001b[0;32m     74\u001b[0m     \u001b[0mtype_pred\u001b[0m \u001b[1;33m=\u001b[0m \u001b[0mtype_of_target\u001b[0m\u001b[1;33m(\u001b[0m\u001b[0my_pred\u001b[0m\u001b[1;33m)\u001b[0m\u001b[1;33m\u001b[0m\u001b[0m\n",
      "\u001b[1;32mC:\\Anaconda2\\lib\\site-packages\\sklearn\\utils\\validation.pyc\u001b[0m in \u001b[0;36mcheck_consistent_length\u001b[1;34m(*arrays)\u001b[0m\n\u001b[0;32m    174\u001b[0m     \u001b[1;32mif\u001b[0m \u001b[0mlen\u001b[0m\u001b[1;33m(\u001b[0m\u001b[0muniques\u001b[0m\u001b[1;33m)\u001b[0m \u001b[1;33m>\u001b[0m \u001b[1;36m1\u001b[0m\u001b[1;33m:\u001b[0m\u001b[1;33m\u001b[0m\u001b[0m\n\u001b[0;32m    175\u001b[0m         raise ValueError(\"Found arrays with inconsistent numbers of samples: \"\n\u001b[1;32m--> 176\u001b[1;33m                          \"%s\" % str(uniques))\n\u001b[0m\u001b[0;32m    177\u001b[0m \u001b[1;33m\u001b[0m\u001b[0m\n\u001b[0;32m    178\u001b[0m \u001b[1;33m\u001b[0m\u001b[0m\n",
      "\u001b[1;31mValueError\u001b[0m: Found arrays with inconsistent numbers of samples: [182 724]"
     ]
    }
   ],
   "source": [
    "import sklearn\n",
    "from sklearn.metrics import accuracy_score,roc_curve,auc,classification_report\n",
    "from sklearn.metrics import precision_recall_curve\n",
    "pred = grid_search.predict(train_X)\n",
    "print sklearn.metrics.precision_score(test_Y,pred,pos_label=1)\n",
    "print sklearn.metrics.precision_score(test_Y,pred,pos_label=0)\n",
    "print sklearn.metrics.recall_score(test_Y,pred,pos_label=1)\n",
    "print sklearn.metrics.recall_score(test_Y,pred,pos_label=0)"
   ]
  },
  {
   "cell_type": "code",
   "execution_count": 1,
   "metadata": {},
   "outputs": [],
   "source": [
    "#xgboost\n",
    "import os\n",
    "mingw_path = 'C:\\\\Program Files\\\\mingw-w64\\\\x86_64-5.3.0-posix-seh-rt_v4-rev0\\\\mingw64\\\\bin'\n",
    "os.environ['PATH'] = mingw_path + ';' + os.environ['PATH']\n",
    "import xgboost as xgb"
   ]
  },
  {
   "cell_type": "code",
   "execution_count": 25,
   "metadata": {},
   "outputs": [
    {
     "name": "stdout",
     "output_type": "stream",
     "text": [
      "0.733333333333\n"
     ]
    }
   ],
   "source": [
    "print sklearn.metrics.precision_score(test_Y,pred,pos_label=1)\n",
    "print sklearn.metrics.precision_score(test_Y,pred,pos_label=1)"
   ]
  },
  {
   "cell_type": "markdown",
   "metadata": {},
   "source": [
    "<h3> Vanilla - Comparing methods - RF, Logistic, GBDT, SVM </h3>"
   ]
  },
  {
   "cell_type": "code",
   "execution_count": 46,
   "metadata": {},
   "outputs": [
    {
     "name": "stdout",
     "output_type": "stream",
     "text": [
      "Accuracy  0.802197802198\n",
      "AUC : 0.886494805694\n",
      "Precision of yes : 0.779661016949\n",
      "Precision of no : 0.813008130081\n",
      "Recall of yes : 0.666666666667\n",
      "Recall of no : 0.884955752212\n"
     ]
    },
    {
     "data": {
      "image/png": "[encoded data removed]",
      "text/plain": [
       "<matplotlib.figure.Figure at 0x136c4080>"
      ]
     },
     "metadata": {},
     "output_type": "display_data"
    }
   ],
   "source": [
    "clf = RandomForestClassifier(n_jobs=-1,n_estimators=400,max_depth=20,random_state=3)\n",
    "clf.fit(train_X, train_Y)\n",
    "pred = clf.predict(test_X)\n",
    "predicted=[1 if i=='Yes' else 0 for i in pred]\n",
    "actual=[1 if i=='Yes' else 0 for i in test_Y]\n",
    "print \"Accuracy \",accuracy_score(test_Y,pred)\n",
    "fpr, tpr, _ = sklearn.metrics.roc_curve(test_Y, clf.predict_proba(test_X)[:,1])\n",
    "plt.plot(fpr,tpr)\n",
    "print \"AUC :\",auc(fpr,tpr)\n",
    "print \"Precision of yes :\",sklearn.metrics.precision_score(test_Y,pred,pos_label=1)\n",
    "print \"Precision of no :\",sklearn.metrics.precision_score(test_Y,pred,pos_label=0)\n",
    "print \"Recall of yes :\",sklearn.metrics.recall_score(test_Y,pred,pos_label=1)\n",
    "print \"Recall of no :\",sklearn.metrics.recall_score(test_Y,pred,pos_label=0)"
   ]
  },
  {
   "cell_type": "code",
   "execution_count": 47,
   "metadata": {},
   "outputs": [
    {
     "name": "stdout",
     "output_type": "stream",
     "text": [
      "Accuracy  0.774725274725\n",
      "AUC : 0.777478517378\n",
      "Precision of yes : 0.733333333333\n",
      "Precision of no : 0.795081967213\n",
      "Recall of yes : 0.63768115942\n",
      "Recall of no : 0.858407079646\n"
     ]
    },
    {
     "data": {
      "image/png": "[encoded data removed]",
      "text/plain": [
       "<matplotlib.figure.Figure at 0x13b61668>"
      ]
     },
     "metadata": {},
     "output_type": "display_data"
    }
   ],
   "source": [
    "from sklearn.linear_model import LogisticRegression\n",
    "logistic = LogisticRegression()\n",
    "logistic.fit(train_X, train_Y)\n",
    "pred = logistic.predict(test_X)\n",
    "predicted=[1 if i=='Yes' else 0 for i in pred]\n",
    "actual=[1 if i=='Yes' else 0 for i in test_Y]\n",
    "print \"Accuracy \",accuracy_score(test_Y,pred)\n",
    "fpr, tpr, _ = sklearn.metrics.roc_curve(test_Y, logistic.predict_proba(test_X)[:,1])\n",
    "plt.plot(fpr,tpr)\n",
    "print \"AUC :\",auc(fpr,tpr)\n",
    "print \"Precision of yes :\",sklearn.metrics.precision_score(test_Y,pred,pos_label=1)\n",
    "print \"Precision of no :\",sklearn.metrics.precision_score(test_Y,pred,pos_label=0)\n",
    "print \"Recall of yes :\",sklearn.metrics.recall_score(test_Y,pred,pos_label=1)\n",
    "print \"Recall of no :\",sklearn.metrics.recall_score(test_Y,pred,pos_label=0)"
   ]
  },
  {
   "cell_type": "code",
   "execution_count": 72,
   "metadata": {},
   "outputs": [
    {
     "name": "stdout",
     "output_type": "stream",
     "text": [
      "Accuracy  0.769230769231\n",
      "AUC : 0.850968321149\n",
      "Precision of yes : 0.707692307692\n",
      "Precision of no : 0.803418803419\n",
      "Recall of yes : 0.666666666667\n",
      "Recall of no : 0.83185840708\n"
     ]
    },
    {
     "data": {
      "image/png": "[encoded data removed]",
      "text/plain": [
       "<matplotlib.figure.Figure at 0x13bd9860>"
      ]
     },
     "metadata": {},
     "output_type": "display_data"
    }
   ],
   "source": [
    "import xgboost as xgb\n",
    "gbm = xgb.XGBClassifier(max_depth=10, n_estimators=50, learning_rate=0.05)\n",
    "train_X = train_X.apply(pd.to_numeric)\n",
    "test_X = test_X.apply(pd.to_numeric)\n",
    "gbm.fit(train_X, train_Y)\n",
    "pred = gbm.predict(test_X)\n",
    "predicted=[1 if i=='Yes' else 0 for i in pred]\n",
    "actual=[1 if i=='Yes' else 0 for i in test_Y]\n",
    "print \"Accuracy \",accuracy_score(test_Y,pred)\n",
    "fpr, tpr, _ = sklearn.metrics.roc_curve(test_Y, gbm.predict_proba(test_X)[:,1])\n",
    "plt.plot(fpr,tpr)\n",
    "print \"AUC :\",auc(fpr,tpr)\n",
    "print \"Precision of yes :\",sklearn.metrics.precision_score(test_Y,pred,pos_label=1)\n",
    "print \"Precision of no :\",sklearn.metrics.precision_score(test_Y,pred,pos_label=0)\n",
    "print \"Recall of yes :\",sklearn.metrics.recall_score(test_Y,pred,pos_label=1)\n",
    "print \"Recall of no :\",sklearn.metrics.recall_score(test_Y,pred,pos_label=0)"
   ]
  },
  {
   "cell_type": "code",
   "execution_count": 76,
   "metadata": {},
   "outputs": [
    {
     "name": "stdout",
     "output_type": "stream",
     "text": [
      "Accuracy  0.736263736264\n",
      "AUC : 0.766705143004\n",
      "Precision of yes : 0.677966101695\n",
      "Precision of no : 0.764227642276\n",
      "Recall of yes : 0.579710144928\n",
      "Recall of no : 0.83185840708\n"
     ]
    },
    {
     "data": {
      "image/png": "[encoded data removed]",
      "text/plain": [
       "<matplotlib.figure.Figure at 0x13e587b8>"
      ]
     },
     "metadata": {},
     "output_type": "display_data"
    }
   ],
   "source": [
    "from sklearn import svm\n",
    "supvm = svm.SVC(kernel='linear',probability = True, random_state = 20, C = 1.0)\n",
    "supvm.fit(train_X, train_Y)\n",
    "pred = supvm.predict(test_X)\n",
    "predicted=[1 if i=='Yes' else 0 for i in pred]\n",
    "actual=[1 if i=='Yes' else 0 for i in test_Y]\n",
    "print \"Accuracy \",accuracy_score(test_Y,pred)\n",
    "fpr, tpr, _ = sklearn.metrics.roc_curve(test_Y, supvm.predict_proba(test_X)[:,1])\n",
    "plt.plot(fpr,tpr)\n",
    "print \"AUC :\",auc(fpr,tpr)\n",
    "print \"Precision of yes :\",sklearn.metrics.precision_score(test_Y,pred,pos_label=1)\n",
    "print \"Precision of no :\",sklearn.metrics.precision_score(test_Y,pred,pos_label=0)\n",
    "print \"Recall of yes :\",sklearn.metrics.recall_score(test_Y,pred,pos_label=1)\n",
    "print \"Recall of no :\",sklearn.metrics.recall_score(test_Y,pred,pos_label=0)"
   ]
  },
  {
   "cell_type": "markdown",
   "metadata": {},
   "source": [
    "<h3>Lets try using just word2vec feature</h3>"
   ]
  },
  {
   "cell_type": "code",
   "execution_count": 16,
   "metadata": {},
   "outputs": [],
   "source": [
    "#import google word vectors\n",
    "from gensim.models import Word2Vec\n",
    "model = Word2Vec.load_word2vec_format(\"C:\\\\Users\\\\badeepak\\\\GoogleNews-vectors-negative300.bin\", binary=True)\n",
    "dog = model['dog']"
   ]
  },
  {
   "cell_type": "code",
   "execution_count": 15,
   "metadata": {},
   "outputs": [
    {
     "data": {
      "text/plain": [
       "'C:\\\\Users\\\\badeepak'"
      ]
     },
     "execution_count": 15,
     "metadata": {},
     "output_type": "execute_result"
    }
   ],
   "source": [
    "import os\n",
    "os.getcwd()"
   ]
  },
  {
   "cell_type": "code",
   "execution_count": 17,
   "metadata": {
    "collapsed": true
   },
   "outputs": [],
   "source": [
    "#define preprocess function\n",
    "def process(raw_review ):\n",
    "    #p1= re.compile('^[0-9]*[0-9]$');\n",
    "    #p2= re.compile('sdl*');\n",
    "    review_text = BeautifulSoup(raw_review).get_text() \n",
    "    #\n",
    "    # 2. Remove non-letters        \n",
    "    letters_only = re.sub(\"[^a-zA-Z]\", \" \", review_text) \n",
    "    #\n",
    "    # 3. Convert to lower case, split into individual wofurniturerds\n",
    "    words = letters_only.lower().split()                             \n",
    "    #\n",
    "    # 4. In Python, searching a set is much faster than searching\n",
    "    #   a list, so convert the stop words to a set\n",
    "    stops = set(stopwords.words(\"english\"))                  \n",
    "    #stops=[]\n",
    "    # \n",
    "    # 5. Remove stop words\n",
    "    #meaningful_words = [w for w in words if not w in stops and not p2.match(w) and not p1.match(w)]   \n",
    "    meaningful_words = [str(lmtzr.lemmatize(w)) for w in words if not w in stops ]   \n",
    "    #\n",
    "    # 6. Join the words back into one string separated by space, \n",
    "    # and return the result.\n",
    "    #tmp=[]\n",
    "    #for j in meaningful_words:\n",
    "    #    res = \"\"        \n",
    "    #    res = re.sub(\"[a-zA-Z$-]+[0-9]+\",\"[ALPHANUM]\",j)\n",
    "    #    res = re.sub(\"201[0-9]\",\"[YEAR]\",res)\n",
    "    #    res = re.sub(\"[0-9]+\",\"[NUM]\",res)\n",
    "    #    tmp.append(res)\n",
    "    #return(\" \".join(tmp))\n",
    "    return meaningful_words"
   ]
  },
  {
   "cell_type": "code",
   "execution_count": 67,
   "metadata": {},
   "outputs": [],
   "source": [
    "dt_vectors = []\n",
    "dt_w2v_vocab = []\n",
    "dummy = [0.00] * 300\n",
    "for i in dt['title'].fillna(''):\n",
    "    doc = [word for word in process(i) if word in model.vocab]\n",
    "    if len(doc) == 0:\n",
    "        dt_vectors.append(dummy)\n",
    "        dt_w2v_vocab.append([])\n",
    "    else:\n",
    "        dt_vectors.append(np.mean(model[doc],axis=0))         \n",
    "        dt_w2v_vocab.append([word for word in process(i) if word in model.vocab])\n",
    "#doc = [word for word in doc if word in word2vec_model.vocab]\n",
    "#np.mean(model[['dog']],axis=0)"
   ]
  },
  {
   "cell_type": "code",
   "execution_count": 68,
   "metadata": {},
   "outputs": [],
   "source": [
    "colname = [\"v\"+str(i) for i in range(0,300)]\n",
    "dt_vec = pd.DataFrame(dt_vectors,columns = colname)"
   ]
  },
  {
   "cell_type": "code",
   "execution_count": 69,
   "metadata": {},
   "outputs": [],
   "source": [
    "dt_vec1 = pd.DataFrame([str(i) for i in dt_w2v_vocab],columns = ['w2v_vocab_match'])"
   ]
  },
  {
   "cell_type": "code",
   "execution_count": 70,
   "metadata": {},
   "outputs": [],
   "source": [
    "dt_v = dt.join(dt_vec)"
   ]
  },
  {
   "cell_type": "code",
   "execution_count": 71,
   "metadata": {
    "collapsed": true
   },
   "outputs": [],
   "source": [
    "dt_v = dt_v.join(dt_vec1)"
   ]
  },
  {
   "cell_type": "code",
   "execution_count": 72,
   "metadata": {},
   "outputs": [],
   "source": [
    "dt_v1 = dt_v[(pd.isnull(dt_v.IsProd) == False) & (pd.isnull(dt_v.title) == False) & ( dt_v.top_GL != 'null') & (dt_v['v0'] != 0.0) & (dt_v['v1'] != 0.0) & (dt_v['v2'] != 0.0)]"
   ]
  },
  {
   "cell_type": "code",
   "execution_count": 21,
   "metadata": {},
   "outputs": [],
   "source": [
    "colname.append('IsProd')\n",
    "dt_v1 = dt_v1[colname]"
   ]
  },
  {
   "cell_type": "code",
   "execution_count": 182,
   "metadata": {},
   "outputs": [],
   "source": [
    "train, test = train_test_split(dt_v1, test_size = 0.2)\n",
    "train_Y = train['IsProd']\n",
    "train_X = train.drop('IsProd',axis=1)\n",
    "test_Y = test['IsProd']\n",
    "test_X = test.drop('IsProd',axis=1)\n",
    "train_Y = [1 if i == 'Yes' else 0 for i in train_Y]\n",
    "test_Y = [1 if i == 'Yes' else 0 for i in test_Y]"
   ]
  },
  {
   "cell_type": "markdown",
   "metadata": {},
   "source": [
    "<h3>Only 23 out of 906 have no vectors averaged. so good !>/h3>"
   ]
  },
  {
   "cell_type": "code",
   "execution_count": 200,
   "metadata": {},
   "outputs": [
    {
     "name": "stdout",
     "output_type": "stream",
     "text": [
      "Accuracy  0.762711864407\n",
      "AUC : 0.829443690638\n",
      "Precision of yes : 0.765957446809\n",
      "Precision of no : 0.761538461538\n",
      "Recall of yes : 0.537313432836\n",
      "Recall of no : 0.9\n"
     ]
    },
    {
     "data": {
      "image/png": "[encoded data removed]",
      "text/plain": [
       "<matplotlib.figure.Figure at 0x126125c0>"
      ]
     },
     "metadata": {},
     "output_type": "display_data"
    }
   ],
   "source": [
    "clf = RandomForestClassifier(n_jobs=-1,n_estimators=400,max_depth=20,criterion='entropy',max_features = 40,random_state=30)\n",
    "clf.fit(train_X, train_Y)\n",
    "pred = clf.predict(test_X)\n",
    "predicted=[1 if i=='Yes' else 0 for i in pred]\n",
    "actual=[1 if i=='Yes' else 0 for i in test_Y]\n",
    "print \"Accuracy \",accuracy_score(test_Y,pred)\n",
    "fpr, tpr, _ = sklearn.metrics.roc_curve(test_Y, clf.predict_proba(test_X)[:,1])\n",
    "plt.plot(fpr,tpr)\n",
    "print \"AUC :\",auc(fpr,tpr)\n",
    "print \"Precision of yes :\",sklearn.metrics.precision_score(test_Y,pred,pos_label=1)\n",
    "print \"Precision of no :\",sklearn.metrics.precision_score(test_Y,pred,pos_label=0)\n",
    "print \"Recall of yes :\",sklearn.metrics.recall_score(test_Y,pred,pos_label=1)\n",
    "print \"Recall of no :\",sklearn.metrics.recall_score(test_Y,pred,pos_label=0)"
   ]
  },
  {
   "cell_type": "code",
   "execution_count": 199,
   "metadata": {},
   "outputs": [
    {
     "name": "stdout",
     "output_type": "stream",
     "text": [
      "{'max_features': 40, 'n_estimators': 400, 'criterion': 'entropy', 'max_depth': 20}\n"
     ]
    }
   ],
   "source": [
    "#cross validation\n",
    "model = RandomForestClassifier(random_state=30)\n",
    "#param_grid = { \"n_estimators\" : [10,50,100,400],\n",
    "#           \"criterion\"         : [\"gini\",\"entropy\"],\n",
    "#           \"max_features\"      : [5,10,15,20,30],\n",
    "#           \"max_depth\"         : [5,10,20],\n",
    "#           \"min_samples_split\" : [2,10,20] ,\n",
    "#           \"bootstrap\": [True,False]}\n",
    "param_grid = { \"n_estimators\" : [50,100,200,400,500],\n",
    "               \"criterion\"         : [\"gini\",\"entropy\"],\n",
    "               \"max_features\"      : [10,30,40],\n",
    "               \"max_depth\"         : [10,20,25],\n",
    "           #\"min_samples_split\" : [2,10,20] ,\n",
    "           #\"bootstrap\": [True,False]\n",
    "             }\n",
    "#X=dt_n.drop('',axis=1)\n",
    "X=dt_v1.drop('IsProd',axis=1)\n",
    "y=dt_v1['IsProd']\n",
    "y = [1 if i == 'Yes' else 0 for i in y]       \n",
    "grid_search = GridSearchCV(clf, param_grid, n_jobs=1, cv=5,scoring='accuracy')\n",
    "grid_search.fit(X, y)\n",
    "print grid_search.best_params_"
   ]
  },
  {
   "cell_type": "markdown",
   "metadata": {},
   "source": [
    "<h4>\n",
    "for precision \n",
    "{'max_features': 30, 'n_estimators': 500, 'criterion': 'entropy', 'max_depth': 20} resutls in a precision(yes) of 80%\n",
    "</h4>"
   ]
  },
  {
   "cell_type": "markdown",
   "metadata": {},
   "source": [
    "<h3> Trying to add top GL in the feature list (along with traditional features) <br> \n",
    "for the same training and test dataset, adding GL only reduces accuracy / no value add </h3>"
   ]
  },
  {
   "cell_type": "code",
   "execution_count": 21,
   "metadata": {},
   "outputs": [
    {
     "name": "stderr",
     "output_type": "stream",
     "text": [
      "C:\\Anaconda2\\lib\\site-packages\\ipykernel\\__main__.py:3: SettingWithCopyWarning: \n",
      "A value is trying to be set on a copy of a slice from a DataFrame.\n",
      "Try using .loc[row_indexer,col_indexer] = value instead\n",
      "\n",
      "See the caveats in the documentation: http://pandas.pydata.org/pandas-docs/stable/indexing.html#indexing-view-versus-copy\n",
      "  app.launch_new_instance()\n"
     ]
    }
   ],
   "source": [
    "#lets try including top GL in random forest model (run upto 14 (i))\n",
    "isGLBook = ['gl_book','gl_automotive','gl_digital_video_download','gl_digital_ebook_purchase']\n",
    "dt_n['isBook'] = [1 if i in isGLBook else 0 for i in dt_n['top_GL']]"
   ]
  },
  {
   "cell_type": "code",
   "execution_count": 103,
   "metadata": {},
   "outputs": [
    {
     "ename": "KeyError",
     "evalue": "\"['isBook'] not in index\"",
     "output_type": "error",
     "traceback": [
      "\u001b[1;31m---------------------------------------------------------------------------\u001b[0m",
      "\u001b[1;31mKeyError\u001b[0m                                  Traceback (most recent call last)",
      "\u001b[1;32m<ipython-input-103-a1309172d7f6>\u001b[0m in \u001b[0;36m<module>\u001b[1;34m()\u001b[0m\n\u001b[0;32m     10\u001b[0m        \u001b[1;34m'top_kw_termfreq'\u001b[0m\u001b[1;33m,\u001b[0m \u001b[1;34m'top_kw_minlinenum'\u001b[0m\u001b[1;33m,\u001b[0m \u001b[1;34m'aksis_match_rate'\u001b[0m\u001b[1;33m,\u001b[0m\u001b[1;33m\u001b[0m\u001b[0m\n\u001b[0;32m     11\u001b[0m        \u001b[1;34m'max_kscore'\u001b[0m\u001b[1;33m,\u001b[0m \u001b[1;34m'range_top3_kscore'\u001b[0m\u001b[1;33m,\u001b[0m \u001b[1;34m'isHttp'\u001b[0m\u001b[1;33m,\u001b[0m \u001b[1;34m'best'\u001b[0m\u001b[1;33m,\u001b[0m\u001b[1;33m\u001b[0m\u001b[0m\n\u001b[1;32m---> 12\u001b[1;33m        'top', 'review','IsProd','isBook']]\n\u001b[0m",
      "\u001b[1;32mC:\\Anaconda2\\lib\\site-packages\\pandas\\core\\frame.pyc\u001b[0m in \u001b[0;36m__getitem__\u001b[1;34m(self, key)\u001b[0m\n\u001b[0;32m   1989\u001b[0m         \u001b[1;32mif\u001b[0m \u001b[0misinstance\u001b[0m\u001b[1;33m(\u001b[0m\u001b[0mkey\u001b[0m\u001b[1;33m,\u001b[0m \u001b[1;33m(\u001b[0m\u001b[0mSeries\u001b[0m\u001b[1;33m,\u001b[0m \u001b[0mnp\u001b[0m\u001b[1;33m.\u001b[0m\u001b[0mndarray\u001b[0m\u001b[1;33m,\u001b[0m \u001b[0mIndex\u001b[0m\u001b[1;33m,\u001b[0m \u001b[0mlist\u001b[0m\u001b[1;33m)\u001b[0m\u001b[1;33m)\u001b[0m\u001b[1;33m:\u001b[0m\u001b[1;33m\u001b[0m\u001b[0m\n\u001b[0;32m   1990\u001b[0m             \u001b[1;31m# either boolean or fancy integer index\u001b[0m\u001b[1;33m\u001b[0m\u001b[1;33m\u001b[0m\u001b[0m\n\u001b[1;32m-> 1991\u001b[1;33m             \u001b[1;32mreturn\u001b[0m \u001b[0mself\u001b[0m\u001b[1;33m.\u001b[0m\u001b[0m_getitem_array\u001b[0m\u001b[1;33m(\u001b[0m\u001b[0mkey\u001b[0m\u001b[1;33m)\u001b[0m\u001b[1;33m\u001b[0m\u001b[0m\n\u001b[0m\u001b[0;32m   1992\u001b[0m         \u001b[1;32melif\u001b[0m \u001b[0misinstance\u001b[0m\u001b[1;33m(\u001b[0m\u001b[0mkey\u001b[0m\u001b[1;33m,\u001b[0m \u001b[0mDataFrame\u001b[0m\u001b[1;33m)\u001b[0m\u001b[1;33m:\u001b[0m\u001b[1;33m\u001b[0m\u001b[0m\n\u001b[0;32m   1993\u001b[0m             \u001b[1;32mreturn\u001b[0m \u001b[0mself\u001b[0m\u001b[1;33m.\u001b[0m\u001b[0m_getitem_frame\u001b[0m\u001b[1;33m(\u001b[0m\u001b[0mkey\u001b[0m\u001b[1;33m)\u001b[0m\u001b[1;33m\u001b[0m\u001b[0m\n",
      "\u001b[1;32mC:\\Anaconda2\\lib\\site-packages\\pandas\\core\\frame.pyc\u001b[0m in \u001b[0;36m_getitem_array\u001b[1;34m(self, key)\u001b[0m\n\u001b[0;32m   2033\u001b[0m             \u001b[1;32mreturn\u001b[0m \u001b[0mself\u001b[0m\u001b[1;33m.\u001b[0m\u001b[0mtake\u001b[0m\u001b[1;33m(\u001b[0m\u001b[0mindexer\u001b[0m\u001b[1;33m,\u001b[0m \u001b[0maxis\u001b[0m\u001b[1;33m=\u001b[0m\u001b[1;36m0\u001b[0m\u001b[1;33m,\u001b[0m \u001b[0mconvert\u001b[0m\u001b[1;33m=\u001b[0m\u001b[0mFalse\u001b[0m\u001b[1;33m)\u001b[0m\u001b[1;33m\u001b[0m\u001b[0m\n\u001b[0;32m   2034\u001b[0m         \u001b[1;32melse\u001b[0m\u001b[1;33m:\u001b[0m\u001b[1;33m\u001b[0m\u001b[0m\n\u001b[1;32m-> 2035\u001b[1;33m             \u001b[0mindexer\u001b[0m \u001b[1;33m=\u001b[0m \u001b[0mself\u001b[0m\u001b[1;33m.\u001b[0m\u001b[0mix\u001b[0m\u001b[1;33m.\u001b[0m\u001b[0m_convert_to_indexer\u001b[0m\u001b[1;33m(\u001b[0m\u001b[0mkey\u001b[0m\u001b[1;33m,\u001b[0m \u001b[0maxis\u001b[0m\u001b[1;33m=\u001b[0m\u001b[1;36m1\u001b[0m\u001b[1;33m)\u001b[0m\u001b[1;33m\u001b[0m\u001b[0m\n\u001b[0m\u001b[0;32m   2036\u001b[0m             \u001b[1;32mreturn\u001b[0m \u001b[0mself\u001b[0m\u001b[1;33m.\u001b[0m\u001b[0mtake\u001b[0m\u001b[1;33m(\u001b[0m\u001b[0mindexer\u001b[0m\u001b[1;33m,\u001b[0m \u001b[0maxis\u001b[0m\u001b[1;33m=\u001b[0m\u001b[1;36m1\u001b[0m\u001b[1;33m,\u001b[0m \u001b[0mconvert\u001b[0m\u001b[1;33m=\u001b[0m\u001b[0mTrue\u001b[0m\u001b[1;33m)\u001b[0m\u001b[1;33m\u001b[0m\u001b[0m\n\u001b[0;32m   2037\u001b[0m \u001b[1;33m\u001b[0m\u001b[0m\n",
      "\u001b[1;32mC:\\Anaconda2\\lib\\site-packages\\pandas\\core\\indexing.pyc\u001b[0m in \u001b[0;36m_convert_to_indexer\u001b[1;34m(self, obj, axis, is_setter)\u001b[0m\n\u001b[0;32m   1212\u001b[0m                 \u001b[0mmask\u001b[0m \u001b[1;33m=\u001b[0m \u001b[0mcheck\u001b[0m \u001b[1;33m==\u001b[0m \u001b[1;33m-\u001b[0m\u001b[1;36m1\u001b[0m\u001b[1;33m\u001b[0m\u001b[0m\n\u001b[0;32m   1213\u001b[0m                 \u001b[1;32mif\u001b[0m \u001b[0mmask\u001b[0m\u001b[1;33m.\u001b[0m\u001b[0many\u001b[0m\u001b[1;33m(\u001b[0m\u001b[1;33m)\u001b[0m\u001b[1;33m:\u001b[0m\u001b[1;33m\u001b[0m\u001b[0m\n\u001b[1;32m-> 1214\u001b[1;33m                     \u001b[1;32mraise\u001b[0m \u001b[0mKeyError\u001b[0m\u001b[1;33m(\u001b[0m\u001b[1;34m'%s not in index'\u001b[0m \u001b[1;33m%\u001b[0m \u001b[0mobjarr\u001b[0m\u001b[1;33m[\u001b[0m\u001b[0mmask\u001b[0m\u001b[1;33m]\u001b[0m\u001b[1;33m)\u001b[0m\u001b[1;33m\u001b[0m\u001b[0m\n\u001b[0m\u001b[0;32m   1215\u001b[0m \u001b[1;33m\u001b[0m\u001b[0m\n\u001b[0;32m   1216\u001b[0m                 \u001b[1;32mreturn\u001b[0m \u001b[0m_values_from_object\u001b[0m\u001b[1;33m(\u001b[0m\u001b[0mindexer\u001b[0m\u001b[1;33m)\u001b[0m\u001b[1;33m\u001b[0m\u001b[0m\n",
      "\u001b[1;31mKeyError\u001b[0m: \"['isBook'] not in index\""
     ]
    }
   ],
   "source": [
    "dt_n = dt_n[['p_cnt', 'az_link_cnt', 'other_link_cnt',\n",
    "       'comments_cnt', 'h1_cnt', 'h2_cnt', 'h3_cnt', 'h4_cnt', 'h5_cnt',\n",
    "       'h6_cnt', 'word_count_paragraphs', 'avg_word_count_paragraph',\n",
    "       'max_depth_dom', 'has_comments','ishomepage',\n",
    "       'no_url_params', 'no_url_levels', 'url_length',\n",
    "       'unique_candidate_keywords', 'kw_cnt_paragraphs', 'kw_cnt_title',\n",
    "       'kw_cnt_links', 'kw_cnt_az_links', 'kw_cnt_h1', 'kw_cnt_h2',\n",
    "       'kw_cnt_h3', 'kw_cnt_h4', 'kw_cnt_h5', 'kw_cnt_h6', 'max_kw_freq',\n",
    "       'mean_ngram_len', 'unique_keywords_cnt', 'asin_cnt', 'gl_cnt',  'is_topk_in_title', 'unique_keywords',\n",
    "       'top_kw_termfreq', 'top_kw_minlinenum', 'aksis_match_rate',\n",
    "       'max_kscore', 'range_top3_kscore', 'isHttp', 'best',\n",
    "       'top', 'review','IsProd','isBook']]"
   ]
  },
  {
   "cell_type": "code",
   "execution_count": 112,
   "metadata": {},
   "outputs": [],
   "source": [
    "train, test = train_test_split(dt_n, test_size = 0.2)\n",
    "train_Y = train['IsProd']\n",
    "train_X = train.drop('IsProd',axis=1)\n",
    "test_Y = test['IsProd']\n",
    "test_X = test.drop('IsProd',axis=1)\n",
    "train_Y = [1 if i == 'Yes' else 0 for i in train_Y]\n",
    "test_Y = [1 if i == 'Yes' else 0 for i in test_Y]"
   ]
  },
  {
   "cell_type": "code",
   "execution_count": 113,
   "metadata": {},
   "outputs": [
    {
     "ename": "KeyError",
     "evalue": "'isBook'",
     "output_type": "error",
     "traceback": [
      "\u001b[1;31m---------------------------------------------------------------------------\u001b[0m",
      "\u001b[1;31mKeyError\u001b[0m                                  Traceback (most recent call last)",
      "\u001b[1;32m<ipython-input-113-c511bd0ee113>\u001b[0m in \u001b[0;36m<module>\u001b[1;34m()\u001b[0m\n\u001b[1;32m----> 1\u001b[1;33m \u001b[1;32mdel\u001b[0m \u001b[0mtrain_X\u001b[0m\u001b[1;33m[\u001b[0m\u001b[1;34m'isBook'\u001b[0m\u001b[1;33m]\u001b[0m\u001b[1;33m\u001b[0m\u001b[0m\n\u001b[0m\u001b[0;32m      2\u001b[0m \u001b[1;32mdel\u001b[0m \u001b[0mtest_X\u001b[0m\u001b[1;33m[\u001b[0m\u001b[1;34m'isBook'\u001b[0m\u001b[1;33m]\u001b[0m\u001b[1;33m\u001b[0m\u001b[0m\n",
      "\u001b[1;32mC:\\Anaconda2\\lib\\site-packages\\pandas\\core\\generic.pyc\u001b[0m in \u001b[0;36m__delitem__\u001b[1;34m(self, key)\u001b[0m\n\u001b[0;32m   1604\u001b[0m             \u001b[1;31m# there was no match, this call should raise the appropriate\u001b[0m\u001b[1;33m\u001b[0m\u001b[1;33m\u001b[0m\u001b[0m\n\u001b[0;32m   1605\u001b[0m             \u001b[1;31m# exception:\u001b[0m\u001b[1;33m\u001b[0m\u001b[1;33m\u001b[0m\u001b[0m\n\u001b[1;32m-> 1606\u001b[1;33m             \u001b[0mself\u001b[0m\u001b[1;33m.\u001b[0m\u001b[0m_data\u001b[0m\u001b[1;33m.\u001b[0m\u001b[0mdelete\u001b[0m\u001b[1;33m(\u001b[0m\u001b[0mkey\u001b[0m\u001b[1;33m)\u001b[0m\u001b[1;33m\u001b[0m\u001b[0m\n\u001b[0m\u001b[0;32m   1607\u001b[0m \u001b[1;33m\u001b[0m\u001b[0m\n\u001b[0;32m   1608\u001b[0m         \u001b[1;31m# delete from the caches\u001b[0m\u001b[1;33m\u001b[0m\u001b[1;33m\u001b[0m\u001b[0m\n",
      "\u001b[1;32mC:\\Anaconda2\\lib\\site-packages\\pandas\\core\\internals.pyc\u001b[0m in \u001b[0;36mdelete\u001b[1;34m(self, item)\u001b[0m\n\u001b[0;32m   3347\u001b[0m         \u001b[0mDelete\u001b[0m \u001b[0mselected\u001b[0m \u001b[0mitem\u001b[0m \u001b[1;33m(\u001b[0m\u001b[0mitems\u001b[0m \u001b[1;32mif\u001b[0m \u001b[0mnon\u001b[0m\u001b[1;33m-\u001b[0m\u001b[0munique\u001b[0m\u001b[1;33m)\u001b[0m \u001b[1;32min\u001b[0m\u001b[1;33m-\u001b[0m\u001b[0mplace\u001b[0m\u001b[1;33m.\u001b[0m\u001b[1;33m\u001b[0m\u001b[0m\n\u001b[0;32m   3348\u001b[0m         \"\"\"\n\u001b[1;32m-> 3349\u001b[1;33m         \u001b[0mindexer\u001b[0m \u001b[1;33m=\u001b[0m \u001b[0mself\u001b[0m\u001b[1;33m.\u001b[0m\u001b[0mitems\u001b[0m\u001b[1;33m.\u001b[0m\u001b[0mget_loc\u001b[0m\u001b[1;33m(\u001b[0m\u001b[0mitem\u001b[0m\u001b[1;33m)\u001b[0m\u001b[1;33m\u001b[0m\u001b[0m\n\u001b[0m\u001b[0;32m   3350\u001b[0m \u001b[1;33m\u001b[0m\u001b[0m\n\u001b[0;32m   3351\u001b[0m         \u001b[0mis_deleted\u001b[0m \u001b[1;33m=\u001b[0m \u001b[0mnp\u001b[0m\u001b[1;33m.\u001b[0m\u001b[0mzeros\u001b[0m\u001b[1;33m(\u001b[0m\u001b[0mself\u001b[0m\u001b[1;33m.\u001b[0m\u001b[0mshape\u001b[0m\u001b[1;33m[\u001b[0m\u001b[1;36m0\u001b[0m\u001b[1;33m]\u001b[0m\u001b[1;33m,\u001b[0m \u001b[0mdtype\u001b[0m\u001b[1;33m=\u001b[0m\u001b[0mnp\u001b[0m\u001b[1;33m.\u001b[0m\u001b[0mbool_\u001b[0m\u001b[1;33m)\u001b[0m\u001b[1;33m\u001b[0m\u001b[0m\n",
      "\u001b[1;32mC:\\Anaconda2\\lib\\site-packages\\pandas\\indexes\\base.pyc\u001b[0m in \u001b[0;36mget_loc\u001b[1;34m(self, key, method, tolerance)\u001b[0m\n\u001b[0;32m   1945\u001b[0m                 \u001b[1;32mreturn\u001b[0m \u001b[0mself\u001b[0m\u001b[1;33m.\u001b[0m\u001b[0m_engine\u001b[0m\u001b[1;33m.\u001b[0m\u001b[0mget_loc\u001b[0m\u001b[1;33m(\u001b[0m\u001b[0mkey\u001b[0m\u001b[1;33m)\u001b[0m\u001b[1;33m\u001b[0m\u001b[0m\n\u001b[0;32m   1946\u001b[0m             \u001b[1;32mexcept\u001b[0m \u001b[0mKeyError\u001b[0m\u001b[1;33m:\u001b[0m\u001b[1;33m\u001b[0m\u001b[0m\n\u001b[1;32m-> 1947\u001b[1;33m                 \u001b[1;32mreturn\u001b[0m \u001b[0mself\u001b[0m\u001b[1;33m.\u001b[0m\u001b[0m_engine\u001b[0m\u001b[1;33m.\u001b[0m\u001b[0mget_loc\u001b[0m\u001b[1;33m(\u001b[0m\u001b[0mself\u001b[0m\u001b[1;33m.\u001b[0m\u001b[0m_maybe_cast_indexer\u001b[0m\u001b[1;33m(\u001b[0m\u001b[0mkey\u001b[0m\u001b[1;33m)\u001b[0m\u001b[1;33m)\u001b[0m\u001b[1;33m\u001b[0m\u001b[0m\n\u001b[0m\u001b[0;32m   1948\u001b[0m \u001b[1;33m\u001b[0m\u001b[0m\n\u001b[0;32m   1949\u001b[0m         \u001b[0mindexer\u001b[0m \u001b[1;33m=\u001b[0m \u001b[0mself\u001b[0m\u001b[1;33m.\u001b[0m\u001b[0mget_indexer\u001b[0m\u001b[1;33m(\u001b[0m\u001b[1;33m[\u001b[0m\u001b[0mkey\u001b[0m\u001b[1;33m]\u001b[0m\u001b[1;33m,\u001b[0m \u001b[0mmethod\u001b[0m\u001b[1;33m=\u001b[0m\u001b[0mmethod\u001b[0m\u001b[1;33m,\u001b[0m \u001b[0mtolerance\u001b[0m\u001b[1;33m=\u001b[0m\u001b[0mtolerance\u001b[0m\u001b[1;33m)\u001b[0m\u001b[1;33m\u001b[0m\u001b[0m\n",
      "\u001b[1;32mpandas\\index.pyx\u001b[0m in \u001b[0;36mpandas.index.IndexEngine.get_loc (pandas\\index.c:4154)\u001b[1;34m()\u001b[0m\n",
      "\u001b[1;32mpandas\\index.pyx\u001b[0m in \u001b[0;36mpandas.index.IndexEngine.get_loc (pandas\\index.c:4018)\u001b[1;34m()\u001b[0m\n",
      "\u001b[1;32mpandas\\hashtable.pyx\u001b[0m in \u001b[0;36mpandas.hashtable.PyObjectHashTable.get_item (pandas\\hashtable.c:12368)\u001b[1;34m()\u001b[0m\n",
      "\u001b[1;32mpandas\\hashtable.pyx\u001b[0m in \u001b[0;36mpandas.hashtable.PyObjectHashTable.get_item (pandas\\hashtable.c:12322)\u001b[1;34m()\u001b[0m\n",
      "\u001b[1;31mKeyError\u001b[0m: 'isBook'"
     ]
    }
   ],
   "source": [
    "del train_X['isBook']\n",
    "del test_X['isBook']"
   ]
  },
  {
   "cell_type": "code",
   "execution_count": 101,
   "metadata": {},
   "outputs": [
    {
     "name": "stdout",
     "output_type": "stream",
     "text": [
      "Accuracy  0.785714285714\n",
      "AUC : 0.860395408163\n",
      "Precision of yes : 0.754098360656\n",
      "Precision of no : 0.801652892562\n",
      "Recall of yes : 0.657142857143\n",
      "Recall of no : 0.866071428571\n"
     ]
    },
    {
     "data": {
      "image/png": "[encoded data removed]",
      "text/plain": [
       "<matplotlib.figure.Figure at 0x14245978>"
      ]
     },
     "metadata": {},
     "output_type": "display_data"
    }
   ],
   "source": [
    "clf = RandomForestClassifier(n_jobs=-1,n_estimators=400,max_depth=20,random_state=3)\n",
    "clf.fit(train_X, train_Y)\n",
    "pred = clf.predict(test_X)\n",
    "predicted=[1 if i=='Yes' else 0 for i in pred]\n",
    "actual=[1 if i=='Yes' else 0 for i in test_Y]\n",
    "print \"Accuracy \",accuracy_score(test_Y,pred)\n",
    "fpr, tpr, _ = sklearn.metrics.roc_curve(test_Y, clf.predict_proba(test_X)[:,1])\n",
    "plt.plot(fpr,tpr)\n",
    "print \"AUC :\",auc(fpr,tpr)\n",
    "print \"Precision of yes :\",sklearn.metrics.precision_score(test_Y,pred,pos_label=1)\n",
    "print \"Precision of no :\",sklearn.metrics.precision_score(test_Y,pred,pos_label=0)\n",
    "print \"Recall of yes :\",sklearn.metrics.recall_score(test_Y,pred,pos_label=1)\n",
    "print \"Recall of no :\",sklearn.metrics.recall_score(test_Y,pred,pos_label=0)"
   ]
  },
  {
   "cell_type": "code",
   "execution_count": 99,
   "metadata": {},
   "outputs": [
    {
     "ename": "KeyError",
     "evalue": "'isBook'",
     "output_type": "error",
     "traceback": [
      "\u001b[1;31m---------------------------------------------------------------------------\u001b[0m",
      "\u001b[1;31mKeyError\u001b[0m                                  Traceback (most recent call last)",
      "\u001b[1;32m<ipython-input-99-7621fd2aca3f>\u001b[0m in \u001b[0;36m<module>\u001b[1;34m()\u001b[0m\n\u001b[1;32m----> 1\u001b[1;33m \u001b[1;32mdel\u001b[0m \u001b[0mdt_n\u001b[0m\u001b[1;33m[\u001b[0m\u001b[1;34m'isBook'\u001b[0m\u001b[1;33m]\u001b[0m\u001b[1;33m\u001b[0m\u001b[0m\n\u001b[0m",
      "\u001b[1;32mC:\\Anaconda2\\lib\\site-packages\\pandas\\core\\generic.pyc\u001b[0m in \u001b[0;36m__delitem__\u001b[1;34m(self, key)\u001b[0m\n\u001b[0;32m   1604\u001b[0m             \u001b[1;31m# there was no match, this call should raise the appropriate\u001b[0m\u001b[1;33m\u001b[0m\u001b[1;33m\u001b[0m\u001b[0m\n\u001b[0;32m   1605\u001b[0m             \u001b[1;31m# exception:\u001b[0m\u001b[1;33m\u001b[0m\u001b[1;33m\u001b[0m\u001b[0m\n\u001b[1;32m-> 1606\u001b[1;33m             \u001b[0mself\u001b[0m\u001b[1;33m.\u001b[0m\u001b[0m_data\u001b[0m\u001b[1;33m.\u001b[0m\u001b[0mdelete\u001b[0m\u001b[1;33m(\u001b[0m\u001b[0mkey\u001b[0m\u001b[1;33m)\u001b[0m\u001b[1;33m\u001b[0m\u001b[0m\n\u001b[0m\u001b[0;32m   1607\u001b[0m \u001b[1;33m\u001b[0m\u001b[0m\n\u001b[0;32m   1608\u001b[0m         \u001b[1;31m# delete from the caches\u001b[0m\u001b[1;33m\u001b[0m\u001b[1;33m\u001b[0m\u001b[0m\n",
      "\u001b[1;32mC:\\Anaconda2\\lib\\site-packages\\pandas\\core\\internals.pyc\u001b[0m in \u001b[0;36mdelete\u001b[1;34m(self, item)\u001b[0m\n\u001b[0;32m   3347\u001b[0m         \u001b[0mDelete\u001b[0m \u001b[0mselected\u001b[0m \u001b[0mitem\u001b[0m \u001b[1;33m(\u001b[0m\u001b[0mitems\u001b[0m \u001b[1;32mif\u001b[0m \u001b[0mnon\u001b[0m\u001b[1;33m-\u001b[0m\u001b[0munique\u001b[0m\u001b[1;33m)\u001b[0m \u001b[1;32min\u001b[0m\u001b[1;33m-\u001b[0m\u001b[0mplace\u001b[0m\u001b[1;33m.\u001b[0m\u001b[1;33m\u001b[0m\u001b[0m\n\u001b[0;32m   3348\u001b[0m         \"\"\"\n\u001b[1;32m-> 3349\u001b[1;33m         \u001b[0mindexer\u001b[0m \u001b[1;33m=\u001b[0m \u001b[0mself\u001b[0m\u001b[1;33m.\u001b[0m\u001b[0mitems\u001b[0m\u001b[1;33m.\u001b[0m\u001b[0mget_loc\u001b[0m\u001b[1;33m(\u001b[0m\u001b[0mitem\u001b[0m\u001b[1;33m)\u001b[0m\u001b[1;33m\u001b[0m\u001b[0m\n\u001b[0m\u001b[0;32m   3350\u001b[0m \u001b[1;33m\u001b[0m\u001b[0m\n\u001b[0;32m   3351\u001b[0m         \u001b[0mis_deleted\u001b[0m \u001b[1;33m=\u001b[0m \u001b[0mnp\u001b[0m\u001b[1;33m.\u001b[0m\u001b[0mzeros\u001b[0m\u001b[1;33m(\u001b[0m\u001b[0mself\u001b[0m\u001b[1;33m.\u001b[0m\u001b[0mshape\u001b[0m\u001b[1;33m[\u001b[0m\u001b[1;36m0\u001b[0m\u001b[1;33m]\u001b[0m\u001b[1;33m,\u001b[0m \u001b[0mdtype\u001b[0m\u001b[1;33m=\u001b[0m\u001b[0mnp\u001b[0m\u001b[1;33m.\u001b[0m\u001b[0mbool_\u001b[0m\u001b[1;33m)\u001b[0m\u001b[1;33m\u001b[0m\u001b[0m\n",
      "\u001b[1;32mC:\\Anaconda2\\lib\\site-packages\\pandas\\indexes\\base.pyc\u001b[0m in \u001b[0;36mget_loc\u001b[1;34m(self, key, method, tolerance)\u001b[0m\n\u001b[0;32m   1945\u001b[0m                 \u001b[1;32mreturn\u001b[0m \u001b[0mself\u001b[0m\u001b[1;33m.\u001b[0m\u001b[0m_engine\u001b[0m\u001b[1;33m.\u001b[0m\u001b[0mget_loc\u001b[0m\u001b[1;33m(\u001b[0m\u001b[0mkey\u001b[0m\u001b[1;33m)\u001b[0m\u001b[1;33m\u001b[0m\u001b[0m\n\u001b[0;32m   1946\u001b[0m             \u001b[1;32mexcept\u001b[0m \u001b[0mKeyError\u001b[0m\u001b[1;33m:\u001b[0m\u001b[1;33m\u001b[0m\u001b[0m\n\u001b[1;32m-> 1947\u001b[1;33m                 \u001b[1;32mreturn\u001b[0m \u001b[0mself\u001b[0m\u001b[1;33m.\u001b[0m\u001b[0m_engine\u001b[0m\u001b[1;33m.\u001b[0m\u001b[0mget_loc\u001b[0m\u001b[1;33m(\u001b[0m\u001b[0mself\u001b[0m\u001b[1;33m.\u001b[0m\u001b[0m_maybe_cast_indexer\u001b[0m\u001b[1;33m(\u001b[0m\u001b[0mkey\u001b[0m\u001b[1;33m)\u001b[0m\u001b[1;33m)\u001b[0m\u001b[1;33m\u001b[0m\u001b[0m\n\u001b[0m\u001b[0;32m   1948\u001b[0m \u001b[1;33m\u001b[0m\u001b[0m\n\u001b[0;32m   1949\u001b[0m         \u001b[0mindexer\u001b[0m \u001b[1;33m=\u001b[0m \u001b[0mself\u001b[0m\u001b[1;33m.\u001b[0m\u001b[0mget_indexer\u001b[0m\u001b[1;33m(\u001b[0m\u001b[1;33m[\u001b[0m\u001b[0mkey\u001b[0m\u001b[1;33m]\u001b[0m\u001b[1;33m,\u001b[0m \u001b[0mmethod\u001b[0m\u001b[1;33m=\u001b[0m\u001b[0mmethod\u001b[0m\u001b[1;33m,\u001b[0m \u001b[0mtolerance\u001b[0m\u001b[1;33m=\u001b[0m\u001b[0mtolerance\u001b[0m\u001b[1;33m)\u001b[0m\u001b[1;33m\u001b[0m\u001b[0m\n",
      "\u001b[1;32mpandas\\index.pyx\u001b[0m in \u001b[0;36mpandas.index.IndexEngine.get_loc (pandas\\index.c:4154)\u001b[1;34m()\u001b[0m\n",
      "\u001b[1;32mpandas\\index.pyx\u001b[0m in \u001b[0;36mpandas.index.IndexEngine.get_loc (pandas\\index.c:4018)\u001b[1;34m()\u001b[0m\n",
      "\u001b[1;32mpandas\\hashtable.pyx\u001b[0m in \u001b[0;36mpandas.hashtable.PyObjectHashTable.get_item (pandas\\hashtable.c:12368)\u001b[1;34m()\u001b[0m\n",
      "\u001b[1;32mpandas\\hashtable.pyx\u001b[0m in \u001b[0;36mpandas.hashtable.PyObjectHashTable.get_item (pandas\\hashtable.c:12322)\u001b[1;34m()\u001b[0m\n",
      "\u001b[1;31mKeyError\u001b[0m: 'isBook'"
     ]
    }
   ],
   "source": [
    "del dt_n['isBook']"
   ]
  },
  {
   "cell_type": "code",
   "execution_count": 39,
   "metadata": {},
   "outputs": [
    {
     "name": "stdout",
     "output_type": "stream",
     "text": [
      "{'max_features': 10, 'n_estimators': 500, 'criterion': 'gini', 'max_depth': 10}\n"
     ]
    }
   ],
   "source": [
    "#cross validation (get best params for traditional features)\n",
    "model = RandomForestClassifier(random_state=30)\n",
    "#param_grid = { \"n_estimators\" : [10,50,100,400,500],\n",
    "#           \"criterion\"         : [\"gini\",\"entropy\"],\n",
    "#           \"max_features\"      : [5,10,15,20,30],\n",
    "#           \"max_depth\"         : [5,10,20],\n",
    "#           \"min_samples_split\" : [2,10,20] ,\n",
    "#           \"bootstrap\": [True,False]}\n",
    "param_grid = { \"n_estimators\" : [50,100,200,400,500],\n",
    "               \"criterion\"         : [\"gini\",\"entropy\"],\n",
    "               \"max_features\"      : [10,30,40],\n",
    "               \"max_depth\"         : [10,20,25],\n",
    "           #\"min_samples_split\" : [2,10,20] ,\n",
    "           #\"bootstrap\": [True,False]\n",
    "             }\n",
    "#X=dt_n.drop('',axis=1)\n",
    "X=dt_n.drop('IsProd',axis=1)\n",
    "y=dt_n['IsProd']\n",
    "y = [1 if i == 'Yes' else 0 for i in y]       \n",
    "grid_search = GridSearchCV(clf, param_grid, n_jobs=1, cv=5,scoring='accuracy')\n",
    "grid_search.fit(X, y)\n",
    "print grid_search.best_params_"
   ]
  },
  {
   "cell_type": "code",
   "execution_count": 46,
   "metadata": {
    "collapsed": true
   },
   "outputs": [
    {
     "data": {
      "text/plain": [
       "[mean: 0.74614, std: 0.02153, params: {'max_features': 10, 'n_estimators': 50, 'criterion': 'gini', 'max_depth': 10},\n",
       " mean: 0.74614, std: 0.02172, params: {'max_features': 10, 'n_estimators': 100, 'criterion': 'gini', 'max_depth': 10},\n",
       " mean: 0.75607, std: 0.02451, params: {'max_features': 10, 'n_estimators': 200, 'criterion': 'gini', 'max_depth': 10},\n",
       " mean: 0.75717, std: 0.02449, params: {'max_features': 10, 'n_estimators': 400, 'criterion': 'gini', 'max_depth': 10},\n",
       " mean: 0.76269, std: 0.02217, params: {'max_features': 10, 'n_estimators': 500, 'criterion': 'gini', 'max_depth': 10},\n",
       " mean: 0.73731, std: 0.02632, params: {'max_features': 30, 'n_estimators': 50, 'criterion': 'gini', 'max_depth': 10},\n",
       " mean: 0.73400, std: 0.02561, params: {'max_features': 30, 'n_estimators': 100, 'criterion': 'gini', 'max_depth': 10},\n",
       " mean: 0.74724, std: 0.00381, params: {'max_features': 30, 'n_estimators': 200, 'criterion': 'gini', 'max_depth': 10},\n",
       " mean: 0.74503, std: 0.01024, params: {'max_features': 30, 'n_estimators': 400, 'criterion': 'gini', 'max_depth': 10},\n",
       " mean: 0.75055, std: 0.01147, params: {'max_features': 30, 'n_estimators': 500, 'criterion': 'gini', 'max_depth': 10},\n",
       " mean: 0.73400, std: 0.02434, params: {'max_features': 40, 'n_estimators': 50, 'criterion': 'gini', 'max_depth': 10},\n",
       " mean: 0.74503, std: 0.02214, params: {'max_features': 40, 'n_estimators': 100, 'criterion': 'gini', 'max_depth': 10},\n",
       " mean: 0.75386, std: 0.01985, params: {'max_features': 40, 'n_estimators': 200, 'criterion': 'gini', 'max_depth': 10},\n",
       " mean: 0.75055, std: 0.01448, params: {'max_features': 40, 'n_estimators': 400, 'criterion': 'gini', 'max_depth': 10},\n",
       " mean: 0.74945, std: 0.01489, params: {'max_features': 40, 'n_estimators': 500, 'criterion': 'gini', 'max_depth': 10},\n",
       " mean: 0.74614, std: 0.02769, params: {'max_features': 10, 'n_estimators': 50, 'criterion': 'gini', 'max_depth': 20},\n",
       " mean: 0.75607, std: 0.02430, params: {'max_features': 10, 'n_estimators': 100, 'criterion': 'gini', 'max_depth': 20},\n",
       " mean: 0.75938, std: 0.02731, params: {'max_features': 10, 'n_estimators': 200, 'criterion': 'gini', 'max_depth': 20},\n",
       " mean: 0.75276, std: 0.02625, params: {'max_features': 10, 'n_estimators': 400, 'criterion': 'gini', 'max_depth': 20},\n",
       " mean: 0.75276, std: 0.02386, params: {'max_features': 10, 'n_estimators': 500, 'criterion': 'gini', 'max_depth': 20},\n",
       " mean: 0.73510, std: 0.02753, params: {'max_features': 30, 'n_estimators': 50, 'criterion': 'gini', 'max_depth': 20},\n",
       " mean: 0.74172, std: 0.00953, params: {'max_features': 30, 'n_estimators': 100, 'criterion': 'gini', 'max_depth': 20},\n",
       " mean: 0.74393, std: 0.01434, params: {'max_features': 30, 'n_estimators': 200, 'criterion': 'gini', 'max_depth': 20},\n",
       " mean: 0.74724, std: 0.02553, params: {'max_features': 30, 'n_estimators': 400, 'criterion': 'gini', 'max_depth': 20},\n",
       " mean: 0.75055, std: 0.02210, params: {'max_features': 30, 'n_estimators': 500, 'criterion': 'gini', 'max_depth': 20},\n",
       " mean: 0.74503, std: 0.01966, params: {'max_features': 40, 'n_estimators': 50, 'criterion': 'gini', 'max_depth': 20},\n",
       " mean: 0.73841, std: 0.01740, params: {'max_features': 40, 'n_estimators': 100, 'criterion': 'gini', 'max_depth': 20},\n",
       " mean: 0.74503, std: 0.00947, params: {'max_features': 40, 'n_estimators': 200, 'criterion': 'gini', 'max_depth': 20},\n",
       " mean: 0.74503, std: 0.01704, params: {'max_features': 40, 'n_estimators': 400, 'criterion': 'gini', 'max_depth': 20},\n",
       " mean: 0.74614, std: 0.01842, params: {'max_features': 40, 'n_estimators': 500, 'criterion': 'gini', 'max_depth': 20},\n",
       " mean: 0.74834, std: 0.02589, params: {'max_features': 10, 'n_estimators': 50, 'criterion': 'gini', 'max_depth': 25},\n",
       " mean: 0.75497, std: 0.02292, params: {'max_features': 10, 'n_estimators': 100, 'criterion': 'gini', 'max_depth': 25},\n",
       " mean: 0.76159, std: 0.02728, params: {'max_features': 10, 'n_estimators': 200, 'criterion': 'gini', 'max_depth': 25},\n",
       " mean: 0.75386, std: 0.02652, params: {'max_features': 10, 'n_estimators': 400, 'criterion': 'gini', 'max_depth': 25},\n",
       " mean: 0.75386, std: 0.02364, params: {'max_features': 10, 'n_estimators': 500, 'criterion': 'gini', 'max_depth': 25},\n",
       " mean: 0.73400, std: 0.02935, params: {'max_features': 30, 'n_estimators': 50, 'criterion': 'gini', 'max_depth': 25},\n",
       " mean: 0.74283, std: 0.00897, params: {'max_features': 30, 'n_estimators': 100, 'criterion': 'gini', 'max_depth': 25},\n",
       " mean: 0.74503, std: 0.01275, params: {'max_features': 30, 'n_estimators': 200, 'criterion': 'gini', 'max_depth': 25},\n",
       " mean: 0.74614, std: 0.02737, params: {'max_features': 30, 'n_estimators': 400, 'criterion': 'gini', 'max_depth': 25},\n",
       " mean: 0.75055, std: 0.02210, params: {'max_features': 30, 'n_estimators': 500, 'criterion': 'gini', 'max_depth': 25},\n",
       " mean: 0.74614, std: 0.01953, params: {'max_features': 40, 'n_estimators': 50, 'criterion': 'gini', 'max_depth': 25},\n",
       " mean: 0.73951, std: 0.01938, params: {'max_features': 40, 'n_estimators': 100, 'criterion': 'gini', 'max_depth': 25},\n",
       " mean: 0.74503, std: 0.00947, params: {'max_features': 40, 'n_estimators': 200, 'criterion': 'gini', 'max_depth': 25},\n",
       " mean: 0.74503, std: 0.01704, params: {'max_features': 40, 'n_estimators': 400, 'criterion': 'gini', 'max_depth': 25},\n",
       " mean: 0.74503, std: 0.02047, params: {'max_features': 40, 'n_estimators': 500, 'criterion': 'gini', 'max_depth': 25},\n",
       " mean: 0.75166, std: 0.01686, params: {'max_features': 10, 'n_estimators': 50, 'criterion': 'entropy', 'max_depth': 10},\n",
       " mean: 0.74945, std: 0.02151, params: {'max_features': 10, 'n_estimators': 100, 'criterion': 'entropy', 'max_depth': 10},\n",
       " mean: 0.75166, std: 0.01976, params: {'max_features': 10, 'n_estimators': 200, 'criterion': 'entropy', 'max_depth': 10},\n",
       " mean: 0.74614, std: 0.01593, params: {'max_features': 10, 'n_estimators': 400, 'criterion': 'entropy', 'max_depth': 10},\n",
       " mean: 0.75055, std: 0.01259, params: {'max_features': 10, 'n_estimators': 500, 'criterion': 'entropy', 'max_depth': 10},\n",
       " mean: 0.74503, std: 0.01449, params: {'max_features': 30, 'n_estimators': 50, 'criterion': 'entropy', 'max_depth': 10},\n",
       " mean: 0.74945, std: 0.01705, params: {'max_features': 30, 'n_estimators': 100, 'criterion': 'entropy', 'max_depth': 10},\n",
       " mean: 0.74724, std: 0.01112, params: {'max_features': 30, 'n_estimators': 200, 'criterion': 'entropy', 'max_depth': 10},\n",
       " mean: 0.75166, std: 0.01079, params: {'max_features': 30, 'n_estimators': 400, 'criterion': 'entropy', 'max_depth': 10},\n",
       " mean: 0.75055, std: 0.01134, params: {'max_features': 30, 'n_estimators': 500, 'criterion': 'entropy', 'max_depth': 10},\n",
       " mean: 0.74283, std: 0.02404, params: {'max_features': 40, 'n_estimators': 50, 'criterion': 'entropy', 'max_depth': 10},\n",
       " mean: 0.74503, std: 0.02196, params: {'max_features': 40, 'n_estimators': 100, 'criterion': 'entropy', 'max_depth': 10},\n",
       " mean: 0.75386, std: 0.01932, params: {'max_features': 40, 'n_estimators': 200, 'criterion': 'entropy', 'max_depth': 10},\n",
       " mean: 0.75497, std: 0.01820, params: {'max_features': 40, 'n_estimators': 400, 'criterion': 'entropy', 'max_depth': 10},\n",
       " mean: 0.75497, std: 0.01282, params: {'max_features': 40, 'n_estimators': 500, 'criterion': 'entropy', 'max_depth': 10},\n",
       " mean: 0.74945, std: 0.02630, params: {'max_features': 10, 'n_estimators': 50, 'criterion': 'entropy', 'max_depth': 20},\n",
       " mean: 0.74062, std: 0.01899, params: {'max_features': 10, 'n_estimators': 100, 'criterion': 'entropy', 'max_depth': 20},\n",
       " mean: 0.74614, std: 0.01421, params: {'max_features': 10, 'n_estimators': 200, 'criterion': 'entropy', 'max_depth': 20},\n",
       " mean: 0.75166, std: 0.01745, params: {'max_features': 10, 'n_estimators': 400, 'criterion': 'entropy', 'max_depth': 20},\n",
       " mean: 0.75166, std: 0.01647, params: {'max_features': 10, 'n_estimators': 500, 'criterion': 'entropy', 'max_depth': 20},\n",
       " mean: 0.74945, std: 0.03206, params: {'max_features': 30, 'n_estimators': 50, 'criterion': 'entropy', 'max_depth': 20},\n",
       " mean: 0.74724, std: 0.03416, params: {'max_features': 30, 'n_estimators': 100, 'criterion': 'entropy', 'max_depth': 20},\n",
       " mean: 0.74393, std: 0.01896, params: {'max_features': 30, 'n_estimators': 200, 'criterion': 'entropy', 'max_depth': 20},\n",
       " mean: 0.75055, std: 0.01985, params: {'max_features': 30, 'n_estimators': 400, 'criterion': 'entropy', 'max_depth': 20},\n",
       " mean: 0.75055, std: 0.02104, params: {'max_features': 30, 'n_estimators': 500, 'criterion': 'entropy', 'max_depth': 20},\n",
       " mean: 0.74945, std: 0.02734, params: {'max_features': 40, 'n_estimators': 50, 'criterion': 'entropy', 'max_depth': 20},\n",
       " mean: 0.75386, std: 0.02247, params: {'max_features': 40, 'n_estimators': 100, 'criterion': 'entropy', 'max_depth': 20},\n",
       " mean: 0.75497, std: 0.01753, params: {'max_features': 40, 'n_estimators': 200, 'criterion': 'entropy', 'max_depth': 20},\n",
       " mean: 0.75276, std: 0.01616, params: {'max_features': 40, 'n_estimators': 400, 'criterion': 'entropy', 'max_depth': 20},\n",
       " mean: 0.75938, std: 0.01712, params: {'max_features': 40, 'n_estimators': 500, 'criterion': 'entropy', 'max_depth': 20},\n",
       " mean: 0.74614, std: 0.01997, params: {'max_features': 10, 'n_estimators': 50, 'criterion': 'entropy', 'max_depth': 25},\n",
       " mean: 0.73510, std: 0.02133, params: {'max_features': 10, 'n_estimators': 100, 'criterion': 'entropy', 'max_depth': 25},\n",
       " mean: 0.74283, std: 0.01678, params: {'max_features': 10, 'n_estimators': 200, 'criterion': 'entropy', 'max_depth': 25},\n",
       " mean: 0.75055, std: 0.01351, params: {'max_features': 10, 'n_estimators': 400, 'criterion': 'entropy', 'max_depth': 25},\n",
       " mean: 0.75276, std: 0.01585, params: {'max_features': 10, 'n_estimators': 500, 'criterion': 'entropy', 'max_depth': 25},\n",
       " mean: 0.75055, std: 0.03177, params: {'max_features': 30, 'n_estimators': 50, 'criterion': 'entropy', 'max_depth': 25},\n",
       " mean: 0.74945, std: 0.03254, params: {'max_features': 30, 'n_estimators': 100, 'criterion': 'entropy', 'max_depth': 25},\n",
       " mean: 0.74614, std: 0.02030, params: {'max_features': 30, 'n_estimators': 200, 'criterion': 'entropy', 'max_depth': 25},\n",
       " mean: 0.75055, std: 0.02052, params: {'max_features': 30, 'n_estimators': 400, 'criterion': 'entropy', 'max_depth': 25},\n",
       " mean: 0.75055, std: 0.02104, params: {'max_features': 30, 'n_estimators': 500, 'criterion': 'entropy', 'max_depth': 25},\n",
       " mean: 0.75055, std: 0.02614, params: {'max_features': 40, 'n_estimators': 50, 'criterion': 'entropy', 'max_depth': 25},\n",
       " mean: 0.75607, std: 0.02128, params: {'max_features': 40, 'n_estimators': 100, 'criterion': 'entropy', 'max_depth': 25},\n",
       " mean: 0.75386, std: 0.01898, params: {'max_features': 40, 'n_estimators': 200, 'criterion': 'entropy', 'max_depth': 25},\n",
       " mean: 0.75386, std: 0.01505, params: {'max_features': 40, 'n_estimators': 400, 'criterion': 'entropy', 'max_depth': 25},\n",
       " mean: 0.75717, std: 0.01535, params: {'max_features': 40, 'n_estimators': 500, 'criterion': 'entropy', 'max_depth': 25}]"
      ]
     },
     "execution_count": 46,
     "metadata": {},
     "output_type": "execute_result"
    }
   ],
   "source": [
    "grid_search.grid_scores_"
   ]
  },
  {
   "cell_type": "markdown",
   "metadata": {},
   "source": [
    "<h3> Using the best params from CV </h3>"
   ]
  },
  {
   "cell_type": "code",
   "execution_count": 114,
   "metadata": {},
   "outputs": [
    {
     "name": "stdout",
     "output_type": "stream",
     "text": [
      "Accuracy  0.769230769231\n",
      "AUC : 0.833870967742\n",
      "Precision of yes : 0.666666666667\n",
      "Precision of no : 0.819672131148\n",
      "Recall of yes : 0.645161290323\n",
      "Recall of no : 0.833333333333\n"
     ]
    },
    {
     "data": {
      "image/png": "[encoded data removed]",
      "text/plain": [
       "<matplotlib.figure.Figure at 0x4d0c95f8>"
      ]
     },
     "metadata": {},
     "output_type": "display_data"
    }
   ],
   "source": [
    "clf = RandomForestClassifier(n_jobs=-1,criterion = 'gini', n_estimators=500,max_depth=10,max_features = 10,random_state=30)\n",
    "clf.fit(train_X, train_Y)\n",
    "pred = clf.predict(test_X)\n",
    "predicted=[1 if i=='Yes' else 0 for i in pred]\n",
    "actual=[1 if i=='Yes' else 0 for i in test_Y]\n",
    "print \"Accuracy \",accuracy_score(test_Y,pred)\n",
    "fpr, tpr, _ = sklearn.metrics.roc_curve(test_Y, clf.predict_proba(test_X)[:,1])\n",
    "plt.plot(fpr,tpr)\n",
    "print \"AUC :\",auc(fpr,tpr)\n",
    "print \"Precision of yes :\",sklearn.metrics.precision_score(test_Y,pred,pos_label=1)\n",
    "print \"Precision of no :\",sklearn.metrics.precision_score(test_Y,pred,pos_label=0)\n",
    "print \"Recall of yes :\",sklearn.metrics.recall_score(test_Y,pred,pos_label=1)\n",
    "print \"Recall of no :\",sklearn.metrics.recall_score(test_Y,pred,pos_label=0)"
   ]
  },
  {
   "cell_type": "code",
   "execution_count": 57,
   "metadata": {},
   "outputs": [
    {
     "name": "stdout",
     "output_type": "stream",
     "text": [
      "0.404945489812\n"
     ]
    }
   ],
   "source": [
    "print sklearn.metrics.log_loss(test_Y, clf.predict_proba(test_X)[:,1])"
   ]
  },
  {
   "cell_type": "code",
   "execution_count": 115,
   "metadata": {},
   "outputs": [
    {
     "data": {
      "text/plain": [
       "[('max_kscore', 0.087007227669661305),\n",
       " ('mean_ngram_len', 0.07258761679547375),\n",
       " ('unique_candidate_keywords', 0.049895705018718553),\n",
       " ('url_length', 0.047057591057583385),\n",
       " ('kw_cnt_links', 0.043239285402011877),\n",
       " ('kw_cnt_h2', 0.043106053121292127),\n",
       " ('max_depth_dom', 0.034856638198824702),\n",
       " ('unique_keywords_cnt', 0.034647293629998577),\n",
       " ('kw_cnt_title', 0.033672735894082026),\n",
       " ('aksis_match_rate', 0.033579076280374195),\n",
       " ('unique_keywords', 0.033321213727113191),\n",
       " ('kw_cnt_h1', 0.032064221680985869),\n",
       " ('other_link_cnt', 0.031275832509338922),\n",
       " ('h2_cnt', 0.029971032908355177),\n",
       " ('avg_word_count_paragraph', 0.028913948761167329),\n",
       " ('range_top3_kscore', 0.027988055485534052),\n",
       " ('max_kw_freq', 0.024890877271352235),\n",
       " ('word_count_paragraphs', 0.023501892026529015),\n",
       " ('kw_cnt_h3', 0.023120688075072952),\n",
       " ('gl_cnt', 0.023044235645642296),\n",
       " ('no_url_levels', 0.02249418870602821),\n",
       " ('asin_cnt', 0.021803379695673954),\n",
       " ('kw_cnt_paragraphs', 0.0211873279958141),\n",
       " ('h3_cnt', 0.020206074204758763),\n",
       " ('p_cnt', 0.019396688276015057),\n",
       " ('top_kw_minlinenum', 0.018791857205976488),\n",
       " ('az_link_cnt', 0.018543137576602486),\n",
       " ('top_kw_termfreq', 0.016634749894159261),\n",
       " ('kw_cnt_h4', 0.013364646130169407),\n",
       " ('h4_cnt', 0.010737733134347173),\n",
       " ('h1_cnt', 0.010301950313655156),\n",
       " ('no_url_params', 0.0097190725351559773),\n",
       " ('comments_cnt', 0.0070206325984870695),\n",
       " ('kw_cnt_az_links', 0.0066341402231074199),\n",
       " ('kw_cnt_h5', 0.0058053656407814156),\n",
       " ('is_topk_in_title', 0.0045884837944660034),\n",
       " ('h5_cnt', 0.0042661969681135163),\n",
       " ('isHttp', 0.0035076929844943482),\n",
       " ('kw_cnt_h6', 0.0027268267113760751),\n",
       " ('has_comments', 0.0025479994901190495),\n",
       " ('h6_cnt', 0.0015591312642203473),\n",
       " ('ishomepage', 0.00042150349736710691),\n",
       " ('top', 0.0),\n",
       " ('best', 0.0),\n",
       " ('review', 0.0)]"
      ]
     },
     "execution_count": 115,
     "metadata": {},
     "output_type": "execute_result"
    }
   ],
   "source": [
    "import operator;\n",
    "f=train_X.columns\n",
    "i=clf.feature_importances_\n",
    "f_i=dict()\n",
    "for j in range(0,len(f)):\n",
    "    f_i[f[j]]=i[j]\n",
    "sorted(f_i.items(),key=operator.itemgetter(1),reverse=True)"
   ]
  },
  {
   "cell_type": "markdown",
   "metadata": {},
   "source": [
    "<h3> Trying Traditional + BOW features </h3>"
   ]
  },
  {
   "cell_type": "code",
   "execution_count": 85,
   "metadata": {},
   "outputs": [],
   "source": [
    "colname = [\"v\"+str(i) for i in range(0,300)]\n",
    "for i in ['p_cnt', 'az_link_cnt', 'other_link_cnt',\n",
    "       'comments_cnt', 'h1_cnt', 'h2_cnt', 'h3_cnt', 'h4_cnt', 'h5_cnt',\n",
    "       'h6_cnt', 'word_count_paragraphs', 'avg_word_count_paragraph',\n",
    "       'max_depth_dom', 'has_comments','ishomepage',\n",
    "       'no_url_params', 'no_url_levels', 'url_length',\n",
    "       'unique_candidate_keywords', 'kw_cnt_paragraphs', 'kw_cnt_title',\n",
    "       'kw_cnt_links', 'kw_cnt_az_links', 'kw_cnt_h1', 'kw_cnt_h2',\n",
    "       'kw_cnt_h3', 'kw_cnt_h4', 'kw_cnt_h5', 'kw_cnt_h6', 'max_kw_freq',\n",
    "       'mean_ngram_len', 'unique_keywords_cnt', 'asin_cnt', 'gl_cnt',  'is_topk_in_title', 'unique_keywords',\n",
    "       'top_kw_termfreq', 'top_kw_minlinenum', 'aksis_match_rate',\n",
    "       'max_kscore', 'range_top3_kscore', 'isHttp', 'best',\n",
    "       'top', 'review','IsProd']:\n",
    "    colname.append(i)"
   ]
  },
  {
   "cell_type": "code",
   "execution_count": 87,
   "metadata": {
    "collapsed": true
   },
   "outputs": [],
   "source": [
    "dt_v1 = dt_v1[colname]"
   ]
  },
  {
   "cell_type": "code",
   "execution_count": 89,
   "metadata": {},
   "outputs": [
    {
     "name": "stdout",
     "output_type": "stream",
     "text": [
      "{'max_features': 30, 'n_estimators': 400, 'criterion': 'gini', 'max_depth': 20}\n"
     ]
    }
   ],
   "source": [
    "#cross validation\n",
    "model = RandomForestClassifier(random_state=30)\n",
    "#param_grid = { \"n_estimators\" : [10,50,100,400],\n",
    "#           \"criterion\"         : [\"gini\",\"entropy\"],\n",
    "#           \"max_features\"      : [5,10,15,20,30],\n",
    "#           \"max_depth\"         : [5,10,20],\n",
    "#           \"min_samples_split\" : [2,10,20] ,\n",
    "#           \"bootstrap\": [True,False]}\n",
    "param_grid = { \"n_estimators\" : [50,100,200,400,500],\n",
    "               \"criterion\"         : [\"gini\",\"entropy\"],\n",
    "               \"max_features\"      : [10,30,40],\n",
    "               \"max_depth\"         : [10,20,25],\n",
    "           #\"min_samples_split\" : [2,10,20] ,\n",
    "           #\"bootstrap\": [True,False]\n",
    "             }\n",
    "#X=dt_n.drop('',axis=1)\n",
    "X=dt_v1.drop('IsProd',axis=1)\n",
    "y=dt_v1['IsProd']\n",
    "y = [1 if i == 'Yes' else 0 for i in y]       \n",
    "grid_search = GridSearchCV(clf, param_grid, n_jobs=1, cv=5,scoring='accuracy')\n",
    "grid_search.fit(X, y)\n",
    "print grid_search.best_params_"
   ]
  },
  {
   "cell_type": "code",
   "execution_count": 90,
   "metadata": {
    "collapsed": true
   },
   "outputs": [],
   "source": [
    "train, test = train_test_split(dt_v1, test_size = 0.2)\n",
    "train_Y = train['IsProd']\n",
    "train_X = train.drop('IsProd',axis=1)\n",
    "test_Y = test['IsProd']\n",
    "test_X = test.drop('IsProd',axis=1)\n",
    "train_Y = [1 if i == 'Yes' else 0 for i in train_Y]\n",
    "test_Y = [1 if i == 'Yes' else 0 for i in test_Y]"
   ]
  },
  {
   "cell_type": "code",
   "execution_count": 95,
   "metadata": {},
   "outputs": [
    {
     "name": "stdout",
     "output_type": "stream",
     "text": [
      "Accuracy  0.790960451977\n",
      "AUC : 0.859686609687\n",
      "Precision of yes : 0.734693877551\n",
      "Precision of no : 0.8125\n",
      "Recall of yes : 0.6\n",
      "Recall of no : 0.888888888889\n"
     ]
    },
    {
     "data": {
      "image/png": "[encoded data removed]",
      "text/plain": [
       "<matplotlib.figure.Figure at 0x14245cc0>"
      ]
     },
     "metadata": {},
     "output_type": "display_data"
    }
   ],
   "source": [
    "clf = RandomForestClassifier(n_jobs=-1,n_estimators=400,criterion='gini',random_state=3)\n",
    "clf.fit(train_X, train_Y)\n",
    "pred = clf.predict(test_X)\n",
    "predicted=[1 if i=='Yes' else 0 for i in pred]\n",
    "actual=[1 if i=='Yes' else 0 for i in test_Y]\n",
    "print \"Accuracy \",accuracy_score(test_Y,pred)\n",
    "fpr, tpr, _ = sklearn.metrics.roc_curve(test_Y, clf.predict_proba(test_X)[:,1])\n",
    "plt.plot(fpr,tpr)\n",
    "print \"AUC :\",auc(fpr,tpr)\n",
    "print \"Precision of yes :\",sklearn.metrics.precision_score(test_Y,pred,pos_label=1)\n",
    "print \"Precision of no :\",sklearn.metrics.precision_score(test_Y,pred,pos_label=0)\n",
    "print \"Recall of yes :\",sklearn.metrics.recall_score(test_Y,pred,pos_label=1)\n",
    "print \"Recall of no :\",sklearn.metrics.recall_score(test_Y,pred,pos_label=0)"
   ]
  },
  {
   "cell_type": "code",
   "execution_count": 117,
   "metadata": {},
   "outputs": [],
   "source": [
    "dt_v1.to_csv(\"all_features_url.csv\")"
   ]
  },
  {
   "cell_type": "code",
   "execution_count": 25,
   "metadata": {},
   "outputs": [],
   "source": [
    "train, test = train_test_split(dt_v1, test_size = 0.2,random_state =30)\n",
    "train_Y = train['IsProd']\n",
    "train_X = train.drop('IsProd',axis=1)\n",
    "test_Y = test['IsProd']\n",
    "test_X = test.drop('IsProd',axis=1)\n",
    "train_Y = [1 if i == 'Yes' else 0 for i in train_Y]\n",
    "test_Y = [1 if i == 'Yes' else 0 for i in test_Y]\n",
    "vector_traidtional_features = colname\n",
    "traditional_features = ['p_cnt', 'az_link_cnt', 'other_link_cnt',\n",
    "       'comments_cnt', 'h1_cnt', 'h2_cnt', 'h3_cnt', 'h4_cnt', 'h5_cnt',\n",
    "       'h6_cnt', 'word_count_paragraphs', 'avg_word_count_paragraph',\n",
    "       'max_depth_dom', 'has_comments','ishomepage',\n",
    "       'no_url_params', 'no_url_levels', 'url_length',\n",
    "       'unique_candidate_keywords', 'kw_cnt_paragraphs', 'kw_cnt_title',\n",
    "       'kw_cnt_links', 'kw_cnt_az_links', 'kw_cnt_h1', 'kw_cnt_h2',\n",
    "       'kw_cnt_h3', 'kw_cnt_h4', 'kw_cnt_h5', 'kw_cnt_h6', 'max_kw_freq',\n",
    "       'mean_ngram_len', 'unique_keywords_cnt', 'asin_cnt', 'gl_cnt',  'is_topk_in_title', 'unique_keywords',\n",
    "       'top_kw_termfreq', 'top_kw_minlinenum', 'aksis_match_rate',\n",
    "       'max_kscore', 'range_top3_kscore', 'isHttp', 'best',\n",
    "       'top', 'review']\n",
    "vector_features = [\"v\"+str(i) for i in range(0,300)]"
   ]
  },
  {
   "cell_type": "code",
   "execution_count": 130,
   "metadata": {
    "collapsed": true
   },
   "outputs": [],
   "source": [
    "# lets redo CV for both methods"
   ]
  },
  {
   "cell_type": "code",
   "execution_count": 146,
   "metadata": {},
   "outputs": [
    {
     "name": "stdout",
     "output_type": "stream",
     "text": [
      "{'max_features': 10, 'n_estimators': 500, 'bootstrap': True, 'criterion': 'gini', 'max_depth': 10}\n"
     ]
    }
   ],
   "source": [
    "#cross validation\n",
    "model = RandomForestClassifier(random_state=11)\n",
    "param_grid = { \"n_estimators\" : [50,100,200,400,500],\n",
    "               \"criterion\"         : [\"gini\",\"entropy\"],\n",
    "               \"max_features\"      : [10,30,40],\n",
    "               \"max_depth\"         : [10,20,25],\n",
    "               #\"min_samples_split\" : [2,10,20] ,\n",
    "               \"bootstrap\": [True,False]\n",
    "             }\n",
    "\n",
    "X=dt_v1[traditional_features]\n",
    "y=dt_v1['IsProd']\n",
    "y = [1 if i == 'Yes' else 0 for i in y]       \n",
    "grid_search = GridSearchCV(clf, param_grid, n_jobs=1, cv=5,scoring='accuracy')\n",
    "grid_search.fit(X, y)\n",
    "print grid_search.best_params_"
   ]
  },
  {
   "cell_type": "code",
   "execution_count": 151,
   "metadata": {},
   "outputs": [],
   "source": [
    "#grid_search_traditional = grid_search\n"
   ]
  },
  {
   "cell_type": "code",
   "execution_count": 157,
   "metadata": {},
   "outputs": [
    {
     "name": "stdout",
     "output_type": "stream",
     "text": [
      "{'max_features': 10, 'n_estimators': 500, 'bootstrap': True, 'criterion': 'gini', 'max_depth': 10}\n"
     ]
    }
   ],
   "source": [
    "#running with best params\n",
    "model = RandomForestClassifier(random_state=98)\n",
    "param_grid = { \"n_estimators\" : [500],\n",
    "               \"criterion\"         : [\"gini\"],\n",
    "               \"max_features\"      : [10],\n",
    "               \"max_depth\"         : [10],\n",
    "               #\"min_samples_split\" : [2,10,20] ,\n",
    "               \"bootstrap\": [True]\n",
    "             }\n",
    "X=dt_v1[traditional_features]\n",
    "y=dt_v1['IsProd']\n",
    "y = [1 if i == 'Yes' else 0 for i in y]       \n",
    "grid_search = GridSearchCV(clf, param_grid, n_jobs=1, cv=5,scoring='accuracy')\n",
    "grid_search.fit(X, y)\n",
    "print grid_search.best_params_"
   ]
  },
  {
   "cell_type": "code",
   "execution_count": 166,
   "metadata": {},
   "outputs": [
    {
     "name": "stdout",
     "output_type": "stream",
     "text": [
      "[('max_kscore', 0.080615896615292712), ('mean_ngram_len', 0.067136956810552123), ('url_length', 0.052744342914334837), ('max_depth_dom', 0.045777613701118547), ('kw_cnt_links', 0.040845222403633093), ('kw_cnt_h2', 0.038434764463423782), ('unique_candidate_keywords', 0.038005821008803738), ('kw_cnt_title', 0.036237515292077561), ('unique_keywords_cnt', 0.036128684647770276), ('unique_keywords', 0.033254215743626761), ('aksis_match_rate', 0.031327788204593365), ('range_top3_kscore', 0.030212436433510292), ('kw_cnt_h1', 0.029796566729255416), ('other_link_cnt', 0.029355453366179427), ('h2_cnt', 0.029050128129841545), ('avg_word_count_paragraph', 0.028185854401236145), ('max_kw_freq', 0.026882196388174479), ('az_link_cnt', 0.024970332039567129), ('asin_cnt', 0.02444983620887416), ('kw_cnt_h3', 0.023981699095892987), ('kw_cnt_paragraphs', 0.023064752284217099), ('gl_cnt', 0.022490907647936161), ('p_cnt', 0.021642598114344946), ('word_count_paragraphs', 0.021017015096213017), ('no_url_levels', 0.019938702427681355), ('h3_cnt', 0.019688075592997852), ('top_kw_minlinenum', 0.018349485991193543), ('top_kw_termfreq', 0.01668970733742341), ('kw_cnt_h4', 0.016322242235821825), ('h4_cnt', 0.013282312137524585), ('h1_cnt', 0.010412900036374888), ('no_url_params', 0.0087170907197749534), ('kw_cnt_az_links', 0.0086911575787757041), ('comments_cnt', 0.008445148801411546), ('h5_cnt', 0.0045826597005628467), ('is_topk_in_title', 0.0042642551468059977), ('isHttp', 0.0042589171354057744), ('kw_cnt_h5', 0.0042255277330629989), ('has_comments', 0.002782623912810608), ('kw_cnt_h6', 0.0018300454780228051), ('h6_cnt', 0.0013821714547819011), ('ishomepage', 0.00052837883909781166), ('top', 0.0), ('best', 0.0), ('review', 0.0)]\n",
      "[ 0.75280899  0.77840909  0.73295455  0.76136364  0.71022727]\n"
     ]
    }
   ],
   "source": [
    "clf = RandomForestClassifier(n_jobs=-1,n_estimators=500,criterion='gini',max_features=10, bootstrap =True, max_depth =10,random_state=3)\n",
    "clf.fit(X,y)\n",
    "#pred = clf.predict(test_X)\n",
    "#predicted=[1 if i=='Yes' else 0 for i in pred]\n",
    "#actual=[1 if i=='Yes' else 0 for i in test_Y]\n",
    "#print \"Accuracy \",accuracy_score(test_Y,pred)\n",
    "#fpr, tpr, _ = sklearn.metrics.roc_curve(test_Y, clf.predict_proba(test_X)[:,1])\n",
    "#plt.plot(fpr,tpr)\n",
    "#print \"AUC :\",auc(fpr,tpr)\n",
    "#print \"Precision of yes :\",sklearn.metrics.precision_score(test_Y,pred,pos_label=1)\n",
    "#print \"Precision of no :\",sklearn.metrics.precision_score(test_Y,pred,pos_label=0)\n",
    "#print \"Recall of yes :\",sklearn.metrics.recall_score(test_Y,pred,pos_label=1)\n",
    "#print \"Recall of no :\",sklearn.metrics.recall_score(test_Y,pred,pos_label=0)\n",
    "import operator;\n",
    "f=X.columns\n",
    "i=clf.feature_importances_\n",
    "f_i=dict()\n",
    "for j in range(0,len(f)):\n",
    "    f_i[f[j]]=i[j]\n",
    "print sorted(f_i.items(),key=operator.itemgetter(1),reverse=True)\n"
   ]
  },
  {
   "cell_type": "code",
   "execution_count": 169,
   "metadata": {
    "scrolled": true
   },
   "outputs": [
    {
     "name": "stdout",
     "output_type": "stream",
     "text": [
      "0.749283223557\n"
     ]
    }
   ],
   "source": [
    "from sklearn.cross_validation import cross_val_score\n",
    "clf = RandomForestClassifier(n_jobs=-1,n_estimators=500,criterion='gini',max_features=10, bootstrap =True, max_depth =10,random_state=3)\n",
    "scores = cross_val_score(clf, X, y, cv=10)\n",
    "print np.mean(scores)"
   ]
  },
  {
   "cell_type": "code",
   "execution_count": 176,
   "metadata": {},
   "outputs": [
    {
     "data": {
      "text/plain": [
       "0.042344185260532144"
      ]
     },
     "execution_count": 176,
     "metadata": {},
     "output_type": "execute_result"
    }
   ],
   "source": [
    "np.std(scores)"
   ]
  },
  {
   "cell_type": "code",
   "execution_count": 170,
   "metadata": {},
   "outputs": [
    {
     "name": "stdout",
     "output_type": "stream",
     "text": [
      "{'max_features': 40, 'n_estimators': 400, 'bootstrap': False, 'criterion': 'gini', 'max_depth': 10}\n"
     ]
    }
   ],
   "source": [
    "#cross validation\n",
    "model = RandomForestClassifier(random_state=11)\n",
    "param_grid = { \"n_estimators\" : [50,100,200,400,500],\n",
    "               \"criterion\"         : [\"gini\",\"entropy\"],\n",
    "               \"max_features\"      : [10,30,40],\n",
    "               \"max_depth\"         : [10,20,25],\n",
    "               #\"min_samples_split\" : [2,10,20] ,\n",
    "               \"bootstrap\": [True,False]\n",
    "             }\n",
    "X=dt_v1[vector_features]\n",
    "y=dt_v1['IsProd']\n",
    "y = [1 if i == 'Yes' else 0 for i in y]       \n",
    "grid_search = GridSearchCV(clf, param_grid, n_jobs=1, cv=5,scoring='accuracy')\n",
    "grid_search.fit(X, y)\n",
    "print grid_search.best_params_"
   ]
  },
  {
   "cell_type": "code",
   "execution_count": 177,
   "metadata": {},
   "outputs": [
    {
     "name": "stdout",
     "output_type": "stream",
     "text": [
      "[('v75', 0.027338020378353464), ('v294', 0.02125452298809119), ('v252', 0.019784614093909629), ('v207', 0.017605427545616149), ('v223', 0.015772537879696791), ('v87', 0.013417472444710248), ('v90', 0.013139196603576346), ('v135', 0.011085945954798591), ('v70', 0.010493545949142889), ('v18', 0.010073230825302341), ('v200', 0.0095760061796736212), ('v74', 0.0093003385791595346), ('v295', 0.008315485448886311), ('v60', 0.0075903821212576694), ('v48', 0.0074508165215294462), ('v106', 0.0073080556456661568), ('v203', 0.007176243421670783), ('v158', 0.006805626259742229), ('v177', 0.0067330218888271252), ('v173', 0.0063964498809015412), ('v116', 0.0063063813583860229), ('v93', 0.0059981373580975912), ('v262', 0.0058108802823326026), ('v193', 0.0057234964838533877), ('v211', 0.0055579203370887172), ('v161', 0.0054331003449789583), ('v131', 0.0052710014365661981), ('v179', 0.0052124343819469352), ('v27', 0.0051883670473864777), ('v219', 0.004993752204189579), ('v197', 0.00480483297767472), ('v214', 0.0047101686931583474), ('v274', 0.0046505823215122312), ('v17', 0.0044342923411859747), ('v174', 0.0044108111888923338), ('v89', 0.0043669330600635253), ('v37', 0.004253372377101332), ('v84', 0.0042033546400305688), ('v21', 0.0041818214673529216), ('v9', 0.0040779113173926634), ('v33', 0.0040637810695442053), ('v166', 0.0040627535261867553), ('v129', 0.0040041658937054175), ('v290', 0.0039888551864911683), ('v40', 0.0039878584375571645), ('v245', 0.0039159845631365105), ('v141', 0.0039040808681902756), ('v206', 0.0038903492658897898), ('v199', 0.0038037869954968754), ('v209', 0.0038028695968479226), ('v157', 0.0037930857479720526), ('v10', 0.0037633084433832493), ('v51', 0.0037391140584763032), ('v104', 0.0037058164979730628), ('v178', 0.0036507752412174451), ('v246', 0.0035875807110299111), ('v182', 0.0035874150664800368), ('v259', 0.0035792057106625226), ('v240', 0.0035758406068392063), ('v153', 0.0035434056344417803), ('v265', 0.0035169782969054898), ('v102', 0.003513497703955446), ('v236', 0.0035130901546477234), ('v71', 0.0035088885673227842), ('v256', 0.003493637920877582), ('v76', 0.0034617599896903627), ('v263', 0.0034536365652046335), ('v57', 0.0034205297219860463), ('v13', 0.0034114179488595659), ('v155', 0.0033647042395530398), ('v198', 0.0033634495852935438), ('v25', 0.0033420626556523118), ('v66', 0.0033356345614928714), ('v73', 0.0033258620833618263), ('v145', 0.0033218864390548845), ('v20', 0.0033206630812412517), ('v11', 0.0033172648610321552), ('v188', 0.0032988011136765856), ('v95', 0.0032890966366533061), ('v226', 0.0032675500938021559), ('v109', 0.0032603129282689236), ('v114', 0.0032322189465713476), ('v234', 0.0032145173183361704), ('v6', 0.0031968877623722632), ('v146', 0.0031703180495392378), ('v167', 0.0031698983046904274), ('v81', 0.0031538168566931026), ('v79', 0.0031423503442944488), ('v244', 0.0031264531434683353), ('v15', 0.0031195374819846865), ('v190', 0.0031112195125385734), ('v64', 0.0031035461996646945), ('v34', 0.0030974132701283041), ('v297', 0.0030890695766653902), ('v227', 0.003083889679708927), ('v56', 0.0030833041827240614), ('v55', 0.0030765402306587998), ('v42', 0.0030626088613026413), ('v53', 0.0030537995773901065), ('v136', 0.0030477122218349004), ('v22', 0.0030204669076803574), ('v187', 0.0029508678021721944), ('v111', 0.0029497756347757233), ('v281', 0.0029362778448406355), ('v101', 0.0029274426456898299), ('v175', 0.0029258539714434998), ('v257', 0.0029168219878936714), ('v133', 0.0028978323637667931), ('v123', 0.0028923122894507301), ('v108', 0.0028527035090210721), ('v170', 0.0028316416916322122), ('v288', 0.0028243326327203459), ('v210', 0.0028197955177969962), ('v194', 0.0028187740725355136), ('v243', 0.0027978488887070757), ('v299', 0.0027892744111047561), ('v289', 0.0027850957228508933), ('v149', 0.0027789759203236974), ('v220', 0.0027740807088404433), ('v45', 0.0027695798896746394), ('v41', 0.0027631994725819619), ('v228', 0.0027471980809080092), ('v112', 0.0027457324686855629), ('v191', 0.0027438409395021813), ('v127', 0.0027380286253309346), ('v287', 0.0027188385709775355), ('v5', 0.0027155819530483723), ('v277', 0.0026941920849489574), ('v267', 0.002671279481040185), ('v72', 0.0026645988448957014), ('v184', 0.0026642595734413326), ('v110', 0.0026634924740190722), ('v67', 0.0026633391513066164), ('v253', 0.0026525664177368203), ('v185', 0.0026338634299368576), ('v103', 0.00263145069629379), ('v0', 0.002628156602488762), ('v217', 0.0026129180322641637), ('v238', 0.0026104764597313004), ('v122', 0.0026088717878465888), ('v221', 0.0026055981337578739), ('v222', 0.0025978748926587425), ('v14', 0.0025964432224588985), ('v293', 0.0025844502168043061), ('v205', 0.0025817754408724125), ('v254', 0.0025730823646532854), ('v156', 0.0025726256159293529), ('v230', 0.0025616227912194246), ('v292', 0.0025560432085748224), ('v113', 0.002555932987924542), ('v218', 0.0025489562948756367), ('v77', 0.0025418138034749784), ('v107', 0.0025348536371858021), ('v12', 0.002530267289201612), ('v139', 0.0025297555104255649), ('v271', 0.0025243367500152932), ('v121', 0.0025225835930708417), ('v208', 0.0025206021936498998), ('v140', 0.0025095520324466044), ('v261', 0.0025029051065857044), ('v151', 0.0025020067433879933), ('v86', 0.0024944223239371744), ('v181', 0.0024894521953123185), ('v264', 0.0024875547425105664), ('v16', 0.0024718499838582656), ('v239', 0.002465500323509391), ('v28', 0.0024653387125315178), ('v61', 0.0024604260229609768), ('v148', 0.002455877853843433), ('v94', 0.0024547197598905855), ('v216', 0.0024524945958444028), ('v154', 0.0024450662667759473), ('v147', 0.0024370082600013031), ('v26', 0.0024279122283032812), ('v59', 0.0024212118760537945), ('v62', 0.0024179801518064174), ('v180', 0.0024118253520198588), ('v138', 0.0024048867749487039), ('v58', 0.0024028264124765692), ('v282', 0.0023987610530229321), ('v36', 0.002398570689806174), ('v132', 0.0023879291646752353), ('v82', 0.0023869666544208898), ('v97', 0.0023729314740946281), ('v8', 0.0023726579910755734), ('v32', 0.002362510589624466), ('v125', 0.0023622550371725196), ('v284', 0.0023577102444859738), ('v171', 0.0023571242726997451), ('v192', 0.0023562664391761088), ('v91', 0.0023456064184294444), ('v49', 0.0023271045773989533), ('v80', 0.0023216789324530616), ('v202', 0.002320137214427294), ('v96', 0.0023075400899914482), ('v164', 0.0023000611723457292), ('v183', 0.002299933508886149), ('v270', 0.0022928761286694212), ('v78', 0.0022880770683644924), ('v4', 0.0022879747530146627), ('v69', 0.0022848995573237409), ('v169', 0.0022798935584231418), ('v249', 0.0022722787565570262), ('v120', 0.0022691044350025792), ('v115', 0.0022654935065523308), ('v172', 0.0022632126412138109), ('v7', 0.0022629007381213431), ('v278', 0.0022599132496338979), ('v276', 0.0022512652677035877), ('v215', 0.0022505105558562792), ('v286', 0.0022417071633735806), ('v35', 0.0022287054776656229), ('v152', 0.0022281962989613418), ('v204', 0.0022275291823478515), ('v296', 0.0022239458877689987), ('v248', 0.0022235802463778029), ('v250', 0.0022037855419992048), ('v46', 0.0021985871502061415), ('v283', 0.0021975218603138688), ('v63', 0.002197335526968235), ('v144', 0.0021908278149779452), ('v47', 0.0021906639127107701), ('v19', 0.0021902552607018094), ('v23', 0.0021775111607613183), ('v2', 0.0021747693238405698), ('v196', 0.0021710747840328736), ('v224', 0.0021625610365211727), ('v186', 0.002160689585858661), ('v273', 0.0021549011133144033), ('v143', 0.0021486354039031742), ('v150', 0.0021413405502004241), ('v30', 0.0021204430690632851), ('v168', 0.0021109463751456821), ('v275', 0.0021099849042823453), ('v43', 0.0021074235336100856), ('v285', 0.0021069924113689886), ('v68', 0.0020946654588031551), ('v242', 0.0020877200903309237), ('v142', 0.0020856786031678838), ('v212', 0.0020818008930224173), ('v162', 0.0020781217058845258), ('v130', 0.002075774753065363), ('v100', 0.0020724182628266384), ('v241', 0.0020516622381405911), ('v92', 0.0020375414049231301), ('v54', 0.002035961902323199), ('v176', 0.0020264639023702012), ('v237', 0.0020128328169862777), ('v44', 0.0020111177449376812), ('v160', 0.0020007458493268944), ('v88', 0.0019993859437406804), ('v247', 0.0019947545017468646), ('v134', 0.0019839727068145505), ('v39', 0.0019795509736851916), ('v105', 0.001979135743515451), ('v159', 0.0019778698873481907), ('v231', 0.0019713634754931712), ('v298', 0.0019702357287287022), ('v98', 0.0019683615497088128), ('v269', 0.0019642834153214216), ('v24', 0.0019642123406730643), ('v3', 0.001959457037044544), ('v38', 0.0019518753012374779), ('v260', 0.0019490999924830174), ('v235', 0.0019431253630206094), ('v225', 0.0019254768413447918), ('v229', 0.0019221118823994105), ('v85', 0.0019156059548287925), ('v213', 0.0019070362620390055), ('v266', 0.0019066051350168998), ('v99', 0.0019053250873172424), ('v128', 0.0018952304052298021), ('v137', 0.0018805256431038103), ('v232', 0.0018755938177759581), ('v124', 0.0018710949446870573), ('v258', 0.0018631304396256776), ('v1', 0.0018554762586211351), ('v29', 0.0018554227299526047), ('v279', 0.0018487777740879838), ('v201', 0.0018355653919541214), ('v126', 0.0018275100159754968), ('v291', 0.001818793574365652), ('v189', 0.0017958467692582583), ('v165', 0.0017802249675967499), ('v31', 0.0017681718981306205), ('v118', 0.0017567611968660945), ('v117', 0.0017486629773988741), ('v268', 0.0017451998936797379), ('v119', 0.00173851330374387), ('v233', 0.0017314094793836362), ('v163', 0.0017138862817007729), ('v50', 0.0017066643846622381), ('v83', 0.0016997396780808938), ('v65', 0.0016840366309617222), ('v195', 0.0016397506947144172), ('v52', 0.0016225695559787029), ('v272', 0.0016098584823383486), ('v251', 0.0015931348846369511), ('v280', 0.0015068061328806328), ('v255', 0.0014428034801050248)]\n"
     ]
    }
   ],
   "source": [
    "clf = RandomForestClassifier(n_jobs=-1,n_estimators=400,criterion='gini',max_features=40, bootstrap =False, max_depth =10,random_state=3)\n",
    "clf.fit(X,y)\n",
    "#pred = clf.predict(test_X)\n",
    "#predicted=[1 if i=='Yes' else 0 for i in pred]\n",
    "#actual=[1 if i=='Yes' else 0 for i in test_Y]\n",
    "#print \"Accuracy \",accuracy_score(test_Y,pred)\n",
    "#fpr, tpr, _ = sklearn.metrics.roc_curve(test_Y, clf.predict_proba(test_X)[:,1])\n",
    "#plt.plot(fpr,tpr)\n",
    "#print \"AUC :\",auc(fpr,tpr)\n",
    "#print \"Precision of yes :\",sklearn.metrics.precision_score(test_Y,pred,pos_label=1)\n",
    "#print \"Precision of no :\",sklearn.metrics.precision_score(test_Y,pred,pos_label=0)\n",
    "#print \"Recall of yes :\",sklearn.metrics.recall_score(test_Y,pred,pos_label=1)\n",
    "#print \"Recall of no :\",sklearn.metrics.recall_score(test_Y,pred,pos_label=0)\n",
    "import operator;\n",
    "f=X.columns\n",
    "i=clf.feature_importances_\n",
    "f_i=dict()\n",
    "for j in range(0,len(f)):\n",
    "    f_i[f[j]]=i[j]\n",
    "print sorted(f_i.items(),key=operator.itemgetter(1),reverse=True)"
   ]
  },
  {
   "cell_type": "code",
   "execution_count": 178,
   "metadata": {},
   "outputs": [
    {
     "name": "stdout",
     "output_type": "stream",
     "text": [
      "0.756256384065\n"
     ]
    }
   ],
   "source": [
    "from sklearn.cross_validation import cross_val_score\n",
    "clf = RandomForestClassifier(n_jobs=-1,n_estimators=400,criterion='gini',max_features=40, bootstrap =False, max_depth =10,random_state=3)\n",
    "scores = cross_val_score(clf, X, y, cv=5)\n",
    "print np.mean(scores)"
   ]
  },
  {
   "cell_type": "code",
   "execution_count": 179,
   "metadata": {},
   "outputs": [
    {
     "name": "stdout",
     "output_type": "stream",
     "text": [
      "0.0187038080673\n"
     ]
    }
   ],
   "source": [
    "print np.std(scores)"
   ]
  },
  {
   "cell_type": "code",
   "execution_count": 26,
   "metadata": {},
   "outputs": [],
   "source": [
    "v_t_features = traditional_features\n",
    "for i in vector_features:\n",
    "    v_t_features.append(i)"
   ]
  },
  {
   "cell_type": "code",
   "execution_count": 188,
   "metadata": {},
   "outputs": [
    {
     "name": "stdout",
     "output_type": "stream",
     "text": [
      "{'max_features': 50, 'n_estimators': 700, 'bootstrap': False, 'criterion': 'gini', 'max_depth': 10}\n"
     ]
    }
   ],
   "source": [
    "#cross validation\n",
    "model = RandomForestClassifier(random_state=11)\n",
    "param_grid = { \"n_estimators\" : [100,200,600,700],\n",
    "               \"criterion\"         : [\"entropy\"],\n",
    "               \"max_features\"      : [20,40,50,80], #20\n",
    "               \"max_depth\"         : [10,20],\n",
    "               #\"min_samples_split\" : [2,10,20] ,\n",
    "               \"bootstrap\": [True,False]\n",
    "             }\n",
    "X=dt_v1[v_t_features]\n",
    "y=dt_v1['IsProd']\n",
    "y = [1 if i == 'Yes' else 0 for i in y]       \n",
    "grid_search = GridSearchCV(model, param_grid, n_jobs=1, cv=5,scoring='accuracy')\n",
    "grid_search.fit(X, y)\n",
    "print grid_search.best_params_"
   ]
  },
  {
   "cell_type": "code",
   "execution_count": 195,
   "metadata": {},
   "outputs": [
    {
     "name": "stdout",
     "output_type": "stream",
     "text": [
      "0.792517875383\n"
     ]
    }
   ],
   "source": [
    "from sklearn.cross_validation import cross_val_score\n",
    "clf = RandomForestClassifier(n_jobs=-1,n_estimators=700,criterion='gini',max_features=50, bootstrap =False, max_depth =10,random_state=3)\n",
    "scores = cross_val_score(clf, X, y, cv=5)\n",
    "print np.mean(scores)"
   ]
  },
  {
   "cell_type": "code",
   "execution_count": 196,
   "metadata": {},
   "outputs": [
    {
     "data": {
      "text/plain": [
       "0.022006420618315283"
      ]
     },
     "execution_count": 196,
     "metadata": {},
     "output_type": "execute_result"
    }
   ],
   "source": [
    "np.std(scores)"
   ]
  },
  {
   "cell_type": "code",
   "execution_count": 30,
   "metadata": {},
   "outputs": [],
   "source": [
    "all_feat = dt_v1 = dt_v[(pd.isnull(dt_v.IsProd) == False) & (pd.isnull(dt_v.title) == False) & ( dt_v.top_GL != 'null') & (dt_v['v0'] != 0.0) & (dt_v['v1'] != 0.0) & (dt_v['v2'] != 0.0)]"
   ]
  },
  {
   "cell_type": "code",
   "execution_count": 46,
   "metadata": {},
   "outputs": [
    {
     "ename": "ValueError",
     "evalue": "Input contains NaN, infinity or a value too large for dtype('float32').",
     "output_type": "error",
     "traceback": [
      "\u001b[1;31m---------------------------------------------------------------------------\u001b[0m",
      "\u001b[1;31mValueError\u001b[0m                                Traceback (most recent call last)",
      "\u001b[1;32m<ipython-input-46-18762eb7ec23>\u001b[0m in \u001b[0;36m<module>\u001b[1;34m()\u001b[0m\n\u001b[0;32m     10\u001b[0m \u001b[0mtest_Y\u001b[0m \u001b[1;33m=\u001b[0m \u001b[1;33m[\u001b[0m\u001b[1;36m1\u001b[0m \u001b[1;32mif\u001b[0m \u001b[0mi\u001b[0m \u001b[1;33m==\u001b[0m \u001b[1;34m'Yes'\u001b[0m \u001b[1;32melse\u001b[0m \u001b[1;36m0\u001b[0m \u001b[1;32mfor\u001b[0m \u001b[0mi\u001b[0m \u001b[1;32min\u001b[0m \u001b[0mtest_Y\u001b[0m\u001b[1;33m]\u001b[0m\u001b[1;33m\u001b[0m\u001b[0m\n\u001b[0;32m     11\u001b[0m \u001b[0mclf\u001b[0m \u001b[1;33m=\u001b[0m \u001b[0mRandomForestClassifier\u001b[0m\u001b[1;33m(\u001b[0m\u001b[0mn_jobs\u001b[0m\u001b[1;33m=\u001b[0m\u001b[1;33m-\u001b[0m\u001b[1;36m1\u001b[0m\u001b[1;33m,\u001b[0m\u001b[0mn_estimators\u001b[0m\u001b[1;33m=\u001b[0m\u001b[1;36m200\u001b[0m\u001b[1;33m,\u001b[0m\u001b[0mcriterion\u001b[0m\u001b[1;33m=\u001b[0m\u001b[1;34m'entropy'\u001b[0m\u001b[1;33m,\u001b[0m\u001b[0mmax_features\u001b[0m\u001b[1;33m=\u001b[0m\u001b[1;36m20\u001b[0m\u001b[1;33m,\u001b[0m \u001b[0mbootstrap\u001b[0m \u001b[1;33m=\u001b[0m\u001b[0mTrue\u001b[0m\u001b[1;33m,\u001b[0m \u001b[0mmax_depth\u001b[0m \u001b[1;33m=\u001b[0m\u001b[1;36m25\u001b[0m\u001b[1;33m,\u001b[0m\u001b[0mrandom_state\u001b[0m\u001b[1;33m=\u001b[0m\u001b[1;36m3\u001b[0m\u001b[1;33m)\u001b[0m\u001b[1;33m\u001b[0m\u001b[0m\n\u001b[1;32m---> 12\u001b[1;33m \u001b[0mclf\u001b[0m\u001b[1;33m.\u001b[0m\u001b[0mfit\u001b[0m\u001b[1;33m(\u001b[0m\u001b[0mtrain_X\u001b[0m\u001b[1;33m,\u001b[0m\u001b[0mtrain_Y\u001b[0m\u001b[1;33m)\u001b[0m\u001b[1;33m\u001b[0m\u001b[0m\n\u001b[0m\u001b[0;32m     13\u001b[0m \u001b[0mpred\u001b[0m \u001b[1;33m=\u001b[0m \u001b[0mclf\u001b[0m\u001b[1;33m.\u001b[0m\u001b[0mpredict\u001b[0m\u001b[1;33m(\u001b[0m\u001b[0mtest_X\u001b[0m\u001b[1;33m)\u001b[0m\u001b[1;33m\u001b[0m\u001b[0m\n\u001b[0;32m     14\u001b[0m \u001b[0mpredicted\u001b[0m\u001b[1;33m=\u001b[0m\u001b[1;33m[\u001b[0m\u001b[1;36m1\u001b[0m \u001b[1;32mif\u001b[0m \u001b[0mi\u001b[0m\u001b[1;33m==\u001b[0m\u001b[1;34m'Yes'\u001b[0m \u001b[1;32melse\u001b[0m \u001b[1;36m0\u001b[0m \u001b[1;32mfor\u001b[0m \u001b[0mi\u001b[0m \u001b[1;32min\u001b[0m \u001b[0mpred\u001b[0m\u001b[1;33m]\u001b[0m\u001b[1;33m\u001b[0m\u001b[0m\n",
      "\u001b[1;32mC:\\Anaconda2\\lib\\site-packages\\sklearn\\ensemble\\forest.pyc\u001b[0m in \u001b[0;36mfit\u001b[1;34m(self, X, y, sample_weight)\u001b[0m\n\u001b[0;32m    210\u001b[0m         \"\"\"\n\u001b[0;32m    211\u001b[0m         \u001b[1;31m# Validate or convert input data\u001b[0m\u001b[1;33m\u001b[0m\u001b[1;33m\u001b[0m\u001b[0m\n\u001b[1;32m--> 212\u001b[1;33m         \u001b[0mX\u001b[0m \u001b[1;33m=\u001b[0m \u001b[0mcheck_array\u001b[0m\u001b[1;33m(\u001b[0m\u001b[0mX\u001b[0m\u001b[1;33m,\u001b[0m \u001b[0mdtype\u001b[0m\u001b[1;33m=\u001b[0m\u001b[0mDTYPE\u001b[0m\u001b[1;33m,\u001b[0m \u001b[0maccept_sparse\u001b[0m\u001b[1;33m=\u001b[0m\u001b[1;34m\"csc\"\u001b[0m\u001b[1;33m)\u001b[0m\u001b[1;33m\u001b[0m\u001b[0m\n\u001b[0m\u001b[0;32m    213\u001b[0m         \u001b[1;32mif\u001b[0m \u001b[0missparse\u001b[0m\u001b[1;33m(\u001b[0m\u001b[0mX\u001b[0m\u001b[1;33m)\u001b[0m\u001b[1;33m:\u001b[0m\u001b[1;33m\u001b[0m\u001b[0m\n\u001b[0;32m    214\u001b[0m             \u001b[1;31m# Pre-sort indices to avoid that each individual tree of the\u001b[0m\u001b[1;33m\u001b[0m\u001b[1;33m\u001b[0m\u001b[0m\n",
      "\u001b[1;32mC:\\Anaconda2\\lib\\site-packages\\sklearn\\utils\\validation.pyc\u001b[0m in \u001b[0;36mcheck_array\u001b[1;34m(array, accept_sparse, dtype, order, copy, force_all_finite, ensure_2d, allow_nd, ensure_min_samples, ensure_min_features, warn_on_dtype, estimator)\u001b[0m\n\u001b[0;32m    396\u001b[0m                              % (array.ndim, estimator_name))\n\u001b[0;32m    397\u001b[0m         \u001b[1;32mif\u001b[0m \u001b[0mforce_all_finite\u001b[0m\u001b[1;33m:\u001b[0m\u001b[1;33m\u001b[0m\u001b[0m\n\u001b[1;32m--> 398\u001b[1;33m             \u001b[0m_assert_all_finite\u001b[0m\u001b[1;33m(\u001b[0m\u001b[0marray\u001b[0m\u001b[1;33m)\u001b[0m\u001b[1;33m\u001b[0m\u001b[0m\n\u001b[0m\u001b[0;32m    399\u001b[0m \u001b[1;33m\u001b[0m\u001b[0m\n\u001b[0;32m    400\u001b[0m     \u001b[0mshape_repr\u001b[0m \u001b[1;33m=\u001b[0m \u001b[0m_shape_repr\u001b[0m\u001b[1;33m(\u001b[0m\u001b[0marray\u001b[0m\u001b[1;33m.\u001b[0m\u001b[0mshape\u001b[0m\u001b[1;33m)\u001b[0m\u001b[1;33m\u001b[0m\u001b[0m\n",
      "\u001b[1;32mC:\\Anaconda2\\lib\\site-packages\\sklearn\\utils\\validation.pyc\u001b[0m in \u001b[0;36m_assert_all_finite\u001b[1;34m(X)\u001b[0m\n\u001b[0;32m     52\u001b[0m             and not np.isfinite(X).all()):\n\u001b[0;32m     53\u001b[0m         raise ValueError(\"Input contains NaN, infinity\"\n\u001b[1;32m---> 54\u001b[1;33m                          \" or a value too large for %r.\" % X.dtype)\n\u001b[0m\u001b[0;32m     55\u001b[0m \u001b[1;33m\u001b[0m\u001b[0m\n\u001b[0;32m     56\u001b[0m \u001b[1;33m\u001b[0m\u001b[0m\n",
      "\u001b[1;31mValueError\u001b[0m: Input contains NaN, infinity or a value too large for dtype('float32')."
     ]
    }
   ],
   "source": [
    "#X1 = all_feat[v_t_features]\n",
    "#y1 = all_feat['IsProd']\n",
    "train, test = train_test_split(all_feat, test_size = 0.2,random_state = 666)\n",
    "train_Y = train['IsProd']\n",
    "#train_X = train.drop('IsProd',axis=1)\n",
    "train_X = train[colname[0:299]]\n",
    "test_Y = test['IsProd']\n",
    "test_X = test[colname[0:299]]\n",
    "train_Y = [1 if i == 'Yes' else 0 for i in train_Y]\n",
    "test_Y = [1 if i == 'Yes' else 0 for i in test_Y]\n",
    "clf = RandomForestClassifier(n_jobs=-1,n_estimators=200,criterion='entropy',max_features=20, bootstrap =True, max_depth =25,random_state=3)\n",
    "clf.fit(train_X,train_Y)\n",
    "pred = clf.predict(test_X)\n",
    "predicted=[1 if i=='Yes' else 0 for i in pred]\n",
    "actual=[1 if i=='Yes' else 0 for i in test_Y]\n",
    "print \"Accuracy \",accuracy_score(test_Y,pred)\n",
    "fpr, tpr, _ = sklearn.metrics.roc_curve(test_Y, clf.predict_proba(test_X)[:,1])\n",
    "plt.plot(fpr,tpr)\n",
    "print \"AUC :\",auc(fpr,tpr)\n",
    "print \"Precision of yes :\",sklearn.metrics.precision_score(test_Y,pred,pos_label=1)\n",
    "print \"Precision of no :\",sklearn.metrics.precision_score(test_Y,pred,pos_label=0)\n",
    "print \"Recall of yes :\",sklearn.metrics.recall_score(test_Y,pred,pos_label=1)\n",
    "print \"Recall of no :\",sklearn.metrics.recall_score(test_Y,pred,pos_label=0)"
   ]
  },
  {
   "cell_type": "code",
   "execution_count": 63,
   "metadata": {},
   "outputs": [
    {
     "data": {
      "text/plain": [
       "['v75:   0.0258357670623',\n",
       " 'v294:   0.013220906681',\n",
       " 'v207:   0.0130418281201',\n",
       " 'v87:   0.0114998115307',\n",
       " 'v252:   0.0112660880536',\n",
       " 'v90:   0.0109662977838',\n",
       " 'v106:   0.009107114454',\n",
       " 'v295:   0.00901795452133',\n",
       " 'v135:   0.00887469054396',\n",
       " 'v223:   0.0079618072747',\n",
       " 'v200:   0.00792286404388',\n",
       " 'v161:   0.00684402623812',\n",
       " 'v211:   0.00616270677471',\n",
       " 'v18:   0.0060594921794',\n",
       " 'v71:   0.00577126146724',\n",
       " 'v40:   0.00567804731603',\n",
       " 'v48:   0.00546288272962',\n",
       " 'v70:   0.00534507642084',\n",
       " 'v173:   0.00521788696694',\n",
       " 'v257:   0.00516282529746',\n",
       " 'v203:   0.00513632137032',\n",
       " 'v166:   0.00504140231538',\n",
       " 'v93:   0.00500873195441',\n",
       " 'v141:   0.00487845434269',\n",
       " 'v236:   0.00485300656468',\n",
       " 'v89:   0.0048357004553',\n",
       " 'v60:   0.00479497210117',\n",
       " 'v177:   0.00474255984596',\n",
       " 'v56:   0.00473384466226',\n",
       " 'v226:   0.00470434856435',\n",
       " 'v157:   0.00458981460388',\n",
       " 'v178:   0.00456840989195',\n",
       " 'v57:   0.0044356221939',\n",
       " 'v58:   0.00442914740624',\n",
       " 'v79:   0.00440558513715',\n",
       " 'v163:   0.00439748722165',\n",
       " 'v245:   0.00438569562197',\n",
       " 'v297:   0.00438208460659',\n",
       " 'v262:   0.00435915430096',\n",
       " 'v153:   0.00434516639305',\n",
       " 'v219:   0.0043086677692',\n",
       " 'v129:   0.00429483526979',\n",
       " 'v116:   0.00423897462923',\n",
       " 'v174:   0.00419177173812',\n",
       " 'v108:   0.00417960719456',\n",
       " 'v9:   0.00416786600798',\n",
       " 'v146:   0.00411069576452',\n",
       " 'v199:   0.00409641290622',\n",
       " 'v267:   0.00408769150024',\n",
       " 'v95:   0.00407150047846',\n",
       " 'v12:   0.00407040877315',\n",
       " 'v235:   0.00402812209449',\n",
       " 'v122:   0.00389606254975',\n",
       " 'v145:   0.00389113354699',\n",
       " 'v136:   0.00384365172341',\n",
       " 'v204:   0.00383161053359',\n",
       " 'v131:   0.00378735818671',\n",
       " 'v206:   0.00374176402667',\n",
       " 'v74:   0.00373959941742',\n",
       " 'v170:   0.00371538714339',\n",
       " 'v263:   0.00368480140741',\n",
       " 'v287:   0.00366434992733',\n",
       " 'v11:   0.00366211832857',\n",
       " 'v34:   0.00364263025396',\n",
       " 'v160:   0.0036288039206',\n",
       " 'v17:   0.0035962185302',\n",
       " 'v64:   0.00359169279162',\n",
       " 'v243:   0.00358693027046',\n",
       " 'v264:   0.00358246429901',\n",
       " 'v189:   0.00356482693346',\n",
       " 'v35:   0.0035228188944',\n",
       " 'v8:   0.00351352141177',\n",
       " 'v118:   0.00350581656932',\n",
       " 'v158:   0.0035052195644',\n",
       " 'v188:   0.0034900378036',\n",
       " 'v240:   0.00342835138066',\n",
       " 'v6:   0.00342329220718',\n",
       " 'v20:   0.0033760618039',\n",
       " 'v73:   0.00337402543992',\n",
       " 'v191:   0.00336952306284',\n",
       " 'v27:   0.00336666318606',\n",
       " 'v132:   0.00335627751255',\n",
       " 'v165:   0.00335555558962',\n",
       " 'v214:   0.00335057594054',\n",
       " 'v10:   0.0033484207666',\n",
       " 'v55:   0.00334477061362',\n",
       " 'v5:   0.00333609238598',\n",
       " 'v21:   0.00333257798524',\n",
       " 'v293:   0.00331620261316',\n",
       " 'v180:   0.00331305232396',\n",
       " 'v194:   0.00330350025502',\n",
       " 'v45:   0.00330090341067',\n",
       " 'v224:   0.00325737176109',\n",
       " 'v209:   0.00323916953545',\n",
       " 'v150:   0.00323256659742',\n",
       " 'v256:   0.00323224746624',\n",
       " 'v110:   0.00321234758843',\n",
       " 'v51:   0.0032100734583',\n",
       " 'v265:   0.00319778078187',\n",
       " 'v254:   0.00318045203067',\n",
       " 'v193:   0.00317841699484',\n",
       " 'v213:   0.00315830860855',\n",
       " 'v142:   0.00315442296192',\n",
       " 'v7:   0.00315036877897',\n",
       " 'v148:   0.00314198100535',\n",
       " 'v42:   0.0031417323851',\n",
       " 'v234:   0.00313649497745',\n",
       " 'v244:   0.00313120234179',\n",
       " 'v269:   0.00312557545862',\n",
       " 'v137:   0.00312146586115',\n",
       " 'v77:   0.00311279143524',\n",
       " 'v81:   0.00311080324805',\n",
       " 'v155:   0.00310500228915',\n",
       " 'v172:   0.00309269070374',\n",
       " 'v104:   0.00309164477075',\n",
       " 'v228:   0.00308733642055',\n",
       " 'v13:   0.00308470484979',\n",
       " 'v66:   0.00308463359924',\n",
       " 'v111:   0.00308269993252',\n",
       " 'v117:   0.00308242949985',\n",
       " 'v139:   0.00307457802584',\n",
       " 'v164:   0.00306370324515',\n",
       " 'v149:   0.00305312252674',\n",
       " 'v227:   0.00305195301075',\n",
       " 'v187:   0.0030515391958',\n",
       " 'v96:   0.00304982464713',\n",
       " 'v33:   0.00304943672684',\n",
       " 'v121:   0.00304322633046',\n",
       " 'v290:   0.0030366492297',\n",
       " 'v162:   0.00302915098231',\n",
       " 'v133:   0.00302775233974',\n",
       " 'v22:   0.00301894085694',\n",
       " 'v217:   0.00301613766486',\n",
       " 'v296:   0.0030093320977',\n",
       " 'v186:   0.00300633124449',\n",
       " 'v282:   0.00299715185572',\n",
       " 'v192:   0.00298105199468',\n",
       " 'v210:   0.00297385519975',\n",
       " 'v124:   0.00296920616565',\n",
       " 'v36:   0.00296719448916',\n",
       " 'v112:   0.00296160302826',\n",
       " 'v26:   0.00295986887494',\n",
       " 'v25:   0.00295968969292',\n",
       " 'v128:   0.00294819674567',\n",
       " 'v52:   0.00294453841168',\n",
       " 'v179:   0.0029416720642',\n",
       " 'v31:   0.00293282687604',\n",
       " 'v24:   0.0029325454913',\n",
       " 'v270:   0.00292711550956',\n",
       " 'v215:   0.00292610292696',\n",
       " 'v185:   0.00291479746255',\n",
       " 'v84:   0.00291383994541',\n",
       " 'v123:   0.00291155586201',\n",
       " 'v168:   0.00290974832582',\n",
       " 'v76:   0.00289050927817',\n",
       " 'v197:   0.00288927882695',\n",
       " 'v274:   0.00288867578177',\n",
       " 'v41:   0.00288114311635',\n",
       " 'v258:   0.00287685549344',\n",
       " 'v272:   0.00286724758581',\n",
       " 'v16:   0.00286158329753',\n",
       " 'v49:   0.00283247285464',\n",
       " 'v59:   0.00282001320405',\n",
       " 'v285:   0.0028173240686',\n",
       " 'v275:   0.00281591408786',\n",
       " 'v94:   0.00281287959227',\n",
       " 'v212:   0.00281085620522',\n",
       " 'v218:   0.00280057662839',\n",
       " 'v225:   0.00279747343935',\n",
       " 'v97:   0.00279369181332',\n",
       " 'v184:   0.00276373818898',\n",
       " 'v37:   0.00275554986808',\n",
       " 'v67:   0.00275490640266',\n",
       " 'v39:   0.00275461848994',\n",
       " 'v147:   0.00275122518613',\n",
       " 'v195:   0.00274592498926',\n",
       " 'v144:   0.00274546188962',\n",
       " 'v288:   0.00274490164488',\n",
       " 'v241:   0.0027393503466',\n",
       " 'v127:   0.00273218047318',\n",
       " 'v80:   0.0027222806685',\n",
       " 'v30:   0.00271799030117',\n",
       " 'v230:   0.00271588556962',\n",
       " 'v231:   0.00271463311663',\n",
       " 'v253:   0.00271208596464',\n",
       " 'v278:   0.00270591956798',\n",
       " 'v107:   0.00270495219553',\n",
       " 'v279:   0.00270474797852',\n",
       " 'v283:   0.00270332240621',\n",
       " 'v167:   0.0026993379934',\n",
       " 'v115:   0.00269435527577',\n",
       " 'v238:   0.002681406978',\n",
       " 'v14:   0.00267647227607',\n",
       " 'v4:   0.0026700989435',\n",
       " 'v151:   0.00266460769627',\n",
       " 'v190:   0.0026449503637',\n",
       " 'v1:   0.00264462842809',\n",
       " 'v98:   0.00264276641834',\n",
       " 'v54:   0.00264272840199',\n",
       " 'v68:   0.0026338730846',\n",
       " 'v53:   0.00263316247571',\n",
       " 'v239:   0.00262851744381',\n",
       " 'v126:   0.00261764329444',\n",
       " 'v105:   0.00260406085444',\n",
       " 'v289:   0.00259660500883',\n",
       " 'v152:   0.00258715935418',\n",
       " 'v130:   0.00258275965617',\n",
       " 'v15:   0.0025758057108',\n",
       " 'v202:   0.00257193036634',\n",
       " 'v82:   0.00253036285023',\n",
       " 'v281:   0.00250959686535',\n",
       " 'v222:   0.00250677446706',\n",
       " 'v247:   0.00250223111958',\n",
       " 'v261:   0.00249948535785',\n",
       " 'v61:   0.00249529335991',\n",
       " 'v205:   0.00249461121664',\n",
       " 'v78:   0.00248355572978',\n",
       " 'v85:   0.00247502705187',\n",
       " 'v28:   0.00247342038765',\n",
       " 'v246:   0.00247238203266',\n",
       " 'v156:   0.00246570896177',\n",
       " 'v23:   0.00246474957781',\n",
       " 'v99:   0.0024606633755',\n",
       " 'v216:   0.0024437394823',\n",
       " 'v268:   0.00243730233601',\n",
       " 'v140:   0.00243453814447',\n",
       " 'v181:   0.00242563763936',\n",
       " 'v62:   0.00241290564884',\n",
       " 'v277:   0.00241027285327',\n",
       " 'v3:   0.00240079518109',\n",
       " 'v266:   0.00239659296585',\n",
       " 'v143:   0.0023918964812',\n",
       " 'v44:   0.00238145004406',\n",
       " 'v88:   0.00237832715759',\n",
       " 'v271:   0.00237186532309',\n",
       " 'v249:   0.00237094525629',\n",
       " 'v86:   0.00237073562101',\n",
       " 'v29:   0.00237002346063',\n",
       " 'v242:   0.00235161098896',\n",
       " 'v221:   0.00233167744614',\n",
       " 'v125:   0.00233090996741',\n",
       " 'v72:   0.00232030050136',\n",
       " 'v292:   0.00231355375643',\n",
       " 'v102:   0.00231099103434',\n",
       " 'v260:   0.0023053541506',\n",
       " 'v109:   0.00230401860186',\n",
       " 'v46:   0.0022985934992',\n",
       " 'v251:   0.00229734251402',\n",
       " 'v201:   0.00229460710908',\n",
       " 'v134:   0.00228466318936',\n",
       " 'v92:   0.00228129790392',\n",
       " 'v220:   0.00227093159814',\n",
       " 'v176:   0.0022676609179',\n",
       " 'v43:   0.00226273794673',\n",
       " 'v255:   0.00225602580249',\n",
       " 'v47:   0.00224268598321',\n",
       " 'v273:   0.00223461058947',\n",
       " 'v196:   0.00222990406919',\n",
       " 'v113:   0.00222308230874',\n",
       " 'v259:   0.00220339517595',\n",
       " 'v19:   0.0021960373416',\n",
       " 'v233:   0.00218798631956',\n",
       " 'v119:   0.00218289575592',\n",
       " 'v276:   0.00216838635298',\n",
       " 'v232:   0.00215922877076',\n",
       " 'v154:   0.00215037951223',\n",
       " 'v38:   0.00214910160643',\n",
       " 'v198:   0.00213461630173',\n",
       " 'v171:   0.00212667525305',\n",
       " 'v248:   0.00211076304406',\n",
       " 'v101:   0.00209796768323',\n",
       " 'v169:   0.00209493540098',\n",
       " 'v284:   0.00209252650964',\n",
       " 'v183:   0.00208413893106',\n",
       " 'v2:   0.00204887458891',\n",
       " 'v91:   0.00204612413257',\n",
       " 'v50:   0.00204195189704',\n",
       " 'v229:   0.00203535576637',\n",
       " 'v182:   0.00200866044551',\n",
       " 'v32:   0.0020076857803',\n",
       " 'v280:   0.00196416280251',\n",
       " 'v63:   0.00194513649483',\n",
       " 'v159:   0.00189558242013',\n",
       " 'v0:   0.00186107987025',\n",
       " 'v114:   0.00184058454282',\n",
       " 'v103:   0.00183747734457',\n",
       " 'v208:   0.00182975264736',\n",
       " 'v120:   0.00182215988966',\n",
       " 'v69:   0.00181547994442',\n",
       " 'v100:   0.00179395503496',\n",
       " 'v298:   0.00173734763408',\n",
       " 'v138:   0.0017146162814',\n",
       " 'v237:   0.00167385734866',\n",
       " 'v65:   0.00159694242661',\n",
       " 'v250:   0.00159104383001',\n",
       " 'v83:   0.0015549948141',\n",
       " 'v286:   0.00138700278158',\n",
       " 'v291:   0.0013814101497',\n",
       " 'v175:   0.00137821875889']"
      ]
     },
     "execution_count": 63,
     "metadata": {},
     "output_type": "execute_result"
    }
   ],
   "source": [
    "import operator;\n",
    "f=train_X.columns\n",
    "i=clf.feature_importances_\n",
    "f_i=dict()\n",
    "for j in range(0,len(f)):\n",
    "    f_i[f[j]]=i[j]\n",
    "z = sorted(f_i.items(),key=operator.itemgetter(1),reverse=True)\n",
    "[i+\":   \"+str(j)+\"\" for (i,j) in z]"
   ]
  },
  {
   "cell_type": "code",
   "execution_count": null,
   "metadata": {},
   "outputs": [],
   "source": [
    "anlz = test['title']\n",
    "anlz['IsProd']=test['IsProd']\n",
    "anlz['predicted']=clf.predict(test_X)[:,1]"
   ]
  },
  {
   "cell_type": "code",
   "execution_count": 81,
   "metadata": {},
   "outputs": [
    {
     "data": {
      "text/plain": [
       "404                           I side 47% with Mike Pence\n",
       "667    ESPN: Donatas Motiejunas won't report to Rocke...\n",
       "416                               daily timewaster: Wow.\n",
       "918    I9100XXLPB_I9100OXXLP5_OXX (Android 4.0.3) - P...\n",
       "406    **Official Clevo P870DM/Sager NP9870-G Owner's...\n",
       "127    Neko Magic: Anime & Figure News - Prison Schoo...\n",
       "888    Floating point precision (CScriptBuilder?) - A...\n",
       "862    Nature Walk In Spring : Wake up elsewhere? - W...\n",
       "552                         Amtek Barker Breaker Reviews\n",
       "304    Jeep CJ to TJ conversion (lots of modding) - C...\n",
       "91     The World's Best Photos of montrealcarifiesta ...\n",
       "57        Romantic Valentine's Day Quotes ~ Wishes Album\n",
       "208    DEWALT DCS570 20V 7-1/4″ Circular Saw with Bla...\n",
       "198    You searched for Security Engineering: A Guide...\n",
       "439    Gyozo Victor Forintos vs Arinbjorn Gudmundsson...\n",
       "570                             Price on a used Glock 26\n",
       "116    \"Petit Tou\" Mai 2015 - Place du Capitole (Toul...\n",
       "178    French dining room chairs: Beautiful pictures,...\n",
       "673    The World's most recently posted photos of thc...\n",
       "373    Rupert Pupkin Speaks: Shout Factorized: ROLLIN...\n",
       "774    My Coke Rewards: Earn Double Points on ALL Cap...\n",
       "595    Difference Between Detritivores and Decomposer...\n",
       "379    Acer Liquid Leap vs. Fitbit Charge 2 vs. Micha...\n",
       "224    Order of Barbara Taylor Bradford Books - Order...\n",
       "683    The World's Best Photos of hiscocks - Flickr H...\n",
       "139       My Lazy Caramel Ganache Recipe :) - CakesDecor\n",
       "344    Marie-Anne Mercier (abt. 1692-27 November 1760...\n",
       "289                  bbasomali.com whois lookup - who.is\n",
       "182                                             ellipsis\n",
       "777    Firmware based on Android 7.0 beta for Galaxy ...\n",
       "438    Potpourri Christmas Tree Craft – The Pinterest...\n",
       "535    Michael Gehrisch to end 15-year tenure as Pres...\n",
       "96                         Site | 2 | BigCloset TopShelf\n",
       "522    Tim Cook's vision of kids everywhere coding is...\n",
       "473         [Firmware] Need Rom For Galaxy S5 Sm G-9008w\n",
       "701    Life Changing Cleaning Tips & Tricks - Page 2 ...\n",
       "360    2017 - 2018 Texas Ultramarathon Calendar in Fe...\n",
       "145    HP says 'The Machine' will supercharge Android...\n",
       "217    Movie & TV Poster Designs T-Shirts, Hoodies & ...\n",
       "Name: title, dtype: object"
      ]
     },
     "execution_count": 81,
     "metadata": {},
     "output_type": "execute_result"
    }
   ],
   "source": [
    "test['title'][1:40]"
   ]
  },
  {
   "cell_type": "code",
   "execution_count": 80,
   "metadata": {},
   "outputs": [
    {
     "data": {
      "text/plain": [
       "array([0, 0, 0, 0, 0, 0, 0, 0, 0, 1, 0, 1, 1, 0, 0, 0, 0, 0, 0, 1, 0, 0, 1,\n",
       "       0, 0, 1, 0, 0, 1, 1, 0, 0, 0, 0, 1, 0, 0, 1, 1])"
      ]
     },
     "execution_count": 80,
     "metadata": {},
     "output_type": "execute_result"
    }
   ],
   "source": [
    "clf.predict(test_X[1:40])"
   ]
  },
  {
   "cell_type": "code",
   "execution_count": 229,
   "metadata": {},
   "outputs": [],
   "source": [
    "train_pred =  clf.predict(train_X)"
   ]
  },
  {
   "cell_type": "code",
   "execution_count": 230,
   "metadata": {},
   "outputs": [
    {
     "name": "stdout",
     "output_type": "stream",
     "text": [
      "Training Accuracy  1.0\n"
     ]
    }
   ],
   "source": [
    "print \"Training Accuracy \",accuracy_score(train_Y,train_pred)"
   ]
  },
  {
   "cell_type": "code",
   "execution_count": 227,
   "metadata": {},
   "outputs": [
    {
     "name": "stdout",
     "output_type": "stream",
     "text": [
      "Overall Accuracy  0.959183673469\n"
     ]
    }
   ],
   "source": [
    "p =  clf.predict(all_feat[v_t_features])\n",
    "a = [1 if i=='Yes' else 0 for i in all_feat['IsProd']]\n",
    "print \"Overall Accuracy \",accuracy_score(p,a)"
   ]
  },
  {
   "cell_type": "code",
   "execution_count": 234,
   "metadata": {},
   "outputs": [
    {
     "name": "stderr",
     "output_type": "stream",
     "text": [
      "C:\\Anaconda2\\lib\\site-packages\\ipykernel\\__main__.py:1: SettingWithCopyWarning: \n",
      "A value is trying to be set on a copy of a slice from a DataFrame.\n",
      "Try using .loc[row_indexer,col_indexer] = value instead\n",
      "\n",
      "See the caveats in the documentation: http://pandas.pydata.org/pandas-docs/stable/indexing.html#indexing-view-versus-copy\n",
      "  if __name__ == '__main__':\n"
     ]
    }
   ],
   "source": [
    "test['Predicted']=[ 'Yes' if i == 1 else 'No' for i in pred]"
   ]
  },
  {
   "cell_type": "code",
   "execution_count": 236,
   "metadata": {},
   "outputs": [
    {
     "name": "stderr",
     "output_type": "stream",
     "text": [
      "C:\\Anaconda2\\lib\\site-packages\\ipykernel\\__main__.py:1: SettingWithCopyWarning: \n",
      "A value is trying to be set on a copy of a slice from a DataFrame.\n",
      "Try using .loc[row_indexer,col_indexer] = value instead\n",
      "\n",
      "See the caveats in the documentation: http://pandas.pydata.org/pandas-docs/stable/indexing.html#indexing-view-versus-copy\n",
      "  if __name__ == '__main__':\n"
     ]
    }
   ],
   "source": [
    "test['actual'] = test['IsProd']"
   ]
  },
  {
   "cell_type": "code",
   "execution_count": 263,
   "metadata": {},
   "outputs": [
    {
     "name": "stderr",
     "output_type": "stream",
     "text": [
      "C:\\Anaconda2\\lib\\site-packages\\ipykernel\\__main__.py:1: SettingWithCopyWarning: \n",
      "A value is trying to be set on a copy of a slice from a DataFrame.\n",
      "Try using .loc[row_indexer,col_indexer] = value instead\n",
      "\n",
      "See the caveats in the documentation: http://pandas.pydata.org/pandas-docs/stable/indexing.html#indexing-view-versus-copy\n",
      "  if __name__ == '__main__':\n"
     ]
    }
   ],
   "source": [
    "test['pred_prob'] = clf.predict_proba(test_X)[:,1]\n",
    "test.to_csv(\"test_results.csv\")"
   ]
  },
  {
   "cell_type": "code",
   "execution_count": 238,
   "metadata": {},
   "outputs": [
    {
     "data": {
      "text/plain": [
       "'C:\\\\Users\\\\badeepak'"
      ]
     },
     "execution_count": 238,
     "metadata": {},
     "output_type": "execute_result"
    }
   ],
   "source": [
    "os.getcwd()"
   ]
  },
  {
   "cell_type": "code",
   "execution_count": 245,
   "metadata": {},
   "outputs": [
    {
     "data": {
      "text/plain": [
       "array([ 0.21909212,  0.00733607,  0.68894703,  0.35469175,  0.48606092,\n",
       "        0.00112555,  0.66702306,  0.42664264,  0.38542244,  0.52471466,\n",
       "        0.32494097,  0.49572501,  0.47090465,  0.7200922 ,  0.38288315,\n",
       "        0.34651592,  0.73467321,  0.50803912,  0.75859936,  0.52018944,\n",
       "        0.49876752,  0.55893732,  0.99743753,  0.34273487,  0.41859509,\n",
       "        0.24691105,  0.48255379,  0.61772333,  0.73274494,  0.82813703,\n",
       "        0.39351479,  0.88013035,  0.30879765,  0.76878154,  0.50408641,\n",
       "        0.22115607,  0.47290395,  0.62096483,  0.30710305,  0.47713565,\n",
       "        0.66334233,  0.57236015,  0.21357342,  0.00617114,  0.55716004,\n",
       "        0.64295633,  0.34394993,  0.30200586,  0.00106953,  0.61043831,\n",
       "        0.01378115,  0.50247524,  0.44086469,  0.32328282,  0.35540927,\n",
       "        0.47315427,  0.31802498,  0.96963397,  0.01147817,  0.57547241,\n",
       "        0.16789347,  0.18841895,  0.36775527,  0.6329424 ,  0.5661628 ,\n",
       "        0.63357993,  0.44112023,  0.5700543 ,  0.43596983,  0.31214599,\n",
       "        0.54932308,  0.21814672,  0.81333039,  0.20612961,  0.25263565,\n",
       "        0.47597251,  0.63038323,  0.25754056,  0.01936637,  0.00121352,\n",
       "        0.97803457,  0.2481069 ,  0.56396334,  0.21439109,  0.39776576,\n",
       "        0.48408067,  0.30051723,  0.78502116,  0.66709592,  0.3171777 ,\n",
       "        0.38953858,  0.41357657,  0.59336942,  0.10353499,  0.66950819,\n",
       "        0.26817018,  0.18502963,  0.66940911,  0.64910207,  0.01361742,\n",
       "        0.34789858,  0.0417728 ,  0.68151068,  0.70362275,  0.30784167,\n",
       "        0.37578242,  0.29151827,  0.46075391,  0.71035261,  0.67980196,\n",
       "        0.15346013,  0.72518014,  0.53766086,  0.45191105,  0.49406786,\n",
       "        0.5386914 ,  0.61978241,  0.06104591,  0.31648833,  0.25139329,\n",
       "        0.30557629,  0.48934749,  0.4756329 ,  0.73349733,  0.36795041,\n",
       "        0.0360929 ,  0.76249709,  0.38274935,  0.18269758,  0.95296076,\n",
       "        0.01277291,  0.66334233,  0.53982194,  0.05192806,  0.00711822,\n",
       "        0.38233505,  0.00873612,  0.33562629,  0.40938647,  0.38452858,\n",
       "        0.08106218,  0.38102145,  0.59540136,  0.96644838,  0.41031527,\n",
       "        0.23903597,  0.05158313,  0.00388664,  0.24602842,  0.00117982,\n",
       "        0.35872362,  0.71070764,  0.41239823,  0.65856162,  0.61145554,\n",
       "        0.48730272,  0.37331966,  0.10505131,  0.29823556,  0.35565736,\n",
       "        0.91366776,  0.47297466,  0.25745147,  0.55655494,  0.26853077,\n",
       "        0.58479709,  0.38851894,  0.43590706,  0.62647706,  0.2692581 ,\n",
       "        0.40989086,  0.47596824,  0.60744527,  0.26409105,  0.47435885,\n",
       "        0.50891161,  0.53567812])"
      ]
     },
     "execution_count": 245,
     "metadata": {},
     "output_type": "execute_result"
    }
   ],
   "source": [
    "clf.predict_proba(test_X)[:,1]"
   ]
  },
  {
   "cell_type": "code",
   "execution_count": 252,
   "metadata": {},
   "outputs": [
    {
     "data": {
      "text/plain": [
       "(array([ 0.        ,  0.        ,  0.01851852,  0.01851852,  0.02777778,\n",
       "         0.02777778,  0.03703704,  0.03703704,  0.03703704,  0.0462963 ,\n",
       "         0.0462963 ,  0.05555556,  0.05555556,  0.06481481,  0.06481481,\n",
       "         0.07407407,  0.07407407,  0.09259259,  0.09259259,  0.10185185,\n",
       "         0.10185185,  0.11111111,  0.11111111,  0.12962963,  0.12962963,\n",
       "         0.13888889,  0.13888889,  0.14814815,  0.14814815,  0.18518519,\n",
       "         0.18518519,  0.19444444,  0.19444444,  0.21296296,  0.21296296,\n",
       "         0.23148148,  0.23148148,  0.26851852,  0.26851852,  0.30555556,\n",
       "         0.30555556,  0.33333333,  0.33333333,  0.34259259,  0.34259259,\n",
       "         0.40740741,  0.40740741,  0.44444444,  0.44444444,  0.5       ,\n",
       "         0.5       ,  0.5462963 ,  0.5462963 ,  0.56481481,  0.56481481,\n",
       "         0.64814815,  0.64814815,  1.        ]),\n",
       " array([ 0.01449275,  0.07246377,  0.07246377,  0.24637681,  0.24637681,\n",
       "         0.30434783,  0.30434783,  0.34782609,  0.37681159,  0.37681159,\n",
       "         0.42028986,  0.42028986,  0.43478261,  0.43478261,  0.56521739,\n",
       "         0.56521739,  0.5942029 ,  0.5942029 ,  0.60869565,  0.60869565,\n",
       "         0.62318841,  0.62318841,  0.63768116,  0.63768116,  0.68115942,\n",
       "         0.68115942,  0.71014493,  0.71014493,  0.72463768,  0.72463768,\n",
       "         0.75362319,  0.75362319,  0.76811594,  0.76811594,  0.79710145,\n",
       "         0.79710145,  0.82608696,  0.82608696,  0.84057971,  0.84057971,\n",
       "         0.85507246,  0.85507246,  0.86956522,  0.86956522,  0.91304348,\n",
       "         0.91304348,  0.92753623,  0.92753623,  0.94202899,  0.94202899,\n",
       "         0.95652174,  0.95652174,  0.97101449,  0.97101449,  0.98550725,\n",
       "         0.98550725,  1.        ,  1.        ]),\n",
       " array([ 0.99743753,  0.95296076,  0.88013035,  0.71070764,  0.71035261,\n",
       "         0.67980196,  0.66950819,  0.66702306,  0.66334233,  0.65856162,\n",
       "         0.63357993,  0.6329424 ,  0.63038323,  0.62647706,  0.58479709,\n",
       "         0.57547241,  0.5700543 ,  0.56396334,  0.55893732,  0.55716004,\n",
       "         0.55655494,  0.54932308,  0.53982194,  0.53766086,  0.52018944,\n",
       "         0.50891161,  0.50408641,  0.50247524,  0.49876752,  0.48730272,\n",
       "         0.48408067,  0.48255379,  0.47713565,  0.47596824,  0.47435885,\n",
       "         0.47297466,  0.47090465,  0.44086469,  0.43596983,  0.41357657,\n",
       "         0.41239823,  0.40938647,  0.39776576,  0.39351479,  0.38542244,\n",
       "         0.37331966,  0.36795041,  0.35540927,  0.35469175,  0.32494097,\n",
       "         0.32328282,  0.30879765,  0.30784167,  0.30557629,  0.30200586,\n",
       "         0.25745147,  0.25263565,  0.00106953]))"
      ]
     },
     "execution_count": 252,
     "metadata": {},
     "output_type": "execute_result"
    }
   ],
   "source": [
    "sklearn.metrics.roc_curve(test_Y, clf.predict_proba(test_X)[:,1], pos_label=1, sample_weight=None, drop_intermediate=True)"
   ]
  },
  {
   "cell_type": "code",
   "execution_count": 256,
   "metadata": {},
   "outputs": [
    {
     "name": "stdout",
     "output_type": "stream",
     "text": [
      "             precision    recall  f1-score   support\n",
      "\n",
      "         No       0.82      0.85      0.84       108\n",
      "        Yes       0.75      0.71      0.73        69\n",
      "\n",
      "avg / total       0.80      0.80      0.80       177\n",
      "\n"
     ]
    }
   ],
   "source": [
    "from sklearn.metrics import classification_report\n",
    "target_names = ['No', 'Yes']\n",
    "print(classification_report(test_Y,pred, target_names=target_names))"
   ]
  },
  {
   "cell_type": "code",
   "execution_count": 273,
   "metadata": {},
   "outputs": [],
   "source": [
    "x_val = np.arange(0,1,0.01)\n",
    "y_val = []\n",
    "y_val_prec_yes =[]\n",
    "y_val_rec_yes = []\n",
    "for i in np.arange(0,1,0.01):\n",
    "    p = clf.predict_proba(test_X)[:,1]\n",
    "    predicted = [1 if j > i else 0 for j in p ]\n",
    "    y_val.append(accuracy_score(predicted,test_Y))\n",
    "    y_val_prec_yes.append(sklearn.metrics.precision_score(test_Y,predicted,pos_label=1))\n",
    "    y_val_rec_yes.append(sklearn.metrics.recall_score(test_Y,predicted,pos_label=1))"
   ]
  },
  {
   "cell_type": "code",
   "execution_count": 280,
   "metadata": {},
   "outputs": [
    {
     "data": {
      "image/png": "[encoded data removed]",
      "text/plain": [
       "<matplotlib.figure.Figure at 0x3f1cd240>"
      ]
     },
     "metadata": {},
     "output_type": "display_data"
    }
   ],
   "source": [
    "plt.plot(x_val,y_val_prec_yes,label='Prec')\n",
    "plt.plot(x_val,y_val,label='Acc')\n",
    "plt.plot(x_val,y_val_rec_yes,label='recall')\n",
    "plt.grid(True)"
   ]
  },
  {
   "cell_type": "code",
   "execution_count": 292,
   "metadata": {},
   "outputs": [
    {
     "data": {
      "text/plain": [
       "[0.77966101694915257,\n",
       " 0.78531073446327682,\n",
       " 0.79096045197740117,\n",
       " 0.78531073446327682,\n",
       " 0.79096045197740117,\n",
       " 0.79661016949152541,\n",
       " 0.79661016949152541,\n",
       " 0.79661016949152541,\n",
       " 0.78531073446327682,\n",
       " 0.78531073446327682,\n",
       " 0.79096045197740117,\n",
       " 0.78531073446327682,\n",
       " 0.79661016949152541,\n",
       " 0.79096045197740117,\n",
       " 0.78531073446327682]"
      ]
     },
     "execution_count": 292,
     "metadata": {},
     "output_type": "execute_result"
    }
   ],
   "source": [
    "y_val[45:60]"
   ]
  },
  {
   "cell_type": "markdown",
   "metadata": {
    "collapsed": true
   },
   "source": [
    "<h1> New Start </h1>"
   ]
  },
  {
   "cell_type": "code",
   "execution_count": 14,
   "metadata": {
    "collapsed": true
   },
   "outputs": [],
   "source": [
    "dt_n = dt[(pd.isnull(dt.IsProd) == False) & (pd.isnull(dt.title) == False) & ( dt.top_GL != 'null')]"
   ]
  },
  {
   "cell_type": "code",
   "execution_count": 15,
   "metadata": {},
   "outputs": [
    {
     "data": {
      "text/plain": [
       "Index([u'documentId', u'title', u'p_cnt', u'az_link_cnt', u'other_link_cnt',\n",
       "       u'comments_cnt', u'h1_cnt', u'h2_cnt', u'h3_cnt', u'h4_cnt', u'h5_cnt',\n",
       "       u'h6_cnt', u'word_count_paragraphs', u'avg_word_count_paragraph',\n",
       "       u'max_depth_dom', u'has_comments', u'protocol', u'sitename',\n",
       "       u'top_levl_domain', u'domain', u'subdomain', u'ishomepage',\n",
       "       u'no_url_params', u'no_url_levels', u'url_length',\n",
       "       u'unique_candidate_keywords', u'kw_cnt_paragraphs', u'kw_cnt_title',\n",
       "       u'kw_cnt_links', u'kw_cnt_az_links', u'kw_cnt_h1', u'kw_cnt_h2',\n",
       "       u'kw_cnt_h3', u'kw_cnt_h4', u'kw_cnt_h5', u'kw_cnt_h6', u'max_kw_freq',\n",
       "       u'mean_ngram_len', u'top_keyword', u'top_ASIN', u'top_GL',\n",
       "       u'unique_keywords_cnt', u'asin_cnt', u'gl_cnt', u'top_3_keyword',\n",
       "       u'top_3_asin', u'top_3_gl', u'top_3_keyword_score', u'top_3_asin_score',\n",
       "       u'top_3_gl_score', u'is_topk_in_title', u'unique_keywords',\n",
       "       u'top_kw_termfreq', u'top_kw_minlinenum', u'aksis_match_rate',\n",
       "       u'IsProd', u'mentionProducts', u'Lang', u'NoContent', u'Comment',\n",
       "       u'Reviewer', u'max_kscore', u'range_top3_kscore', u'isHttp', u'best',\n",
       "       u'top', u'review'],\n",
       "      dtype='object')"
      ]
     },
     "execution_count": 15,
     "metadata": {},
     "output_type": "execute_result"
    }
   ],
   "source": [
    "dt_n.columns"
   ]
  },
  {
   "cell_type": "code",
   "execution_count": 47,
   "metadata": {
    "collapsed": true
   },
   "outputs": [],
   "source": [
    "vector_features = colname\n",
    "traditional_features = ['p_cnt', 'az_link_cnt', 'other_link_cnt',\n",
    "       'comments_cnt', 'h1_cnt', 'h2_cnt', 'h3_cnt', 'h4_cnt', 'h5_cnt',\n",
    "       'h6_cnt', 'word_count_paragraphs', 'avg_word_count_paragraph',\n",
    "       'max_depth_dom', 'has_comments','ishomepage',\n",
    "       'no_url_params', 'no_url_levels', 'url_length',\n",
    "       'unique_candidate_keywords', 'kw_cnt_paragraphs', 'kw_cnt_title',\n",
    "       'kw_cnt_links', 'kw_cnt_az_links', 'kw_cnt_h1', 'kw_cnt_h2',\n",
    "       'kw_cnt_h3', 'kw_cnt_h4', 'kw_cnt_h5', 'kw_cnt_h6', 'max_kw_freq',\n",
    "       'mean_ngram_len', 'unique_keywords_cnt', 'asin_cnt', 'gl_cnt',  'is_topk_in_title', 'unique_keywords',\n",
    "       'top_kw_termfreq', 'top_kw_minlinenum', 'aksis_match_rate',\n",
    "       'max_kscore', 'range_top3_kscore', 'isHttp', 'best',\n",
    "       'top', 'review']"
   ]
  },
  {
   "cell_type": "code",
   "execution_count": 31,
   "metadata": {
    "collapsed": true
   },
   "outputs": [],
   "source": [
    "v_t_features = traditional_features\n",
    "for i in vector_features:\n",
    "    v_t_features.append(i)"
   ]
  },
  {
   "cell_type": "code",
   "execution_count": 54,
   "metadata": {
    "collapsed": true
   },
   "outputs": [],
   "source": [
    "all_feat = dt_v1 = dt_v[(pd.isnull(dt_v.IsProd) == False) & (pd.isnull(dt_v.title) == False) & ( dt_v.top_GL != 'null') & (dt_v['v0'] != 0.0) & (dt_v['v1'] != 0.0) & (dt_v['v2'] != 0.0)]"
   ]
  },
  {
   "cell_type": "code",
   "execution_count": 55,
   "metadata": {},
   "outputs": [
    {
     "data": {
      "text/plain": [
       "Index([u'documentId', u'title', u'p_cnt', u'az_link_cnt', u'other_link_cnt',\n",
       "       u'comments_cnt', u'h1_cnt', u'h2_cnt', u'h3_cnt', u'h4_cnt',\n",
       "       ...\n",
       "       u'v291', u'v292', u'v293', u'v294', u'v295', u'v296', u'v297', u'v298',\n",
       "       u'v299', u'w2v_vocab_match'],\n",
       "      dtype='object', length=368)"
      ]
     },
     "execution_count": 55,
     "metadata": {},
     "output_type": "execute_result"
    }
   ],
   "source": [
    "all_feat.columns"
   ]
  },
  {
   "cell_type": "code",
   "execution_count": 90,
   "metadata": {
    "collapsed": true
   },
   "outputs": [],
   "source": [
    "import cPickle as pickle\n",
    "with open(\"all_training_objects\", 'wb') as fp:\n",
    "  pickle.dump([dt_kw_v1,dt_v1,dt,vector_features,traditional_features,v_t_features,all_feat], fp)\n",
    "fp.close()"
   ]
  },
  {
   "cell_type": "code",
   "execution_count": 41,
   "metadata": {},
   "outputs": [
    {
     "data": {
      "text/plain": [
       "'C:\\\\Users\\\\badeepak'"
      ]
     },
     "execution_count": 41,
     "metadata": {},
     "output_type": "execute_result"
    }
   ],
   "source": [
    "os.getcwd()"
   ]
  },
  {
   "cell_type": "code",
   "execution_count": 44,
   "metadata": {},
   "outputs": [
    {
     "data": {
      "text/plain": [
       "875"
      ]
     },
     "execution_count": 44,
     "metadata": {},
     "output_type": "execute_result"
    }
   ],
   "source": [
    "len(all_feat)"
   ]
  },
  {
   "cell_type": "code",
   "execution_count": 45,
   "metadata": {
    "collapsed": true
   },
   "outputs": [],
   "source": [
    "all_feat = dt_v1 = dt_v[(pd.isnull(dt_v.IsProd) == False) & (pd.isnull(dt_v.title) == False) & ( dt_v.top_GL != 'null') & (dt_v['v0'] != 0.0) & (dt_v['v1'] != 0.0) & (dt_v['v2'] != 0.0)]"
   ]
  },
  {
   "cell_type": "code",
   "execution_count": 57,
   "metadata": {},
   "outputs": [
    {
     "data": {
      "text/plain": [
       "875"
      ]
     },
     "execution_count": 57,
     "metadata": {},
     "output_type": "execute_result"
    }
   ],
   "source": [
    "len(dt_v1)"
   ]
  },
  {
   "cell_type": "code",
   "execution_count": 58,
   "metadata": {},
   "outputs": [
    {
     "data": {
      "text/plain": [
       "906"
      ]
     },
     "execution_count": 58,
     "metadata": {},
     "output_type": "execute_result"
    }
   ],
   "source": [
    "len(dt_n)"
   ]
  },
  {
   "cell_type": "code",
   "execution_count": 73,
   "metadata": {},
   "outputs": [
    {
     "data": {
      "text/html": [
       "<div>\n",
       "<table border=\"1\" class=\"dataframe\">\n",
       "  <thead>\n",
       "    <tr style=\"text-align: right;\">\n",
       "      <th></th>\n",
       "      <th>title</th>\n",
       "      <th>w2v_vocab_match</th>\n",
       "    </tr>\n",
       "  </thead>\n",
       "  <tbody>\n",
       "    <tr>\n",
       "      <th>0</th>\n",
       "      <td>T.Face – FM Transmitter.ca</td>\n",
       "      <td>['face', 'fm', 'transmitter', 'ca']</td>\n",
       "    </tr>\n",
       "    <tr>\n",
       "      <th>1</th>\n",
       "      <td>Top 5 Best beer bottle cooler for sale 2016 : ...</td>\n",
       "      <td>['top', 'best', 'beer', 'bottle', 'cooler', 's...</td>\n",
       "    </tr>\n",
       "    <tr>\n",
       "      <th>2</th>\n",
       "      <td>I side 64% with Donald Trump</td>\n",
       "      <td>['side', 'donald', 'trump']</td>\n",
       "    </tr>\n",
       "    <tr>\n",
       "      <th>3</th>\n",
       "      <td>How to Spot Fake Ray-Bans | I Love Ray-Bans</td>\n",
       "      <td>['spot', 'fake', 'ray', 'ban', 'love', 'ray', ...</td>\n",
       "    </tr>\n",
       "    <tr>\n",
       "      <th>4</th>\n",
       "      <td>Beth's Beauties: Trendy Twine ~ Happy Birthday...</td>\n",
       "      <td>['beth', 'beauty', 'trendy', 'twine', 'happy',...</td>\n",
       "    </tr>\n",
       "    <tr>\n",
       "      <th>5</th>\n",
       "      <td>Review: Unigine's Valley benchmark gives you r...</td>\n",
       "      <td>['review', 'valley', 'benchmark', 'give', 'roo...</td>\n",
       "    </tr>\n",
       "    <tr>\n",
       "      <th>6</th>\n",
       "      <td>G925FXXU5DPL4 - Galaxy S6 edge SM-G925F DTM Ge...</td>\n",
       "      <td>['g', 'galaxy', 'edge', 'sm', 'g', 'f', 'germa...</td>\n",
       "    </tr>\n",
       "    <tr>\n",
       "      <th>7</th>\n",
       "      <td>Vinod Kumar Panikkath @panikkath Instagram pro...</td>\n",
       "      <td>['vinod', 'kumar', 'profile']</td>\n",
       "    </tr>\n",
       "    <tr>\n",
       "      <th>8</th>\n",
       "      <td>Lebron James Chosen To Be Featured On NBA 2K14...</td>\n",
       "      <td>['lebron', 'james', 'chosen', 'featured', 'nba...</td>\n",
       "    </tr>\n",
       "    <tr>\n",
       "      <th>9</th>\n",
       "      <td>Elise Mostafa: Background Data, Facts, Social ...</td>\n",
       "      <td>['background', 'data', 'fact', 'social', 'medi...</td>\n",
       "    </tr>\n",
       "    <tr>\n",
       "      <th>10</th>\n",
       "      <td>The World's Best Photos of casaco - Flickr Hiv...</td>\n",
       "      <td>['world', 'best', 'photo', 'flickr', 'hive', '...</td>\n",
       "    </tr>\n",
       "    <tr>\n",
       "      <th>11</th>\n",
       "      <td>Ereader Sony – DailyDeals.io</td>\n",
       "      <td>['ereader', 'sony', 'io']</td>\n",
       "    </tr>\n",
       "    <tr>\n",
       "      <th>12</th>\n",
       "      <td>BMW E30 with a Twin-turbo M60 – Engine Swap Depot</td>\n",
       "      <td>['bmw', 'e', 'twin', 'turbo', 'engine', 'swap'...</td>\n",
       "    </tr>\n",
       "    <tr>\n",
       "      <th>13</th>\n",
       "      <td>Openwheeler Racing Wheel Stand Cockpit Orange ...</td>\n",
       "      <td>['racing', 'wheel', 'stand', 'cockpit', 'orang...</td>\n",
       "    </tr>\n",
       "    <tr>\n",
       "      <th>14</th>\n",
       "      <td>Search Results | His Kingdom Prophecy</td>\n",
       "      <td>['search', 'result', 'kingdom', 'prophecy']</td>\n",
       "    </tr>\n",
       "    <tr>\n",
       "      <th>15</th>\n",
       "      <td>Canon ELPH 360 HS vs Nikon S7000 Detailed Comp...</td>\n",
       "      <td>['canon', 'h', 'v', 'nikon', 'detailed', 'comp...</td>\n",
       "    </tr>\n",
       "    <tr>\n",
       "      <th>16</th>\n",
       "      <td>How to get a new Finder window the size you wa...</td>\n",
       "      <td>['get', 'new', 'finder', 'window', 'size', 'wa...</td>\n",
       "    </tr>\n",
       "    <tr>\n",
       "      <th>17</th>\n",
       "      <td>White-tailed Deer Pencil Drawing - How to Sket...</td>\n",
       "      <td>['white', 'tailed', 'deer', 'pencil', 'drawing...</td>\n",
       "    </tr>\n",
       "    <tr>\n",
       "      <th>18</th>\n",
       "      <td>Poznan, Poland - Stare Zoo &amp; Palm House – Bicy...</td>\n",
       "      <td>['poland', 'stare', 'zoo', 'palm', 'house', 'b...</td>\n",
       "    </tr>\n",
       "    <tr>\n",
       "      <th>19</th>\n",
       "      <td>Acer Liquid Leap vs. Garmin Fenix 3 vs. Garmin...</td>\n",
       "      <td>['acer', 'liquid', 'leap', 'v', 'garmin', 'v',...</td>\n",
       "    </tr>\n",
       "    <tr>\n",
       "      <th>20</th>\n",
       "      <td>Twitter</td>\n",
       "      <td>['twitter']</td>\n",
       "    </tr>\n",
       "    <tr>\n",
       "      <th>21</th>\n",
       "      <td>40 Mm Torx - Find Best Price</td>\n",
       "      <td>['mm', 'find', 'best', 'price']</td>\n",
       "    </tr>\n",
       "    <tr>\n",
       "      <th>22</th>\n",
       "      <td>The World's Best Photos of spielpark - Flickr ...</td>\n",
       "      <td>['world', 'best', 'photo', 'flickr', 'hive', '...</td>\n",
       "    </tr>\n",
       "    <tr>\n",
       "      <th>23</th>\n",
       "      <td>Top 5 Best Selling ed grimley with Best Rating...</td>\n",
       "      <td>['top', 'best', 'selling', 'ed', 'best', 'rati...</td>\n",
       "    </tr>\n",
       "    <tr>\n",
       "      <th>24</th>\n",
       "      <td>DIY eGPU experiences | Page 903 | NotebookReview</td>\n",
       "      <td>['diy', 'experience', 'page']</td>\n",
       "    </tr>\n",
       "    <tr>\n",
       "      <th>25</th>\n",
       "      <td>Pažintys Patarimai Shy, Nepatogi Asmuo</td>\n",
       "      <td>['pa', 'shy']</td>\n",
       "    </tr>\n",
       "    <tr>\n",
       "      <th>26</th>\n",
       "      <td>The World's Best Photos of light - Flickr Hive...</td>\n",
       "      <td>['world', 'best', 'photo', 'light', 'flickr', ...</td>\n",
       "    </tr>\n",
       "    <tr>\n",
       "      <th>27</th>\n",
       "      <td>The World's Best Photos of live - Flickr Hive ...</td>\n",
       "      <td>['world', 'best', 'photo', 'live', 'flickr', '...</td>\n",
       "    </tr>\n",
       "    <tr>\n",
       "      <th>28</th>\n",
       "      <td>Polish Kolaczki Cookies made with Cream Cheese</td>\n",
       "      <td>['polish', 'cooky', 'made', 'cream', 'cheese']</td>\n",
       "    </tr>\n",
       "    <tr>\n",
       "      <th>29</th>\n",
       "      <td>Turn On Priority Mode And Specify Your Interru...</td>\n",
       "      <td>['turn', 'priority', 'mode', 'specify', 'inter...</td>\n",
       "    </tr>\n",
       "    <tr>\n",
       "      <th>...</th>\n",
       "      <td>...</td>\n",
       "      <td>...</td>\n",
       "    </tr>\n",
       "    <tr>\n",
       "      <th>918</th>\n",
       "      <td>I9100XXLPB_I9100OXXLP5_OXX (Android 4.0.3) - P...</td>\n",
       "      <td>['android', 'page']</td>\n",
       "    </tr>\n",
       "    <tr>\n",
       "      <th>919</th>\n",
       "      <td>null</td>\n",
       "      <td>['null']</td>\n",
       "    </tr>\n",
       "    <tr>\n",
       "      <th>920</th>\n",
       "      <td>15 Tips for Accompanying a Singer on Piano Key...</td>\n",
       "      <td>['tip', 'accompanying', 'singer', 'piano', 'ke...</td>\n",
       "    </tr>\n",
       "    <tr>\n",
       "      <th>921</th>\n",
       "      <td>Best iPhone 7 Plus Clear Cases to Poise Safety...</td>\n",
       "      <td>['best', 'iphone', 'plus', 'clear', 'case', 'p...</td>\n",
       "    </tr>\n",
       "    <tr>\n",
       "      <th>922</th>\n",
       "      <td>Jones Beach State Park: Deals, Discounts, Coupons</td>\n",
       "      <td>['jones', 'beach', 'state', 'park', 'deal', 'd...</td>\n",
       "    </tr>\n",
       "    <tr>\n",
       "      <th>923</th>\n",
       "      <td>Clean Up Your Disk, Speed Up Your System - Gra...</td>\n",
       "      <td>['clean', 'disk', 'speed', 'system', 'graphic'...</td>\n",
       "    </tr>\n",
       "    <tr>\n",
       "      <th>924</th>\n",
       "      <td>Is Brandi Glanville Lesbian Or Straight? - Rum...</td>\n",
       "      <td>['lesbian', 'straight', 'anti', 'tabloid']</td>\n",
       "    </tr>\n",
       "    <tr>\n",
       "      <th>925</th>\n",
       "      <td>Lara Gove: Background Data, Facts, Social Medi...</td>\n",
       "      <td>['lara', 'gove', 'background', 'data', 'fact',...</td>\n",
       "    </tr>\n",
       "    <tr>\n",
       "      <th>926</th>\n",
       "      <td>The morning, it was like slow motion, and ever...</td>\n",
       "      <td>['morning', 'like', 'slow', 'motion', 'everyth...</td>\n",
       "    </tr>\n",
       "    <tr>\n",
       "      <th>927</th>\n",
       "      <td>The World's Best Photos of b2 - Flickr Hive Mind</td>\n",
       "      <td>['world', 'best', 'photo', 'b', 'flickr', 'hiv...</td>\n",
       "    </tr>\n",
       "    <tr>\n",
       "      <th>928</th>\n",
       "      <td>senfia.com whois lookup - who.is</td>\n",
       "      <td>['com', 'whois', 'lookup']</td>\n",
       "    </tr>\n",
       "    <tr>\n",
       "      <th>929</th>\n",
       "      <td>Meat-Stuffed Flatbreads (Et Gutabi) | AZ Cookbook</td>\n",
       "      <td>['meat', 'stuffed', 'flatbread', 'et', 'az', '...</td>\n",
       "    </tr>\n",
       "    <tr>\n",
       "      <th>930</th>\n",
       "      <td>Releases logo</td>\n",
       "      <td>['release', 'logo']</td>\n",
       "    </tr>\n",
       "    <tr>\n",
       "      <th>931</th>\n",
       "      <td>Why Some Beauty Products Are A Waste Of Money ...</td>\n",
       "      <td>['beauty', 'product', 'waste', 'money', 'fab',...</td>\n",
       "    </tr>\n",
       "    <tr>\n",
       "      <th>932</th>\n",
       "      <td>分割字图片-张，我姓张却长不出你爱的模样文字图片_喵喔网</td>\n",
       "      <td>[]</td>\n",
       "    </tr>\n",
       "    <tr>\n",
       "      <th>933</th>\n",
       "      <td>Grammy-nominated 2011 Lady Gaga album - new yo...</td>\n",
       "      <td>['grammy', 'nominated', 'lady', 'gaga', 'album...</td>\n",
       "    </tr>\n",
       "    <tr>\n",
       "      <th>934</th>\n",
       "      <td>HTPC case for ATX motherboard? - [Solved] - Sy...</td>\n",
       "      <td>['case', 'motherboard', 'solved', 'system']</td>\n",
       "    </tr>\n",
       "    <tr>\n",
       "      <th>935</th>\n",
       "      <td>The World's Best Photos of adenovirus and viru...</td>\n",
       "      <td>['world', 'best', 'photo', 'adenovirus', 'viru...</td>\n",
       "    </tr>\n",
       "    <tr>\n",
       "      <th>936</th>\n",
       "      <td>Pehea ki te kukume i te wahine o tou Dreams</td>\n",
       "      <td>['ki', 'te', 'te', 'wahine', 'tou', 'dream']</td>\n",
       "    </tr>\n",
       "    <tr>\n",
       "      <th>937</th>\n",
       "      <td>Palabra Francés del Día</td>\n",
       "      <td>['palabra', 'franc', 'del']</td>\n",
       "    </tr>\n",
       "    <tr>\n",
       "      <th>938</th>\n",
       "      <td>The World's Best Photos of braless and outdoor...</td>\n",
       "      <td>['world', 'best', 'photo', 'braless', 'outdoor...</td>\n",
       "    </tr>\n",
       "    <tr>\n",
       "      <th>939</th>\n",
       "      <td>The Sleeping Prophet: Edgar Cayce | Historic M...</td>\n",
       "      <td>['sleeping', 'prophet', 'edgar', 'historic', '...</td>\n",
       "    </tr>\n",
       "    <tr>\n",
       "      <th>940</th>\n",
       "      <td>Bed and Board [UK] Blu-ray Review</td>\n",
       "      <td>['bed', 'board', 'uk', 'blu', 'ray', 'review']</td>\n",
       "    </tr>\n",
       "    <tr>\n",
       "      <th>941</th>\n",
       "      <td>Spinners for</td>\n",
       "      <td>['spinner']</td>\n",
       "    </tr>\n",
       "    <tr>\n",
       "      <th>942</th>\n",
       "      <td>லண்டனில் 24 மாடி கட்டிடத்தில் பயங்கர தீ விபத்த...</td>\n",
       "      <td>['three', 'indian', 'ambassador', 'nominated',...</td>\n",
       "    </tr>\n",
       "    <tr>\n",
       "      <th>943</th>\n",
       "      <td>The World's Best Photos of sharpie - Flickr Hi...</td>\n",
       "      <td>['world', 'best', 'photo', 'sharpie', 'flickr'...</td>\n",
       "    </tr>\n",
       "    <tr>\n",
       "      <th>944</th>\n",
       "      <td>YouTube</td>\n",
       "      <td>['youtube']</td>\n",
       "    </tr>\n",
       "    <tr>\n",
       "      <th>945</th>\n",
       "      <td>��Խ����ֽ��DIY��Ƥ���Լ����֣�������ʳ����һĶ���ֵ���...</td>\n",
       "      <td>['diy', 'powered']</td>\n",
       "    </tr>\n",
       "    <tr>\n",
       "      <th>946</th>\n",
       "      <td>How to turn on (or off) SMS and MMS message pr...</td>\n",
       "      <td>['turn', 'sm', 'mm', 'message', 'preview', 'ga...</td>\n",
       "    </tr>\n",
       "    <tr>\n",
       "      <th>947</th>\n",
       "      <td>Shane Dawson FAQs 2017- Facts, Rumors and the ...</td>\n",
       "      <td>['shane', 'dawson', 'faq', 'fact', 'rumor', 'l...</td>\n",
       "    </tr>\n",
       "  </tbody>\n",
       "</table>\n",
       "<p>947 rows × 2 columns</p>\n",
       "</div>"
      ],
      "text/plain": [
       "                                                 title  \\\n",
       "0                           T.Face – FM Transmitter.ca   \n",
       "1    Top 5 Best beer bottle cooler for sale 2016 : ...   \n",
       "2                         I side 64% with Donald Trump   \n",
       "3          How to Spot Fake Ray-Bans | I Love Ray-Bans   \n",
       "4    Beth's Beauties: Trendy Twine ~ Happy Birthday...   \n",
       "5    Review: Unigine's Valley benchmark gives you r...   \n",
       "6    G925FXXU5DPL4 - Galaxy S6 edge SM-G925F DTM Ge...   \n",
       "7    Vinod Kumar Panikkath @panikkath Instagram pro...   \n",
       "8    Lebron James Chosen To Be Featured On NBA 2K14...   \n",
       "9    Elise Mostafa: Background Data, Facts, Social ...   \n",
       "10   The World's Best Photos of casaco - Flickr Hiv...   \n",
       "11                        Ereader Sony – DailyDeals.io   \n",
       "12   BMW E30 with a Twin-turbo M60 – Engine Swap Depot   \n",
       "13   Openwheeler Racing Wheel Stand Cockpit Orange ...   \n",
       "14               Search Results | His Kingdom Prophecy   \n",
       "15   Canon ELPH 360 HS vs Nikon S7000 Detailed Comp...   \n",
       "16   How to get a new Finder window the size you wa...   \n",
       "17   White-tailed Deer Pencil Drawing - How to Sket...   \n",
       "18   Poznan, Poland - Stare Zoo & Palm House – Bicy...   \n",
       "19   Acer Liquid Leap vs. Garmin Fenix 3 vs. Garmin...   \n",
       "20                                             Twitter   \n",
       "21                        40 Mm Torx - Find Best Price   \n",
       "22   The World's Best Photos of spielpark - Flickr ...   \n",
       "23   Top 5 Best Selling ed grimley with Best Rating...   \n",
       "24    DIY eGPU experiences | Page 903 | NotebookReview   \n",
       "25              Pažintys Patarimai Shy, Nepatogi Asmuo   \n",
       "26   The World's Best Photos of light - Flickr Hive...   \n",
       "27   The World's Best Photos of live - Flickr Hive ...   \n",
       "28      Polish Kolaczki Cookies made with Cream Cheese   \n",
       "29   Turn On Priority Mode And Specify Your Interru...   \n",
       "..                                                 ...   \n",
       "918  I9100XXLPB_I9100OXXLP5_OXX (Android 4.0.3) - P...   \n",
       "919                                               null   \n",
       "920  15 Tips for Accompanying a Singer on Piano Key...   \n",
       "921  Best iPhone 7 Plus Clear Cases to Poise Safety...   \n",
       "922  Jones Beach State Park: Deals, Discounts, Coupons   \n",
       "923  Clean Up Your Disk, Speed Up Your System - Gra...   \n",
       "924  Is Brandi Glanville Lesbian Or Straight? - Rum...   \n",
       "925  Lara Gove: Background Data, Facts, Social Medi...   \n",
       "926  The morning, it was like slow motion, and ever...   \n",
       "927   The World's Best Photos of b2 - Flickr Hive Mind   \n",
       "928                   senfia.com whois lookup - who.is   \n",
       "929  Meat-Stuffed Flatbreads (Et Gutabi) | AZ Cookbook   \n",
       "930                                      Releases logo   \n",
       "931  Why Some Beauty Products Are A Waste Of Money ...   \n",
       "932                       分割字图片-张，我姓张却长不出你爱的模样文字图片_喵喔网   \n",
       "933  Grammy-nominated 2011 Lady Gaga album - new yo...   \n",
       "934  HTPC case for ATX motherboard? - [Solved] - Sy...   \n",
       "935  The World's Best Photos of adenovirus and viru...   \n",
       "936        Pehea ki te kukume i te wahine o tou Dreams   \n",
       "937                            Palabra Francés del Día   \n",
       "938  The World's Best Photos of braless and outdoor...   \n",
       "939  The Sleeping Prophet: Edgar Cayce | Historic M...   \n",
       "940                  Bed and Board [UK] Blu-ray Review   \n",
       "941                                       Spinners for   \n",
       "942  லண்டனில் 24 மாடி கட்டிடத்தில் பயங்கர தீ விபத்த...   \n",
       "943  The World's Best Photos of sharpie - Flickr Hi...   \n",
       "944                                            YouTube   \n",
       "945  ��Խ����ֽ��DIY��Ƥ���Լ����֣�������ʳ����һĶ���ֵ���...   \n",
       "946  How to turn on (or off) SMS and MMS message pr...   \n",
       "947  Shane Dawson FAQs 2017- Facts, Rumors and the ...   \n",
       "\n",
       "                                       w2v_vocab_match  \n",
       "0                  ['face', 'fm', 'transmitter', 'ca']  \n",
       "1    ['top', 'best', 'beer', 'bottle', 'cooler', 's...  \n",
       "2                          ['side', 'donald', 'trump']  \n",
       "3    ['spot', 'fake', 'ray', 'ban', 'love', 'ray', ...  \n",
       "4    ['beth', 'beauty', 'trendy', 'twine', 'happy',...  \n",
       "5    ['review', 'valley', 'benchmark', 'give', 'roo...  \n",
       "6    ['g', 'galaxy', 'edge', 'sm', 'g', 'f', 'germa...  \n",
       "7                        ['vinod', 'kumar', 'profile']  \n",
       "8    ['lebron', 'james', 'chosen', 'featured', 'nba...  \n",
       "9    ['background', 'data', 'fact', 'social', 'medi...  \n",
       "10   ['world', 'best', 'photo', 'flickr', 'hive', '...  \n",
       "11                           ['ereader', 'sony', 'io']  \n",
       "12   ['bmw', 'e', 'twin', 'turbo', 'engine', 'swap'...  \n",
       "13   ['racing', 'wheel', 'stand', 'cockpit', 'orang...  \n",
       "14         ['search', 'result', 'kingdom', 'prophecy']  \n",
       "15   ['canon', 'h', 'v', 'nikon', 'detailed', 'comp...  \n",
       "16   ['get', 'new', 'finder', 'window', 'size', 'wa...  \n",
       "17   ['white', 'tailed', 'deer', 'pencil', 'drawing...  \n",
       "18   ['poland', 'stare', 'zoo', 'palm', 'house', 'b...  \n",
       "19   ['acer', 'liquid', 'leap', 'v', 'garmin', 'v',...  \n",
       "20                                         ['twitter']  \n",
       "21                     ['mm', 'find', 'best', 'price']  \n",
       "22   ['world', 'best', 'photo', 'flickr', 'hive', '...  \n",
       "23   ['top', 'best', 'selling', 'ed', 'best', 'rati...  \n",
       "24                       ['diy', 'experience', 'page']  \n",
       "25                                       ['pa', 'shy']  \n",
       "26   ['world', 'best', 'photo', 'light', 'flickr', ...  \n",
       "27   ['world', 'best', 'photo', 'live', 'flickr', '...  \n",
       "28      ['polish', 'cooky', 'made', 'cream', 'cheese']  \n",
       "29   ['turn', 'priority', 'mode', 'specify', 'inter...  \n",
       "..                                                 ...  \n",
       "918                                ['android', 'page']  \n",
       "919                                           ['null']  \n",
       "920  ['tip', 'accompanying', 'singer', 'piano', 'ke...  \n",
       "921  ['best', 'iphone', 'plus', 'clear', 'case', 'p...  \n",
       "922  ['jones', 'beach', 'state', 'park', 'deal', 'd...  \n",
       "923  ['clean', 'disk', 'speed', 'system', 'graphic'...  \n",
       "924         ['lesbian', 'straight', 'anti', 'tabloid']  \n",
       "925  ['lara', 'gove', 'background', 'data', 'fact',...  \n",
       "926  ['morning', 'like', 'slow', 'motion', 'everyth...  \n",
       "927  ['world', 'best', 'photo', 'b', 'flickr', 'hiv...  \n",
       "928                         ['com', 'whois', 'lookup']  \n",
       "929  ['meat', 'stuffed', 'flatbread', 'et', 'az', '...  \n",
       "930                                ['release', 'logo']  \n",
       "931  ['beauty', 'product', 'waste', 'money', 'fab',...  \n",
       "932                                                 []  \n",
       "933  ['grammy', 'nominated', 'lady', 'gaga', 'album...  \n",
       "934        ['case', 'motherboard', 'solved', 'system']  \n",
       "935  ['world', 'best', 'photo', 'adenovirus', 'viru...  \n",
       "936       ['ki', 'te', 'te', 'wahine', 'tou', 'dream']  \n",
       "937                        ['palabra', 'franc', 'del']  \n",
       "938  ['world', 'best', 'photo', 'braless', 'outdoor...  \n",
       "939  ['sleeping', 'prophet', 'edgar', 'historic', '...  \n",
       "940     ['bed', 'board', 'uk', 'blu', 'ray', 'review']  \n",
       "941                                        ['spinner']  \n",
       "942  ['three', 'indian', 'ambassador', 'nominated',...  \n",
       "943  ['world', 'best', 'photo', 'sharpie', 'flickr'...  \n",
       "944                                        ['youtube']  \n",
       "945                                 ['diy', 'powered']  \n",
       "946  ['turn', 'sm', 'mm', 'message', 'preview', 'ga...  \n",
       "947  ['shane', 'dawson', 'faq', 'fact', 'rumor', 'l...  \n",
       "\n",
       "[947 rows x 2 columns]"
      ]
     },
     "execution_count": 73,
     "metadata": {},
     "output_type": "execute_result"
    }
   ],
   "source": [
    "dt_v[['title','w2v_vocab_match']].dropna()"
   ]
  },
  {
   "cell_type": "code",
   "execution_count": 77,
   "metadata": {},
   "outputs": [
    {
     "data": {
      "text/plain": [
       "array([ -9.71679688e-02,   2.28271484e-02,   1.64062500e-01,\n",
       "         1.81640625e-01,  -1.39648438e-01,  -4.34570312e-02,\n",
       "         3.71093750e-02,  -1.58203125e-01,   1.83593750e-01,\n",
       "         1.44531250e-01,  -1.33789062e-01,   6.29882812e-02,\n",
       "        -3.63281250e-01,  -3.14941406e-02,   1.12304688e-01,\n",
       "         2.20703125e-01,   2.36328125e-01,   1.64062500e-01,\n",
       "        -3.51562500e-02,  -1.70898438e-01,  -2.38281250e-01,\n",
       "        -1.04003906e-01,   2.55859375e-01,  -8.20312500e-02,\n",
       "        -2.14843750e-01,   1.59179688e-01,  -2.46093750e-01,\n",
       "         2.61718750e-01,   2.83203125e-01,  -2.79296875e-01,\n",
       "        -2.10937500e-01,   3.06640625e-01,  -8.05664062e-02,\n",
       "        -1.48315430e-02,  -2.55859375e-01,  -2.64892578e-02,\n",
       "        -2.12890625e-01,  -1.41601562e-02,   2.40234375e-01,\n",
       "         1.06933594e-01,  -1.80664062e-02,  -1.51367188e-01,\n",
       "         1.34765625e-01,   2.14843750e-01,   2.53906250e-01,\n",
       "        -1.23291016e-02,   6.34765625e-02,  -2.19726562e-01,\n",
       "        -5.85937500e-02,  -2.48046875e-01,   3.36914062e-02,\n",
       "         5.22460938e-02,   2.24609375e-01,   3.37890625e-01,\n",
       "        -1.60156250e-01,   1.71875000e-01,  -1.42578125e-01,\n",
       "        -1.61132812e-01,  -2.20703125e-01,   3.32031250e-02,\n",
       "         4.32128906e-02,   2.17773438e-01,  -1.21093750e-01,\n",
       "         1.68945312e-01,  -3.85742188e-02,  -1.88476562e-01,\n",
       "        -1.28906250e-01,  -1.08398438e-01,  -2.38281250e-01,\n",
       "         2.53906250e-01,   1.52343750e-01,   2.28515625e-01,\n",
       "        -7.37304688e-02,  -3.26171875e-01,  -2.81250000e-01,\n",
       "        -1.43554688e-01,  -1.60156250e-01,  -8.74023438e-02,\n",
       "        -1.42578125e-01,  -2.89062500e-01,  -2.53906250e-01,\n",
       "         2.30468750e-01,   2.35351562e-01,  -1.57226562e-01,\n",
       "         1.21582031e-01,   2.39257812e-01,   3.43750000e-01,\n",
       "         4.66796875e-01,  -2.40234375e-01,   2.92968750e-01,\n",
       "        -3.18908691e-03,   4.02832031e-02,  -1.02539062e-01,\n",
       "         1.63574219e-02,  -6.12792969e-02,  -7.22656250e-02,\n",
       "        -3.28125000e-01,   2.61718750e-01,   4.37500000e-01,\n",
       "         1.60156250e-01,  -6.59179688e-02,   1.02539062e-01,\n",
       "         1.10351562e-01,   9.57031250e-02,   2.83203125e-02,\n",
       "         3.26171875e-01,  -2.52685547e-02,   2.73437500e-01,\n",
       "         2.23632812e-01,   1.17675781e-01,  -4.37500000e-01,\n",
       "        -2.22778320e-03,  -1.11083984e-02,   5.46875000e-02,\n",
       "         4.06250000e-01,   3.75976562e-02,  -4.43359375e-01,\n",
       "        -4.74609375e-01,   1.85546875e-01,  -2.12890625e-01,\n",
       "         8.36181641e-03,   1.53350830e-03,  -4.64843750e-01,\n",
       "         2.55126953e-02,   4.80468750e-01,  -1.49414062e-01,\n",
       "        -3.20312500e-01,  -6.17675781e-02,  -1.12304688e-01,\n",
       "        -2.53906250e-02,  -2.65625000e-01,  -2.50244141e-02,\n",
       "         2.22656250e-01,   1.31225586e-02,  -7.42187500e-02,\n",
       "        -1.50390625e-01,  -1.02050781e-01,   5.02929688e-02,\n",
       "         2.65625000e-01,  -2.57812500e-01,   3.26171875e-01,\n",
       "         3.12500000e-02,  -2.23632812e-01,   2.62451172e-02,\n",
       "        -1.24023438e-01,  -9.32617188e-02,   8.25195312e-02,\n",
       "        -1.71875000e-01,  -3.39843750e-01,  -3.61328125e-01,\n",
       "         4.08203125e-01,  -4.16015625e-01,  -4.76562500e-01,\n",
       "        -1.44531250e-01,  -4.80957031e-02,  -3.47656250e-01,\n",
       "         6.88476562e-02,   2.39257812e-01,  -3.83300781e-02,\n",
       "        -3.56445312e-02,   2.66113281e-02,  -1.02050781e-01,\n",
       "        -4.41406250e-01,  -1.81579590e-03,  -2.08740234e-02,\n",
       "        -1.82617188e-01,   3.32031250e-01,  -4.39453125e-02,\n",
       "        -1.78710938e-01,   9.86328125e-02,  -3.08593750e-01,\n",
       "        -3.57421875e-01,  -4.69970703e-03,  -1.23535156e-01,\n",
       "        -4.76562500e-01,  -2.31445312e-01,   4.72656250e-01,\n",
       "        -6.44531250e-01,   4.82421875e-01,  -2.02148438e-01,\n",
       "        -2.45117188e-01,  -2.79541016e-02,   9.27734375e-02,\n",
       "         3.73535156e-02,   1.38671875e-01,   1.23046875e-01,\n",
       "        -6.44531250e-02,   1.56250000e-01,  -2.46093750e-01,\n",
       "        -2.59765625e-01,  -1.88476562e-01,   1.13281250e-01,\n",
       "        -6.01562500e-01,  -2.75390625e-01,   4.73632812e-02,\n",
       "         5.11718750e-01,  -1.77734375e-01,   1.53320312e-01,\n",
       "         4.78515625e-02,  -2.75390625e-01,   3.95507812e-02,\n",
       "        -8.05664062e-02,  -1.58203125e-01,  -5.76171875e-02,\n",
       "         2.11181641e-02,  -1.58203125e-01,  -1.11816406e-01,\n",
       "        -4.82421875e-01,  -2.11914062e-01,   1.25000000e-01,\n",
       "         9.32617188e-02,   4.06250000e-01,  -1.50390625e-01,\n",
       "        -1.11328125e-01,  -2.35351562e-01,   1.85546875e-01,\n",
       "         1.73828125e-01,  -6.54296875e-02,  -5.35156250e-01,\n",
       "         6.00585938e-02,  -1.60156250e-01,   7.56835938e-03,\n",
       "        -6.54296875e-02,   4.84375000e-01,  -3.65234375e-01,\n",
       "         3.65234375e-01,  -2.43164062e-01,  -6.31713867e-03,\n",
       "        -1.73828125e-01,  -1.85546875e-01,  -9.47265625e-02,\n",
       "        -1.47460938e-01,  -5.02929688e-02,  -3.08593750e-01,\n",
       "         2.27050781e-02,  -5.02929688e-02,   5.46264648e-03,\n",
       "         4.85839844e-02,   1.94335938e-01,   1.46484375e-01,\n",
       "         1.42578125e-01,  -7.71484375e-02,  -2.45117188e-01,\n",
       "        -1.10839844e-01,  -1.69921875e-01,  -1.55273438e-01,\n",
       "        -3.06640625e-01,   1.86523438e-01,  -1.66015625e-01,\n",
       "        -2.00195312e-01,   1.25000000e-01,   1.78710938e-01,\n",
       "         4.29687500e-01,   1.75781250e-01,   1.20605469e-01,\n",
       "        -1.25000000e-01,  -1.14257812e-01,  -2.41210938e-01,\n",
       "         1.85546875e-01,  -1.64062500e-01,   8.05664062e-02,\n",
       "        -1.65039062e-01,  -1.62353516e-02,  -3.32031250e-01,\n",
       "        -2.44140625e-01,   1.63085938e-01,  -1.53320312e-01,\n",
       "        -1.93359375e-01,   5.00488281e-02,  -1.06445312e-01,\n",
       "         7.66601562e-02,  -2.39257812e-02,   9.94873047e-03,\n",
       "         9.03320312e-02,   3.98437500e-01,   4.39453125e-02,\n",
       "         4.08203125e-01,  -1.20605469e-01,  -3.76953125e-01,\n",
       "         3.86718750e-01,  -7.56835938e-02,   1.66015625e-01,\n",
       "        -3.25012207e-03,   2.45117188e-01,   7.81250000e-02,\n",
       "        -5.10253906e-02,   5.61523438e-02,  -2.14843750e-02,\n",
       "         1.35742188e-01,   1.85546875e-01,   1.15234375e-01,\n",
       "         3.45703125e-01,  -9.81445312e-02,  -1.26953125e-01,\n",
       "         2.08007812e-01,  -1.96289062e-01,  -3.55468750e-01,\n",
       "         2.13623047e-02,  -1.03515625e-01,  -4.61578369e-04], dtype=float32)"
      ]
     },
     "execution_count": 77,
     "metadata": {},
     "output_type": "execute_result"
    }
   ],
   "source": [
    "model['samsung']"
   ]
  },
  {
   "cell_type": "markdown",
   "metadata": {},
   "source": [
    "<h3> lets try word vectors on keywords instead of title </h3>"
   ]
  },
  {
   "cell_type": "code",
   "execution_count": 79,
   "metadata": {
    "collapsed": true
   },
   "outputs": [],
   "source": [
    "dt_vectors = []\n",
    "dt_w2v_vocab = []\n",
    "dummy = [0.00] * 300\n",
    "for i in dt['top_3_keyword'].fillna(''):\n",
    "    doc = [word for word in process(i) if word in model.vocab]\n",
    "    if len(set(doc)) == 0:\n",
    "        dt_vectors.append(dummy)\n",
    "        dt_w2v_vocab.append([])\n",
    "    else:\n",
    "        dt_vectors.append(np.mean(model[doc],axis=0))         \n",
    "        dt_w2v_vocab.append([word for word in process(i) if word in model.vocab])"
   ]
  },
  {
   "cell_type": "code",
   "execution_count": 85,
   "metadata": {
    "collapsed": true
   },
   "outputs": [],
   "source": [
    "colname = [\"v_kw_\"+str(i) for i in range(0,300)]\n",
    "dt_vec = pd.DataFrame(dt_vectors,columns = colname)\n",
    "dt_vec1 = pd.DataFrame([str(i) for i in dt_w2v_vocab],columns = ['w2v_kw_vocab_match'])\n",
    "dt_kw_v = dt.join(dt_vec)\n",
    "dt_kw_v = dt_kw_v.join(dt_vec1)\n",
    "dt_kw_v1 = dt_kw_v[(pd.isnull(dt_v.IsProd) == False) & (pd.isnull(dt_v.title) == False) & ( dt_v.top_GL != 'null') & (dt_v['v0'] != 0.0) & (dt_v['v1'] != 0.0) & (dt_v['v2'] != 0.0)]"
   ]
  },
  {
   "cell_type": "code",
   "execution_count": 86,
   "metadata": {
    "collapsed": true
   },
   "outputs": [],
   "source": [
    "colname = [\"v_\"+str(i) for i in range(0,300)]"
   ]
  },
  {
   "cell_type": "code",
   "execution_count": 30,
   "metadata": {},
   "outputs": [
    {
     "data": {
      "text/plain": [
       "948"
      ]
     },
     "execution_count": 30,
     "metadata": {},
     "output_type": "execute_result"
    }
   ],
   "source": [
    "len(dt)"
   ]
  },
  {
   "cell_type": "code",
   "execution_count": null,
   "metadata": {
    "collapsed": true
   },
   "outputs": [],
   "source": []
  }
 ],
 "metadata": {
  "anaconda-cloud": {},
  "kernelspec": {
   "display_name": "Python 2",
   "language": "python",
   "name": "python2"
  },
  "language_info": {
   "codemirror_mode": {
    "name": "ipython",
    "version": 2
   },
   "file_extension": ".py",
   "mimetype": "text/x-python",
   "name": "python",
   "nbconvert_exporter": "python",
   "pygments_lexer": "ipython2",
   "version": "2.7.13"
  }
 },
 "nbformat": 4,
 "nbformat_minor": 1
}
